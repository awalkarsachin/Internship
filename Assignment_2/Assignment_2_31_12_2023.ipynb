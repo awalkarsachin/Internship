{
 "cells": [
  {
   "cell_type": "markdown",
   "id": "c12f0a44",
   "metadata": {},
   "source": [
    "# Assignment 2 (dated - 31.12.2023)\n",
    "\n",
    "### Name - Sachin Subhash Awalkar\n",
    "### Batch Code - DS2312\n",
    "### Subject - Regular Expressions\n",
    "### Submited on - 09.01.2024"
   ]
  },
  {
   "cell_type": "code",
   "execution_count": 1,
   "id": "637be255",
   "metadata": {},
   "outputs": [],
   "source": [
    "# Import necessary libraries to perform all answers\n",
    "\n",
    "import pandas as pd\n",
    "import regex as re"
   ]
  },
  {
   "cell_type": "markdown",
   "id": "1b9fa07f",
   "metadata": {},
   "source": [
    "## Question 1\n",
    "- Write a Python program to replace all occurrences of a space, comma, or dot with a colon.\n",
    "\n",
    "Sample Text- 'Python Exercises, PHP exercises.'\n",
    "\n",
    "**Expected Output:**\n",
    "\n",
    "Python:Exercises::PHP:exercises:"
   ]
  },
  {
   "cell_type": "code",
   "execution_count": 2,
   "id": "29e2f1d3",
   "metadata": {},
   "outputs": [
    {
     "name": "stdout",
     "output_type": "stream",
     "text": [
      "Python:Exercises::PHP:exercises:\n"
     ]
    }
   ],
   "source": [
    "# Answer - 1\n",
    "\n",
    "ques_1 = 'Python Exercises, PHP exercises.'\n",
    "\n",
    "Ans_1 = ques_1.replace(' ', ':').replace(',', ':').replace('.', ':')\n",
    "\n",
    "print(Ans_1)"
   ]
  },
  {
   "cell_type": "code",
   "execution_count": null,
   "id": "9dbf8c18",
   "metadata": {},
   "outputs": [],
   "source": []
  },
  {
   "cell_type": "markdown",
   "id": "57112400",
   "metadata": {},
   "source": [
    "## Question 2\n",
    "\n",
    "-  Create a dataframe using the dictionary below and remove everything (commas (,), !, XXXX, ;, etc.) from the columns except words.\n",
    "\n",
    "Dictionary- {'SUMMARY' : ['hello, world!', 'XXXXX test', '123four, five:; six...']}\n",
    "\n",
    "**Expected output-**\n",
    "\n",
    "0      hello world\n",
    "\n",
    "1             test\n",
    "\n",
    "2    four five six\n"
   ]
  },
  {
   "cell_type": "code",
   "execution_count": 35,
   "id": "642bd2ad",
   "metadata": {},
   "outputs": [
    {
     "name": "stdout",
     "output_type": "stream",
     "text": [
      "         SUMMARY\n",
      "0    hello world\n",
      "1     XXXXX test\n",
      "2  four five six\n"
     ]
    }
   ],
   "source": [
    "# Answer - 2\n",
    "\n",
    "ques_2 = {'SUMMARY' : ['hello, world!', 'XXXXX test', '123four, five:; six...']}\n",
    "\n",
    "Ans_2 = pd.DataFrame(ques_2)\n",
    "\n",
    "Ans_2['SUMMARY'] = Ans_2['SUMMARY'].str.replace('[^a-zA-Z\\s]','', regex = True)\n",
    "\n",
    "print(Ans_2)"
   ]
  },
  {
   "cell_type": "code",
   "execution_count": null,
   "id": "7a415eae",
   "metadata": {},
   "outputs": [],
   "source": []
  },
  {
   "cell_type": "markdown",
   "id": "a1d1ca44",
   "metadata": {},
   "source": [
    "## Question 3\n",
    "- Create a function in python to find all words that are at least 4 characters long in a string. The use of the re.compile() method is mandatory."
   ]
  },
  {
   "cell_type": "code",
   "execution_count": 4,
   "id": "5e15688a",
   "metadata": {},
   "outputs": [],
   "source": [
    "# Answer - 3\n",
    "\n",
    "def find_words(ques_3):\n",
    "    \n",
    "    Ans_3 = re.compile(r'\\b\\w{,4}\\b')\n",
    "    \n",
    "    matches = Ans_3.findall(ques_3)\n",
    "    \n",
    "    return matches"
   ]
  },
  {
   "cell_type": "code",
   "execution_count": null,
   "id": "86132a8e",
   "metadata": {},
   "outputs": [],
   "source": []
  },
  {
   "cell_type": "markdown",
   "id": "ca7a3551",
   "metadata": {},
   "source": [
    "## Question 4\n",
    "- Create a function in python to find all three, four, and five character words in a string. The use of the re.compile() method is mandatory."
   ]
  },
  {
   "cell_type": "code",
   "execution_count": 5,
   "id": "5d7ede17",
   "metadata": {},
   "outputs": [],
   "source": [
    "# Answer - 4\n",
    "\n",
    "def find_words(ques_4):\n",
    "    \n",
    "    Ans_4 = re.compile(r'\\b\\w{3,5}\\b')\n",
    "    \n",
    "    matches = Ans_4.findall(ques_4)\n",
    "    \n",
    "    return matches"
   ]
  },
  {
   "cell_type": "code",
   "execution_count": null,
   "id": "6969511f",
   "metadata": {},
   "outputs": [],
   "source": []
  },
  {
   "cell_type": "markdown",
   "id": "eb89c89b",
   "metadata": {},
   "source": [
    "## Question 5\n",
    "- Create a function in Python to remove the parenthesis in a list of strings. The use of the re.compile() method is mandatory.\n",
    "\n",
    "Sample Text: [\"example (.com)\", \"hr@fliprobo (.com)\", \"github (.com)\", \"Hello (Data Science World)\", \"Data (Scientist)\"]\n",
    "\n",
    "**Expected Output:**\n",
    "\n",
    "example.com\n",
    "\n",
    "hr@fliprobo.com\n",
    "\n",
    "github.com\n",
    "\n",
    "Hello Data Science World\n",
    "\n",
    "Data Scientist\n"
   ]
  },
  {
   "cell_type": "code",
   "execution_count": 6,
   "id": "1e7bdbf5",
   "metadata": {},
   "outputs": [
    {
     "name": "stdout",
     "output_type": "stream",
     "text": [
      "example.com\n",
      "hr@fliprobo.com\n",
      "github.com\n",
      "Hello Data Science World\n",
      "Data Scientist\n"
     ]
    }
   ],
   "source": [
    "# Answer - 5\n",
    "\n",
    "def remove_parenthesis(sample_string):\n",
    "    \n",
    "    pattern = re.compile(r'\\(|\\)')\n",
    "    \n",
    "    output = [pattern.sub(\"\", b) for b in sample_string]\n",
    "\n",
    "    return output\n",
    "\n",
    "sample_text = [\"example(.com)\", \"hr@fliprobo(.com)\", \"github(.com)\", \"Hello (Data Science World)\", \"Data (Scientist)\"]\n",
    "\n",
    "Ans_5 = remove_parenthesis(sample_text)\n",
    "\n",
    "\n",
    "for new_output in Ans_5:\n",
    "    print(new_output)"
   ]
  },
  {
   "cell_type": "code",
   "execution_count": null,
   "id": "a7d6a55f",
   "metadata": {},
   "outputs": [],
   "source": []
  },
  {
   "cell_type": "markdown",
   "id": "526e139e",
   "metadata": {},
   "source": [
    "## Question 6\n",
    "- Write a python program to remove the parenthesis area from the text stored in the text file using Regular Expression.\n",
    "\n",
    "Sample Text: [\"example (.com)\", \"hr@fliprobo (.com)\", \"github (.com)\", \"Hello (Data Science World)\", \"Data (Scientist)\"]\n",
    "\n",
    "**Expected Output:**\n",
    "\n",
    "[\"example\", \"hr@fliprobo\", \"github\", \"Hello\", \"Data\"]\n",
    "\n",
    "Note- Store given sample text in the text file and then to remove the parenthesis area from the text.\n"
   ]
  },
  {
   "cell_type": "code",
   "execution_count": 7,
   "id": "d9e6c667",
   "metadata": {},
   "outputs": [
    {
     "name": "stdout",
     "output_type": "stream",
     "text": [
      "[\"example\", \"hr@fliprobo\", \"github\", \"Hello\", \"Data\"]\n"
     ]
    }
   ],
   "source": [
    "# Answer - 6\n",
    "\n",
    "sample_text = '[\"example (.com)\", \"hr@fliprobo (.com)\", \"github (.com)\", \"Hello (Data Science World)\", \"Data (Scientist)\"]'\n",
    "\n",
    "input_file_path = 'sample_text.txt'\n",
    "\n",
    "with open(input_file_path, 'w') as file:\n",
    "    \n",
    "    file.write(sample_text)\n",
    "\n",
    "with open('sample_text.txt', 'r') as file:\n",
    "    \n",
    "    text = file.read()\n",
    "\n",
    "Ans_6 = re.sub(r\"\\s*\\([^)]*\\)\", \"\", text)\n",
    "\n",
    "print(Ans_6)"
   ]
  },
  {
   "cell_type": "code",
   "execution_count": null,
   "id": "a3a5c1f3",
   "metadata": {},
   "outputs": [],
   "source": []
  },
  {
   "cell_type": "markdown",
   "id": "c6cdbcce",
   "metadata": {},
   "source": [
    "## Question 7\n",
    "- Write a regular expression in Python to split a string into uppercase letters.\n",
    "\n",
    "Sample text: “ImportanceOfRegularExpressionsInPython”\n",
    "\n",
    "**Expected Output:**\n",
    "\n",
    "[‘Importance’, ‘Of’, ‘Regular’, ‘Expression’, ‘In’, ‘Python’]"
   ]
  },
  {
   "cell_type": "code",
   "execution_count": 8,
   "id": "799a5dc6",
   "metadata": {},
   "outputs": [
    {
     "name": "stdout",
     "output_type": "stream",
     "text": [
      "['Importance', 'Of', 'Regular', 'Expressions', 'In', 'Python']\n"
     ]
    }
   ],
   "source": [
    "# Answer - 7\n",
    "\n",
    "def split_uppercase_string(ques_7):\n",
    "    \n",
    "    pattern = re.compile(r'[A-Z][a-z]*')\n",
    "\n",
    "    \n",
    "    result = pattern.findall(ques_7)\n",
    "\n",
    "    return result\n",
    "\n",
    "\n",
    "sample_text = \"ImportanceOfRegularExpressionsInPython\"\n",
    "\n",
    "\n",
    "Ans_7 = split_uppercase_string(sample_text)\n",
    "\n",
    "\n",
    "print(Ans_7)"
   ]
  },
  {
   "cell_type": "code",
   "execution_count": null,
   "id": "0fead206",
   "metadata": {},
   "outputs": [],
   "source": []
  },
  {
   "cell_type": "markdown",
   "id": "bcf4cc05",
   "metadata": {},
   "source": [
    "## Question 8\n",
    "- Create a function in python to insert spaces between words starting with numbers.\n",
    "\n",
    "Sample Text: “RegularExpression1IsAn2ImportantTopic3InPython\"\n",
    "\n",
    "**Expected Output:**\n",
    "\n",
    "RegularExpression 1IsAn 2ImportantTopic 3InPython\n"
   ]
  },
  {
   "cell_type": "code",
   "execution_count": 9,
   "id": "f4147447",
   "metadata": {},
   "outputs": [
    {
     "name": "stdout",
     "output_type": "stream",
     "text": [
      "RegularExpression 1IsAn 2ImportantTopic 3InPython\n"
     ]
    }
   ],
   "source": [
    "# Answer - 8\n",
    "\n",
    "def insert_spaces(ques_8):\n",
    "    pattern = r'(\\d+)([A-Za-z]+)'\n",
    "    output = re.sub(pattern, r' \\1\\2', ques_8)\n",
    "    return output\n",
    "\n",
    "ques_8 = \"RegularExpression1IsAn2ImportantTopic3InPython\"\n",
    "\n",
    "Ans_8 = insert_spaces(ques_8)\n",
    "\n",
    "print(Ans_8)"
   ]
  },
  {
   "cell_type": "code",
   "execution_count": null,
   "id": "3d5e1d58",
   "metadata": {},
   "outputs": [],
   "source": []
  },
  {
   "cell_type": "markdown",
   "id": "aea47cc1",
   "metadata": {},
   "source": [
    "## Question 9\n",
    "- Create a function in python to insert spaces between words starting with capital letters or with numbers.\n",
    "\n",
    "Sample Text: “RegularExpression1IsAn2ImportantTopic3InPython\"\n",
    "\n",
    "**Expected Output:**\n",
    "\n",
    "RegularExpression 1 IsAn 2 ImportantTopic 3 InPython"
   ]
  },
  {
   "cell_type": "code",
   "execution_count": 10,
   "id": "137dc878",
   "metadata": {},
   "outputs": [
    {
     "name": "stdout",
     "output_type": "stream",
     "text": [
      "RegularExpression 1 IsAn 2 ImportantTopic 3 InPython\n"
     ]
    }
   ],
   "source": [
    "# Answer - 9\n",
    "\n",
    "def insert_spaces(ques_9):\n",
    "    pattern = r'(\\d)([A-Za-z])'\n",
    "    output = re.sub(pattern, r' \\1 \\2', ques_9)\n",
    "    return output\n",
    "\n",
    "ques_9 = \"RegularExpression1IsAn2ImportantTopic3InPython\"\n",
    "\n",
    "Ans_9 = insert_spaces(ques_9)\n",
    "\n",
    "print(Ans_9)"
   ]
  },
  {
   "cell_type": "code",
   "execution_count": null,
   "id": "b1a9794d",
   "metadata": {},
   "outputs": [],
   "source": []
  },
  {
   "cell_type": "markdown",
   "id": "a2b2f479",
   "metadata": {},
   "source": [
    "## Question 10\n",
    "- Use the github link below to read the data and create a dataframe. After creating the dataframe extract the first 6 letters of each country and store in the dataframe under a new column called first_five_letters.\n",
    "\n",
    "**Github Link-**\n",
    "\n",
    "https://raw.githubusercontent.com/dsrscientist/DSData/master/happiness_score_dataset.csv\n"
   ]
  },
  {
   "cell_type": "code",
   "execution_count": 11,
   "id": "6e368bf4",
   "metadata": {},
   "outputs": [
    {
     "data": {
      "text/html": [
       "<div>\n",
       "<style scoped>\n",
       "    .dataframe tbody tr th:only-of-type {\n",
       "        vertical-align: middle;\n",
       "    }\n",
       "\n",
       "    .dataframe tbody tr th {\n",
       "        vertical-align: top;\n",
       "    }\n",
       "\n",
       "    .dataframe thead th {\n",
       "        text-align: right;\n",
       "    }\n",
       "</style>\n",
       "<table border=\"1\" class=\"dataframe\">\n",
       "  <thead>\n",
       "    <tr style=\"text-align: right;\">\n",
       "      <th></th>\n",
       "      <th>Country</th>\n",
       "      <th>Region</th>\n",
       "      <th>Happiness Rank</th>\n",
       "      <th>Happiness Score</th>\n",
       "      <th>Standard Error</th>\n",
       "      <th>Economy (GDP per Capita)</th>\n",
       "      <th>Family</th>\n",
       "      <th>Health (Life Expectancy)</th>\n",
       "      <th>Freedom</th>\n",
       "      <th>Trust (Government Corruption)</th>\n",
       "      <th>Generosity</th>\n",
       "      <th>Dystopia Residual</th>\n",
       "      <th>first_five_letters</th>\n",
       "    </tr>\n",
       "  </thead>\n",
       "  <tbody>\n",
       "    <tr>\n",
       "      <th>0</th>\n",
       "      <td>Switzerland</td>\n",
       "      <td>Western Europe</td>\n",
       "      <td>1</td>\n",
       "      <td>7.587</td>\n",
       "      <td>0.03411</td>\n",
       "      <td>1.39651</td>\n",
       "      <td>1.34951</td>\n",
       "      <td>0.94143</td>\n",
       "      <td>0.66557</td>\n",
       "      <td>0.41978</td>\n",
       "      <td>0.29678</td>\n",
       "      <td>2.51738</td>\n",
       "      <td>Switze</td>\n",
       "    </tr>\n",
       "    <tr>\n",
       "      <th>1</th>\n",
       "      <td>Iceland</td>\n",
       "      <td>Western Europe</td>\n",
       "      <td>2</td>\n",
       "      <td>7.561</td>\n",
       "      <td>0.04884</td>\n",
       "      <td>1.30232</td>\n",
       "      <td>1.40223</td>\n",
       "      <td>0.94784</td>\n",
       "      <td>0.62877</td>\n",
       "      <td>0.14145</td>\n",
       "      <td>0.43630</td>\n",
       "      <td>2.70201</td>\n",
       "      <td>Icelan</td>\n",
       "    </tr>\n",
       "    <tr>\n",
       "      <th>2</th>\n",
       "      <td>Denmark</td>\n",
       "      <td>Western Europe</td>\n",
       "      <td>3</td>\n",
       "      <td>7.527</td>\n",
       "      <td>0.03328</td>\n",
       "      <td>1.32548</td>\n",
       "      <td>1.36058</td>\n",
       "      <td>0.87464</td>\n",
       "      <td>0.64938</td>\n",
       "      <td>0.48357</td>\n",
       "      <td>0.34139</td>\n",
       "      <td>2.49204</td>\n",
       "      <td>Denmar</td>\n",
       "    </tr>\n",
       "    <tr>\n",
       "      <th>3</th>\n",
       "      <td>Norway</td>\n",
       "      <td>Western Europe</td>\n",
       "      <td>4</td>\n",
       "      <td>7.522</td>\n",
       "      <td>0.03880</td>\n",
       "      <td>1.45900</td>\n",
       "      <td>1.33095</td>\n",
       "      <td>0.88521</td>\n",
       "      <td>0.66973</td>\n",
       "      <td>0.36503</td>\n",
       "      <td>0.34699</td>\n",
       "      <td>2.46531</td>\n",
       "      <td>Norway</td>\n",
       "    </tr>\n",
       "    <tr>\n",
       "      <th>4</th>\n",
       "      <td>Canada</td>\n",
       "      <td>North America</td>\n",
       "      <td>5</td>\n",
       "      <td>7.427</td>\n",
       "      <td>0.03553</td>\n",
       "      <td>1.32629</td>\n",
       "      <td>1.32261</td>\n",
       "      <td>0.90563</td>\n",
       "      <td>0.63297</td>\n",
       "      <td>0.32957</td>\n",
       "      <td>0.45811</td>\n",
       "      <td>2.45176</td>\n",
       "      <td>Canada</td>\n",
       "    </tr>\n",
       "    <tr>\n",
       "      <th>...</th>\n",
       "      <td>...</td>\n",
       "      <td>...</td>\n",
       "      <td>...</td>\n",
       "      <td>...</td>\n",
       "      <td>...</td>\n",
       "      <td>...</td>\n",
       "      <td>...</td>\n",
       "      <td>...</td>\n",
       "      <td>...</td>\n",
       "      <td>...</td>\n",
       "      <td>...</td>\n",
       "      <td>...</td>\n",
       "      <td>...</td>\n",
       "    </tr>\n",
       "    <tr>\n",
       "      <th>153</th>\n",
       "      <td>Rwanda</td>\n",
       "      <td>Sub-Saharan Africa</td>\n",
       "      <td>154</td>\n",
       "      <td>3.465</td>\n",
       "      <td>0.03464</td>\n",
       "      <td>0.22208</td>\n",
       "      <td>0.77370</td>\n",
       "      <td>0.42864</td>\n",
       "      <td>0.59201</td>\n",
       "      <td>0.55191</td>\n",
       "      <td>0.22628</td>\n",
       "      <td>0.67042</td>\n",
       "      <td>Rwanda</td>\n",
       "    </tr>\n",
       "    <tr>\n",
       "      <th>154</th>\n",
       "      <td>Benin</td>\n",
       "      <td>Sub-Saharan Africa</td>\n",
       "      <td>155</td>\n",
       "      <td>3.340</td>\n",
       "      <td>0.03656</td>\n",
       "      <td>0.28665</td>\n",
       "      <td>0.35386</td>\n",
       "      <td>0.31910</td>\n",
       "      <td>0.48450</td>\n",
       "      <td>0.08010</td>\n",
       "      <td>0.18260</td>\n",
       "      <td>1.63328</td>\n",
       "      <td>Benin</td>\n",
       "    </tr>\n",
       "    <tr>\n",
       "      <th>155</th>\n",
       "      <td>Syria</td>\n",
       "      <td>Middle East and Northern Africa</td>\n",
       "      <td>156</td>\n",
       "      <td>3.006</td>\n",
       "      <td>0.05015</td>\n",
       "      <td>0.66320</td>\n",
       "      <td>0.47489</td>\n",
       "      <td>0.72193</td>\n",
       "      <td>0.15684</td>\n",
       "      <td>0.18906</td>\n",
       "      <td>0.47179</td>\n",
       "      <td>0.32858</td>\n",
       "      <td>Syria</td>\n",
       "    </tr>\n",
       "    <tr>\n",
       "      <th>156</th>\n",
       "      <td>Burundi</td>\n",
       "      <td>Sub-Saharan Africa</td>\n",
       "      <td>157</td>\n",
       "      <td>2.905</td>\n",
       "      <td>0.08658</td>\n",
       "      <td>0.01530</td>\n",
       "      <td>0.41587</td>\n",
       "      <td>0.22396</td>\n",
       "      <td>0.11850</td>\n",
       "      <td>0.10062</td>\n",
       "      <td>0.19727</td>\n",
       "      <td>1.83302</td>\n",
       "      <td>Burund</td>\n",
       "    </tr>\n",
       "    <tr>\n",
       "      <th>157</th>\n",
       "      <td>Togo</td>\n",
       "      <td>Sub-Saharan Africa</td>\n",
       "      <td>158</td>\n",
       "      <td>2.839</td>\n",
       "      <td>0.06727</td>\n",
       "      <td>0.20868</td>\n",
       "      <td>0.13995</td>\n",
       "      <td>0.28443</td>\n",
       "      <td>0.36453</td>\n",
       "      <td>0.10731</td>\n",
       "      <td>0.16681</td>\n",
       "      <td>1.56726</td>\n",
       "      <td>Togo</td>\n",
       "    </tr>\n",
       "  </tbody>\n",
       "</table>\n",
       "<p>158 rows × 13 columns</p>\n",
       "</div>"
      ],
      "text/plain": [
       "         Country                           Region  Happiness Rank  \\\n",
       "0    Switzerland                   Western Europe               1   \n",
       "1        Iceland                   Western Europe               2   \n",
       "2        Denmark                   Western Europe               3   \n",
       "3         Norway                   Western Europe               4   \n",
       "4         Canada                    North America               5   \n",
       "..           ...                              ...             ...   \n",
       "153       Rwanda               Sub-Saharan Africa             154   \n",
       "154        Benin               Sub-Saharan Africa             155   \n",
       "155        Syria  Middle East and Northern Africa             156   \n",
       "156      Burundi               Sub-Saharan Africa             157   \n",
       "157         Togo               Sub-Saharan Africa             158   \n",
       "\n",
       "     Happiness Score  Standard Error  Economy (GDP per Capita)   Family  \\\n",
       "0              7.587         0.03411                   1.39651  1.34951   \n",
       "1              7.561         0.04884                   1.30232  1.40223   \n",
       "2              7.527         0.03328                   1.32548  1.36058   \n",
       "3              7.522         0.03880                   1.45900  1.33095   \n",
       "4              7.427         0.03553                   1.32629  1.32261   \n",
       "..               ...             ...                       ...      ...   \n",
       "153            3.465         0.03464                   0.22208  0.77370   \n",
       "154            3.340         0.03656                   0.28665  0.35386   \n",
       "155            3.006         0.05015                   0.66320  0.47489   \n",
       "156            2.905         0.08658                   0.01530  0.41587   \n",
       "157            2.839         0.06727                   0.20868  0.13995   \n",
       "\n",
       "     Health (Life Expectancy)  Freedom  Trust (Government Corruption)  \\\n",
       "0                     0.94143  0.66557                        0.41978   \n",
       "1                     0.94784  0.62877                        0.14145   \n",
       "2                     0.87464  0.64938                        0.48357   \n",
       "3                     0.88521  0.66973                        0.36503   \n",
       "4                     0.90563  0.63297                        0.32957   \n",
       "..                        ...      ...                            ...   \n",
       "153                   0.42864  0.59201                        0.55191   \n",
       "154                   0.31910  0.48450                        0.08010   \n",
       "155                   0.72193  0.15684                        0.18906   \n",
       "156                   0.22396  0.11850                        0.10062   \n",
       "157                   0.28443  0.36453                        0.10731   \n",
       "\n",
       "     Generosity  Dystopia Residual first_five_letters  \n",
       "0       0.29678            2.51738             Switze  \n",
       "1       0.43630            2.70201             Icelan  \n",
       "2       0.34139            2.49204             Denmar  \n",
       "3       0.34699            2.46531             Norway  \n",
       "4       0.45811            2.45176             Canada  \n",
       "..          ...                ...                ...  \n",
       "153     0.22628            0.67042             Rwanda  \n",
       "154     0.18260            1.63328              Benin  \n",
       "155     0.47179            0.32858              Syria  \n",
       "156     0.19727            1.83302             Burund  \n",
       "157     0.16681            1.56726               Togo  \n",
       "\n",
       "[158 rows x 13 columns]"
      ]
     },
     "execution_count": 11,
     "metadata": {},
     "output_type": "execute_result"
    }
   ],
   "source": [
    "# Answer - 10\n",
    "\n",
    "file = \"https://raw.githubusercontent.com/dsrscientist/DSData/master/happiness_score_dataset.csv\"\n",
    "\n",
    "Ans_10 = pd.read_csv(file)\n",
    "\n",
    "Ans_10['first_five_letters'] = Ans_10['Country'].str[:6]\n",
    "\n",
    "Ans_10"
   ]
  },
  {
   "cell_type": "code",
   "execution_count": null,
   "id": "2d4a9fc1",
   "metadata": {},
   "outputs": [],
   "source": []
  },
  {
   "cell_type": "markdown",
   "id": "e52a9fa4",
   "metadata": {},
   "source": [
    "## Question 11\n",
    "- Write a Python program to match a string that contains only upper and lowercase letters, numbers, and underscores."
   ]
  },
  {
   "cell_type": "code",
   "execution_count": 12,
   "id": "7aa4af58",
   "metadata": {},
   "outputs": [
    {
     "name": "stdout",
     "output_type": "stream",
     "text": [
      "Match Found\n",
      "Match Not Found\n"
     ]
    }
   ],
   "source": [
    "# Answer - 11\n",
    "\n",
    "def string_contains(ques_11):\n",
    "    \n",
    "    pattern = r'^[a-zA-Z0-9_]+$'\n",
    "    \n",
    "    if re.match(pattern, ques_11):\n",
    "        \n",
    "        print(\"Match Found\")\n",
    "    \n",
    "    else:\n",
    "        \n",
    "        print(\"Match Not Found\")\n",
    "        \n",
    "string_contains(\"Happy_New_Year_2024\")\n",
    "\n",
    "string_contains(\"Happy New Year\")"
   ]
  },
  {
   "cell_type": "code",
   "execution_count": null,
   "id": "c769c947",
   "metadata": {},
   "outputs": [],
   "source": []
  },
  {
   "cell_type": "markdown",
   "id": "95029569",
   "metadata": {},
   "source": [
    "## Question 12\n",
    "- Write a Python program where a string will start with a specific number. "
   ]
  },
  {
   "cell_type": "code",
   "execution_count": 13,
   "id": "e7baf3a2",
   "metadata": {},
   "outputs": [
    {
     "name": "stdout",
     "output_type": "stream",
     "text": [
      "Given string starts with the specific number.\n"
     ]
    }
   ],
   "source": [
    "# Answer - 12\n",
    "\n",
    "def ques_12(string, number):\n",
    "    if string.startswith(str(number)):\n",
    "        return True\n",
    "    else:\n",
    "        return False\n",
    "\n",
    "string = \"123abc\"\n",
    "\n",
    "number = 123\n",
    "\n",
    "if ques_12(string, number):\n",
    "    \n",
    "    print(\"Given string starts with the specific number.\")\n",
    "    \n",
    "else:\n",
    "    \n",
    "    print(\"Given string does not starts with the specific number.\")"
   ]
  },
  {
   "cell_type": "code",
   "execution_count": null,
   "id": "7428a857",
   "metadata": {},
   "outputs": [],
   "source": []
  },
  {
   "cell_type": "markdown",
   "id": "01b8a787",
   "metadata": {},
   "source": [
    "## Question 13\n",
    "- Write a Python program to remove leading zeros from an IP address"
   ]
  },
  {
   "cell_type": "code",
   "execution_count": 14,
   "id": "4e2f1a91",
   "metadata": {},
   "outputs": [
    {
     "name": "stdout",
     "output_type": "stream",
     "text": [
      "216.8.94.196\n"
     ]
    }
   ],
   "source": [
    "# Answer - 12\n",
    "\n",
    "IP_address = \"216.08.094.196\"\n",
    "\n",
    "Ans_13 = re.sub('\\.[0]*', '.', IP_address)\n",
    "\n",
    "print(Ans_13)"
   ]
  },
  {
   "cell_type": "code",
   "execution_count": null,
   "id": "3ed81884",
   "metadata": {},
   "outputs": [],
   "source": []
  },
  {
   "cell_type": "markdown",
   "id": "fec1b80b",
   "metadata": {},
   "source": [
    "## Question 14\n",
    "- Write a regular expression in python to match a date string in the form of Month name followed by day number and year stored in a text file.\n",
    "\n",
    "Sample text :  ' On August 15th 1947 that India was declared independent from British colonialism, and the reins of control were handed over to the leaders of the Country’.\n",
    "\n",
    "**Expected Output-**\n",
    "\n",
    "August 15th 1947\n",
    "\n",
    "Note- Store given sample text in the text file and then extract the date string asked format.\n"
   ]
  },
  {
   "cell_type": "code",
   "execution_count": 15,
   "id": "67e081f7",
   "metadata": {},
   "outputs": [
    {
     "name": "stdout",
     "output_type": "stream",
     "text": [
      "['August 15th 1947']\n"
     ]
    }
   ],
   "source": [
    "# Answer - 14\n",
    "\n",
    "ques_14 = \"On August 15th 1947 that India was declared independent from British colonialism, and the reins of control were handed over to the leaders of the Country.\"\n",
    "\n",
    "pattern = r'(\\b[A-Za-z]+ \\d{1,2}(?:st|nd|rd|th)? \\d{4}\\b)'\n",
    "\n",
    "Ans_14 = re.findall(pattern, ques_14)\n",
    "\n",
    "print(Ans_14)"
   ]
  },
  {
   "cell_type": "code",
   "execution_count": null,
   "id": "81d3f92c",
   "metadata": {},
   "outputs": [],
   "source": []
  },
  {
   "cell_type": "markdown",
   "id": "e55d3aa1",
   "metadata": {},
   "source": [
    "## Question 15\n",
    "- Write a Python program to search some literals strings in a string. \n",
    "\n",
    "Sample text : 'The quick brown fox jumps over the lazy dog.'\n",
    "\n",
    "Searched words : 'fox', 'dog', 'horse'\n"
   ]
  },
  {
   "cell_type": "code",
   "execution_count": 16,
   "id": "fef3ad4d",
   "metadata": {},
   "outputs": [
    {
     "name": "stdout",
     "output_type": "stream",
     "text": [
      "\n",
      "Searching pattern for \"fox\" in \"The quick brown fox jumps over the lazy dog.\" ==>>\n",
      "\n",
      "Match Found\n",
      "\n",
      "Searching pattern for \"dog\" in \"The quick brown fox jumps over the lazy dog.\" ==>>\n",
      "\n",
      "Match Found\n",
      "\n",
      "Searching pattern for \"horse\" in \"The quick brown fox jumps over the lazy dog.\" ==>>\n",
      "\n",
      "No Match Found\n"
     ]
    }
   ],
   "source": [
    "# Answer - 15\n",
    "\n",
    "patterns = [ 'fox', 'dog', 'horse' ]\n",
    "\n",
    "ques_15 = 'The quick brown fox jumps over the lazy dog.'\n",
    "\n",
    "for pattern in patterns:\n",
    "    \n",
    "    print('\\nSearching pattern for \"%s\" in \"%s\" ==>>' % (pattern, ques_15),)\n",
    "    \n",
    "    if re.search(pattern, ques_15):\n",
    "        \n",
    "        print('\\nMatch Found')\n",
    "        \n",
    "    else:\n",
    "        \n",
    "        print('\\nNo Match Found')"
   ]
  },
  {
   "cell_type": "code",
   "execution_count": null,
   "id": "f9ab6ea2",
   "metadata": {},
   "outputs": [],
   "source": []
  },
  {
   "cell_type": "markdown",
   "id": "787f5f0b",
   "metadata": {},
   "source": [
    "## Question 16\n",
    "- Write a Python program to search a literals string in a string and also find the location within the original string where the pattern occurs\n",
    "\n",
    "Sample text : 'The quick brown fox jumps over the lazy dog.'\n",
    "\n",
    "**Searched words :** 'fox'\n"
   ]
  },
  {
   "cell_type": "code",
   "execution_count": 17,
   "id": "b3ba6777",
   "metadata": {},
   "outputs": [
    {
     "name": "stdout",
     "output_type": "stream",
     "text": [
      "Found \"fox\" in \"The quick brown fox jumps over the lazy dog.\" from 16 to 19 \n"
     ]
    }
   ],
   "source": [
    "# Answer - 16\n",
    "\n",
    "pattern = 'fox'\n",
    "\n",
    "ques_16 = 'The quick brown fox jumps over the lazy dog.'\n",
    "\n",
    "match = re.search(pattern, ques_16)\n",
    "\n",
    "start = match.start()\n",
    "\n",
    "end = match.end()\n",
    "\n",
    "print('Found \"%s\" in \"%s\" from %d to %d ' % \\\n",
    "      (match.re.pattern, match.string, start, end))"
   ]
  },
  {
   "cell_type": "code",
   "execution_count": null,
   "id": "7859ed4d",
   "metadata": {},
   "outputs": [],
   "source": []
  },
  {
   "cell_type": "markdown",
   "id": "389dcdf4",
   "metadata": {},
   "source": [
    "## Question 17\n",
    "- Write a Python program to find the substrings within a string.\n",
    "\n",
    "Sample text : 'Python exercises, PHP exercises, C# exercises'\n",
    "\n",
    "**Pattern :** 'exercises'."
   ]
  },
  {
   "cell_type": "code",
   "execution_count": 18,
   "id": "9a4cb38d",
   "metadata": {},
   "outputs": [
    {
     "name": "stdout",
     "output_type": "stream",
     "text": [
      "Found pattern \"exercises\"\n",
      "Found pattern \"exercises\"\n",
      "Found pattern \"exercises\"\n"
     ]
    }
   ],
   "source": [
    "# Answer - 17\n",
    "\n",
    "ques_17 = 'Python exercises, PHP exercises, C# exercises'\n",
    "\n",
    "pattern = 'exercises'\n",
    "\n",
    "for match in re.findall(pattern, ques_17):\n",
    "    \n",
    "    print('Found pattern \"%s\"' % match)"
   ]
  },
  {
   "cell_type": "code",
   "execution_count": null,
   "id": "30bb1089",
   "metadata": {},
   "outputs": [],
   "source": []
  },
  {
   "cell_type": "markdown",
   "id": "06efb0f4",
   "metadata": {},
   "source": [
    "## Question 18\n",
    "- Write a Python program to find the occurrence and position of the substrings within a string."
   ]
  },
  {
   "cell_type": "code",
   "execution_count": 19,
   "id": "5b033135",
   "metadata": {},
   "outputs": [
    {
     "name": "stdout",
     "output_type": "stream",
     "text": [
      "Found \"exercises\" at 7:16\n",
      "Found \"exercises\" at 22:31\n",
      "Found \"exercises\" at 36:45\n"
     ]
    }
   ],
   "source": [
    "# Answer - 18\n",
    "\n",
    "ques_18 = 'Python exercises, PHP exercises, C# exercises'\n",
    "\n",
    "pattern = 'exercises'\n",
    "\n",
    "for match in re.finditer(pattern, ques_18):\n",
    "    \n",
    "    start = match.start()\n",
    "    end   = match.end()\n",
    "    \n",
    "    print('Found \"%s\" at %d:%d' % (ques_18[start:end], start, end))"
   ]
  },
  {
   "cell_type": "code",
   "execution_count": null,
   "id": "cece1f85",
   "metadata": {},
   "outputs": [],
   "source": []
  },
  {
   "cell_type": "markdown",
   "id": "bfa2e5ca",
   "metadata": {},
   "source": [
    "## Question 19\n",
    "- Write a Python program to convert a date of yyyy-mm-dd format to dd-mm-yyyy format."
   ]
  },
  {
   "cell_type": "code",
   "execution_count": 20,
   "id": "70f4831d",
   "metadata": {},
   "outputs": [
    {
     "name": "stdout",
     "output_type": "stream",
     "text": [
      "Original date in YYY-MM-DD Format:  2023-12-31\n",
      "New date in DD-MM-YYYY Format:  31-12-2023\n"
     ]
    }
   ],
   "source": [
    "# Answer - 19\n",
    "\n",
    "def change_date_format(ques_19):\n",
    "    \n",
    "        return re.sub(r'(\\d{4})-(\\d{1,2})-(\\d{1,2})', '\\\\3-\\\\2-\\\\1', ques_19)\n",
    "    \n",
    "Ans_19 = \"2023-12-31\"\n",
    "\n",
    "print(\"Original date in YYY-MM-DD Format: \",Ans_19)\n",
    "\n",
    "print(\"New date in DD-MM-YYYY Format: \",change_date_format(Ans_19))"
   ]
  },
  {
   "cell_type": "code",
   "execution_count": null,
   "id": "026141fe",
   "metadata": {},
   "outputs": [],
   "source": []
  },
  {
   "cell_type": "markdown",
   "id": "35ea734f",
   "metadata": {},
   "source": [
    "## Question 20\n",
    "- Create a function in python to find all decimal numbers with a precision of 1 or 2 in a string. The use of the re.compile() method is mandatory.\n",
    "\n",
    "Sample Text: \"01.12 0132.123 2.31875 145.8 3.01 27.25 0.25\"\n",
    "\n",
    "**Expected Output:**\n",
    "\n",
    "['01.12', '145.8', '3.01', '27.25', '0.25']"
   ]
  },
  {
   "cell_type": "code",
   "execution_count": 21,
   "id": "0a9da7cd",
   "metadata": {},
   "outputs": [
    {
     "name": "stdout",
     "output_type": "stream",
     "text": [
      "['01.12', '145.8', '3.01', '27.25', '0.25']\n"
     ]
    }
   ],
   "source": [
    "# Answer - 20\n",
    "\n",
    "def find_all_decimal_numbers(ques_20):\n",
    "    \n",
    "    pattern = re.compile(r'\\b\\d+\\.\\d{1,2}\\b')\n",
    "    \n",
    "    decimal_numbers = re.findall(pattern, ques_20)\n",
    "    \n",
    "    return decimal_numbers\n",
    "\n",
    "sample_text = \"01.12 0132.123 2.31875 145.8 3.01 27.25 0.25\"\n",
    "\n",
    "Ans_20 = find_all_decimal_numbers(sample_text)\n",
    "\n",
    "print(Ans_20)"
   ]
  },
  {
   "cell_type": "code",
   "execution_count": null,
   "id": "f6182f4d",
   "metadata": {},
   "outputs": [],
   "source": []
  },
  {
   "cell_type": "markdown",
   "id": "3a75a6ac",
   "metadata": {},
   "source": [
    "## Question 21\n",
    "- Write a Python program to separate and print the numbers and their position of a given string."
   ]
  },
  {
   "cell_type": "code",
   "execution_count": 22,
   "id": "cc36730c",
   "metadata": {},
   "outputs": [
    {
     "name": "stdout",
     "output_type": "stream",
     "text": [
      "50\n",
      "Index position: 62\n"
     ]
    }
   ],
   "source": [
    "# Answer - 21\n",
    "\n",
    "ques_21 = \"The following example creates an ArrayList with a capacity of 50 elements. Four elements are then added to the ArrayList and the ArrayList is trimmed accordingly.\"\n",
    "\n",
    "for Ans_21 in re.finditer(\"\\d+\", ques_21):\n",
    "\n",
    "    print(Ans_21.group(0))\n",
    "    \n",
    "    print(\"Index position:\", Ans_21.start())"
   ]
  },
  {
   "cell_type": "code",
   "execution_count": null,
   "id": "9fd0695d",
   "metadata": {},
   "outputs": [],
   "source": []
  },
  {
   "cell_type": "markdown",
   "id": "d820d640",
   "metadata": {},
   "source": [
    "## Question 22\n",
    "- Write a regular expression in python program to extract maximum/largest numeric value from a string."
   ]
  },
  {
   "cell_type": "code",
   "execution_count": 23,
   "id": "7636cf53",
   "metadata": {},
   "outputs": [
    {
     "name": "stdout",
     "output_type": "stream",
     "text": [
      "950\n"
     ]
    }
   ],
   "source": [
    "# Answer - 22\n",
    "\n",
    "ques_22 = 'My marks in each semester are: 947, 896, 926, 524, 734, 950, 642'\n",
    "\n",
    "numeric_value = re.findall(r'\\d+', ques_22)\n",
    "numeric_value = [int(value) for value in numeric_value]\n",
    "\n",
    "max_numeric_value = max(numeric_value)\n",
    "\n",
    "print(max_numeric_value)"
   ]
  },
  {
   "cell_type": "code",
   "execution_count": null,
   "id": "0deafbcc",
   "metadata": {},
   "outputs": [],
   "source": []
  },
  {
   "cell_type": "markdown",
   "id": "2e852eee",
   "metadata": {},
   "source": [
    "## Question 23\n",
    "- Create a function in python to insert spaces between words starting with capital letters.\n",
    "\n",
    "Sample Text: “RegularExpressionIsAnImportantTopicInPython\"\n",
    "\n",
    "**Expected Output:**\n",
    "\n",
    "Regular Expression Is An Important Topic In Python"
   ]
  },
  {
   "cell_type": "code",
   "execution_count": 24,
   "id": "ae0369fa",
   "metadata": {},
   "outputs": [
    {
     "name": "stdout",
     "output_type": "stream",
     "text": [
      "Regular Expression Is An Important Topic In Python\n"
     ]
    }
   ],
   "source": [
    "# Answer - 23\n",
    "\n",
    "def insert_spaces(ques_23):\n",
    "    \n",
    "    pattern = r'([A-Z][a-z]+)'\n",
    "    \n",
    "    result = re.sub(pattern, r' \\1', ques_23)\n",
    "    \n",
    "    result = result.strip()\n",
    "    \n",
    "    return result\n",
    "\n",
    "sample_text = \"RegularExpressionIsAnImportantTopicInPython\"\n",
    "\n",
    "Ans_23 = insert_spaces(sample_text)\n",
    "\n",
    "print(Ans_23)"
   ]
  },
  {
   "cell_type": "code",
   "execution_count": null,
   "id": "bae02b97",
   "metadata": {},
   "outputs": [],
   "source": []
  },
  {
   "cell_type": "markdown",
   "id": "fe2bad2e",
   "metadata": {},
   "source": [
    "## Question 24\n",
    "- Python regex to find sequences of one upper case letter followed by lower case letters"
   ]
  },
  {
   "cell_type": "code",
   "execution_count": 25,
   "id": "01bcf106",
   "metadata": {},
   "outputs": [
    {
     "name": "stdout",
     "output_type": "stream",
     "text": [
      "\n",
      "Match Found\n",
      "\n",
      "No Match Found\n"
     ]
    }
   ],
   "source": [
    "# Answer - 24\n",
    "\n",
    "def match_pattern(ques_24):\n",
    "    \n",
    "        pattern = '[A-Z]+[a-z]'\n",
    "        \n",
    "        if re.search(pattern, ques_24):\n",
    "            \n",
    "                return ('\\nMatch Found')\n",
    "        else:\n",
    "                return('\\nNo Match Found')\n",
    "            \n",
    "print(match_pattern(\"India\"))\n",
    "\n",
    "print(match_pattern(\"INDIA\"))"
   ]
  },
  {
   "cell_type": "code",
   "execution_count": null,
   "id": "a3c151f4",
   "metadata": {},
   "outputs": [],
   "source": []
  },
  {
   "cell_type": "markdown",
   "id": "0e272ec9",
   "metadata": {},
   "source": [
    "## Question 25\n",
    "- Write a Python program to remove continuous duplicate words from Sentence using Regular Expression.\n",
    "\n",
    "Sample Text: \"Hello hello world world\"\n",
    "\n",
    "**Expected Output:**\n",
    "\n",
    "Hello hello world"
   ]
  },
  {
   "cell_type": "code",
   "execution_count": 26,
   "id": "5eccdb69",
   "metadata": {},
   "outputs": [
    {
     "name": "stdout",
     "output_type": "stream",
     "text": [
      "Hello hello world\n"
     ]
    }
   ],
   "source": [
    "# Answer - 25\n",
    "\n",
    "def remove_duplicates(sample_text):\n",
    "    \n",
    "    pattern = r'\\b(\\w+)(\\s+\\1\\b)+'\n",
    "    \n",
    "    result = re.sub(pattern, r'\\1', sample_text)\n",
    "    \n",
    "    return result\n",
    "\n",
    "sample_text = \"Hello hello world world\"\n",
    "\n",
    "Ans_25 = remove_duplicates(sample_text)\n",
    "\n",
    "print(Ans_25)"
   ]
  },
  {
   "cell_type": "code",
   "execution_count": null,
   "id": "e505b57d",
   "metadata": {},
   "outputs": [],
   "source": []
  },
  {
   "cell_type": "markdown",
   "id": "8226a821",
   "metadata": {},
   "source": [
    "## Question 26\n",
    "-  Write a python program using RegEx to accept string ending with alphanumeric character."
   ]
  },
  {
   "cell_type": "code",
   "execution_count": 27,
   "id": "c7938d44",
   "metadata": {},
   "outputs": [
    {
     "name": "stdout",
     "output_type": "stream",
     "text": [
      "Enter a string: sd23\n",
      "Entered string ends with an alphanumeric character\n"
     ]
    }
   ],
   "source": [
    "# Answer - 26\n",
    "\n",
    "def check_string(ques_26):\n",
    "    \n",
    "    pattern = r\"\\w$\"\n",
    "    \n",
    "    match = re.search(pattern, ques_26)\n",
    "    \n",
    "    if match:\n",
    "        \n",
    "        return True\n",
    "    \n",
    "    else:\n",
    "        \n",
    "        return False\n",
    "\n",
    "enter_string = input(\"Enter a string: \")\n",
    "\n",
    "if check_string(enter_string):\n",
    "    print(\"Entered string ends with an alphanumeric character\")\n",
    "else:\n",
    "    print(\"Entered string ends without an alphanumeric character\")"
   ]
  },
  {
   "cell_type": "code",
   "execution_count": null,
   "id": "9dc5df2f",
   "metadata": {},
   "outputs": [],
   "source": []
  },
  {
   "cell_type": "markdown",
   "id": "c6796b47",
   "metadata": {},
   "source": [
    "## Question 27\n",
    "- Write a python program using RegEx to extract the hashtags.\n",
    "\n",
    "Sample Text:  \"\"\"RT @kapil_kausik: #Doltiwal I mean #xyzabc is \"hurt\" by #Demonetization as the same has rendered USELESS <ed><U+00A0><U+00BD><ed><U+00B1><U+0089> \"acquired funds\" No wo\"\"\"\n",
    "\n",
    "**Expected Output:**\n",
    "    \n",
    "['#Doltiwal', '#xyzabc', '#Demonetization']"
   ]
  },
  {
   "cell_type": "code",
   "execution_count": 28,
   "id": "b4d94949",
   "metadata": {},
   "outputs": [
    {
     "name": "stdout",
     "output_type": "stream",
     "text": [
      "['#Doltiwal', '#xyzabc', '#Demonetization']\n"
     ]
    }
   ],
   "source": [
    "# Answer - 27\n",
    "\n",
    "def extract_hashtags(ques_27):\n",
    "    \n",
    "    hashtags = re.findall(r'#\\w+', ques_27)\n",
    "    \n",
    "    return hashtags\n",
    "\n",
    "ques_27 = 'RT @kapil_kausik: #Doltiwal I mean #xyzabc is \"hurt\" by #Demonetization as the same has rendered USELESS <ed><U+00A0><U+00BD><ed><U+00B1><U+0089> \"acquired funds\" No wo'\n",
    "\n",
    "Ans_27 = extract_hashtags(ques_27)\n",
    "\n",
    "print(Ans_27)"
   ]
  },
  {
   "cell_type": "code",
   "execution_count": null,
   "id": "e1e332c0",
   "metadata": {},
   "outputs": [],
   "source": []
  },
  {
   "cell_type": "markdown",
   "id": "20d13453",
   "metadata": {},
   "source": [
    "## Question 28\n",
    "- Write a python program using RegEx to remove <U+..> like symbols\n",
    "\n",
    "Check the below sample text, there are strange symbols something of the sort <U+..> all over the place. You need to come up with a general Regex expression that will cover all such symbols.\n",
    "\n",
    "Sample Text: \"@Jags123456 Bharat band on 28??<ed><U+00A0><U+00BD><ed><U+00B8><U+0082>Those who  are protesting #demonetization  are all different party leaders\"\n",
    "\n",
    "**Expected Output:**\n",
    "\n",
    "@Jags123456 Bharat band on 28??<ed><ed>Those who  are protesting #demonetization  are all different party leaders"
   ]
  },
  {
   "cell_type": "code",
   "execution_count": 29,
   "id": "bd5191bc",
   "metadata": {},
   "outputs": [
    {
     "name": "stdout",
     "output_type": "stream",
     "text": [
      "@Jags123456 Bharat band on 28??<ed><ed>Those who are protesting #demonetization are all different party leaders\n"
     ]
    }
   ],
   "source": [
    "# Answer - 28\n",
    "\n",
    "sample_text = \"@Jags123456 Bharat band on 28??<ed><U+00A0><U+00BD><ed><U+00B8><U+0082>Those who are protesting #demonetization are all different party leaders\"\n",
    "\n",
    "pattern = r\"<U\\+\\w{4}>\"\n",
    "Ans_28 = re.sub(pattern, \"\", sample_text)\n",
    "\n",
    "print(Ans_28)"
   ]
  },
  {
   "cell_type": "code",
   "execution_count": null,
   "id": "ad28b5c8",
   "metadata": {},
   "outputs": [],
   "source": []
  },
  {
   "cell_type": "markdown",
   "id": "1a93fe9b",
   "metadata": {},
   "source": [
    "## Question 29\n",
    "- Write a python program to extract dates from the text stored in the text file.\n",
    "\n",
    "Sample Text: Ron was born on 12-09-1992 and he was admitted to school 15-12-1999.\n",
    "\n",
    "Note- Store this sample text in the file and then extract dates."
   ]
  },
  {
   "cell_type": "code",
   "execution_count": 30,
   "id": "3d19f49c",
   "metadata": {},
   "outputs": [
    {
     "name": "stdout",
     "output_type": "stream",
     "text": [
      "12-09-1992\n",
      "15-12-1999\n"
     ]
    }
   ],
   "source": [
    "# Answer - 29\n",
    "\n",
    "sample_text = \"Ron was born on 12-09-1992 and he was admitted to school 15-12-1999.\"\n",
    "\n",
    "with open('stored_text.txt', 'r') as file:\n",
    "    text = file.read()\n",
    "\n",
    "pattern = r'\\d{2}-\\d{2}-\\d{4}'\n",
    "\n",
    "dates = re.findall(pattern, text)\n",
    "\n",
    "for date in dates:\n",
    "    print(date)"
   ]
  },
  {
   "cell_type": "code",
   "execution_count": null,
   "id": "749cd02a",
   "metadata": {},
   "outputs": [],
   "source": []
  },
  {
   "cell_type": "markdown",
   "id": "ae8aa011",
   "metadata": {},
   "source": [
    "## Question 30\n",
    "- Create a function in python to remove all words from a string of length between 2 and 4.\n",
    "The use of the re.compile() method is mandatory.\n",
    "\n",
    "Sample Text: \"The following example creates an ArrayList with a capacity of 50 elements. 4 elements are then added to the ArrayList and the ArrayList is trimmed accordingly.\"\n",
    "\n",
    "**Expected Output:**\n",
    "\n",
    "following example creates ArrayList a capacity elements. 4 elements added ArrayList ArrayList trimmed accordingly."
   ]
  },
  {
   "cell_type": "code",
   "execution_count": 31,
   "id": "3d87d988",
   "metadata": {},
   "outputs": [
    {
     "name": "stdout",
     "output_type": "stream",
     "text": [
      " following example creates  ArrayList  a capacity   elements. 4 elements   added   ArrayList   ArrayList  trimmed accordingly.\n"
     ]
    }
   ],
   "source": [
    "# Answer - 30\n",
    "\n",
    "def remove_words(ques_30):\n",
    "    \n",
    "    pattern = re.compile(r'\\b\\w{2,4}\\b')\n",
    "    \n",
    "    output = pattern.sub('', ques_30)\n",
    "    \n",
    "    return output\n",
    "\n",
    "sample_text = \"The following example creates an ArrayList with a capacity of 50 elements. 4 elements are then added to the ArrayList and the ArrayList is trimmed accordingly.\"\n",
    "\n",
    "Ans_30 = remove_words(sample_text)\n",
    "\n",
    "print(Ans_30)"
   ]
  },
  {
   "cell_type": "code",
   "execution_count": null,
   "id": "e59c0e64",
   "metadata": {},
   "outputs": [],
   "source": []
  },
  {
   "cell_type": "markdown",
   "id": "a5c12f76",
   "metadata": {},
   "source": [
    "## End of Assignment"
   ]
  }
 ],
 "metadata": {
  "celltoolbar": "Raw Cell Format",
  "kernelspec": {
   "display_name": "Python 3 (ipykernel)",
   "language": "python",
   "name": "python3"
  },
  "language_info": {
   "codemirror_mode": {
    "name": "ipython",
    "version": 3
   },
   "file_extension": ".py",
   "mimetype": "text/x-python",
   "name": "python",
   "nbconvert_exporter": "python",
   "pygments_lexer": "ipython3",
   "version": "3.10.9"
  }
 },
 "nbformat": 4,
 "nbformat_minor": 5
}
