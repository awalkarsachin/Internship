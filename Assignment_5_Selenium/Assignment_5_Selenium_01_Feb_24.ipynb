{
 "cells": [
  {
   "cell_type": "markdown",
   "id": "1b59977f",
   "metadata": {},
   "source": [
    "# Assignment 4 (Dated - 01.02.2024)\n",
    "\n",
    "### Name - Sachin Subhash Awalkar\n",
    "### Batch Code - DS2312\n",
    "### Subject - Selenium Web Scrapping\n",
    "### Submited on - 10.02.2024"
   ]
  },
  {
   "cell_type": "code",
   "execution_count": null,
   "id": "5a080012",
   "metadata": {},
   "outputs": [],
   "source": []
  },
  {
   "cell_type": "code",
   "execution_count": 1,
   "id": "90093a03",
   "metadata": {},
   "outputs": [
    {
     "name": "stdout",
     "output_type": "stream",
     "text": [
      "Requirement already satisfied: selenium in c:\\users\\shree\\anaconda3\\lib\\site-packages (4.17.2)\n",
      "Requirement already satisfied: certifi>=2021.10.8 in c:\\users\\shree\\anaconda3\\lib\\site-packages (from selenium) (2022.12.7)\n",
      "Requirement already satisfied: urllib3[socks]<3,>=1.26 in c:\\users\\shree\\anaconda3\\lib\\site-packages (from selenium) (1.26.14)\n",
      "Requirement already satisfied: trio~=0.17 in c:\\users\\shree\\anaconda3\\lib\\site-packages (from selenium) (0.24.0)\n",
      "Requirement already satisfied: trio-websocket~=0.9 in c:\\users\\shree\\anaconda3\\lib\\site-packages (from selenium) (0.11.1)\n",
      "Requirement already satisfied: typing_extensions>=4.9.0 in c:\\users\\shree\\anaconda3\\lib\\site-packages (from selenium) (4.9.0)\n",
      "Requirement already satisfied: attrs>=20.1.0 in c:\\users\\shree\\anaconda3\\lib\\site-packages (from trio~=0.17->selenium) (22.1.0)\n",
      "Requirement already satisfied: exceptiongroup in c:\\users\\shree\\anaconda3\\lib\\site-packages (from trio~=0.17->selenium) (1.2.0)\n",
      "Requirement already satisfied: sniffio>=1.3.0 in c:\\users\\shree\\anaconda3\\lib\\site-packages (from trio~=0.17->selenium) (1.3.0)\n",
      "Requirement already satisfied: sortedcontainers in c:\\users\\shree\\anaconda3\\lib\\site-packages (from trio~=0.17->selenium) (2.4.0)\n",
      "Requirement already satisfied: idna in c:\\users\\shree\\anaconda3\\lib\\site-packages (from trio~=0.17->selenium) (3.4)\n",
      "Requirement already satisfied: outcome in c:\\users\\shree\\anaconda3\\lib\\site-packages (from trio~=0.17->selenium) (1.3.0.post0)\n",
      "Requirement already satisfied: cffi>=1.14 in c:\\users\\shree\\anaconda3\\lib\\site-packages (from trio~=0.17->selenium) (1.15.1)\n",
      "Requirement already satisfied: wsproto>=0.14 in c:\\users\\shree\\anaconda3\\lib\\site-packages (from trio-websocket~=0.9->selenium) (1.2.0)\n",
      "Requirement already satisfied: PySocks!=1.5.7,<2.0,>=1.5.6 in c:\\users\\shree\\anaconda3\\lib\\site-packages (from urllib3[socks]<3,>=1.26->selenium) (1.7.1)\n",
      "Requirement already satisfied: pycparser in c:\\users\\shree\\anaconda3\\lib\\site-packages (from cffi>=1.14->trio~=0.17->selenium) (2.21)\n",
      "Requirement already satisfied: h11<1,>=0.9.0 in c:\\users\\shree\\anaconda3\\lib\\site-packages (from wsproto>=0.14->trio-websocket~=0.9->selenium) (0.14.0)\n"
     ]
    }
   ],
   "source": [
    "!pip install selenium"
   ]
  },
  {
   "cell_type": "code",
   "execution_count": 2,
   "id": "b06bce38",
   "metadata": {},
   "outputs": [],
   "source": [
    "import selenium\n",
    "import pandas as pd\n",
    "from selenium import webdriver\n",
    "import warnings\n",
    "warnings.filterwarnings('ignore')\n",
    "from selenium.webdriver.common.by import By\n",
    "import time\n",
    "from time import sleep"
   ]
  },
  {
   "cell_type": "markdown",
   "id": "1b11e6b7",
   "metadata": {},
   "source": [
    "### Q1: Write a python program to scrape data for “Data Analyst” Job position in “Bangalore” location. You have to scrape the job-title, job-location, company_name, experience_required. You have to scrape first 10 jobs data.\n",
    "\n",
    "#### This task will be done in following steps:\n",
    "    1. First get the webpage https://www.shine.com/\n",
    "    2. Enter “Data Analyst” in “Job title, Skills” field and enter “Bangalore” in “enter the location” field.\n",
    "    3. Then click the search button.\n",
    "    4. Then scrape the data for the first 10 jobs results you get.\n",
    "    5. Finally create a dataframe of the scraped data."
   ]
  },
  {
   "cell_type": "code",
   "execution_count": 3,
   "id": "7c6a479b",
   "metadata": {},
   "outputs": [],
   "source": [
    "driver_1 = webdriver.Chrome()\n",
    "driver_1.maximize_window()"
   ]
  },
  {
   "cell_type": "code",
   "execution_count": 4,
   "id": "20c9fbc1",
   "metadata": {},
   "outputs": [],
   "source": [
    "driver_1.get(\"https://www.shine.com/\")"
   ]
  },
  {
   "cell_type": "code",
   "execution_count": 5,
   "id": "3a09700c",
   "metadata": {},
   "outputs": [],
   "source": [
    "popup = driver_1.find_element(By.XPATH,'//button[@aria-label=\"Close Button\"]')\n",
    "popup.click()"
   ]
  },
  {
   "cell_type": "code",
   "execution_count": 9,
   "id": "b9347341",
   "metadata": {},
   "outputs": [],
   "source": [
    "search_1 = driver_1.find_element(By.CLASS_NAME,\"input\")\n",
    "search_1.click()"
   ]
  },
  {
   "cell_type": "code",
   "execution_count": 12,
   "id": "9c459b4c",
   "metadata": {},
   "outputs": [],
   "source": [
    "designation = driver_1.find_element(By.CLASS_NAME,\"form-control \")\n",
    "designation.send_keys('Data Analyst')"
   ]
  },
  {
   "cell_type": "code",
   "execution_count": 13,
   "id": "b8b83737",
   "metadata": {},
   "outputs": [],
   "source": [
    "location = driver_1.find_element(By.XPATH,\"/html/body/div/div[4]/div/div[2]/div[2]/div/form/div/div[1]/ul/li[2]/div/input\")\n",
    "location.send_keys('Bangalore')"
   ]
  },
  {
   "cell_type": "code",
   "execution_count": 14,
   "id": "edb3aaca",
   "metadata": {},
   "outputs": [],
   "source": [
    "search = driver_1.find_element(By.CLASS_NAME,\"searchForm_btnWrap__Cb75F\")\n",
    "search.click()"
   ]
  },
  {
   "cell_type": "code",
   "execution_count": 16,
   "id": "c63b5aa4",
   "metadata": {},
   "outputs": [],
   "source": [
    "popup_2 = driver_1.find_element(By.XPATH,'//button[@aria-label=\"Close Button\"]')\n",
    "popup_2.click()"
   ]
  },
  {
   "cell_type": "code",
   "execution_count": 17,
   "id": "4d5ebe9e",
   "metadata": {},
   "outputs": [],
   "source": [
    "job_title = []\n",
    "job_location = []\n",
    "company_name = []\n",
    "experience_required = []"
   ]
  },
  {
   "cell_type": "code",
   "execution_count": 18,
   "id": "56772f55",
   "metadata": {},
   "outputs": [
    {
     "name": "stdout",
     "output_type": "stream",
     "text": [
      "10 10 10 10\n"
     ]
    }
   ],
   "source": [
    "title_tags = driver_1.find_elements(By.XPATH,'//div[@class=\"parentClass position-relative\"]/div//a')\n",
    "\n",
    "for i in title_tags[:10]:\n",
    "    title = i.text\n",
    "    job_title.append(title)\n",
    "    \n",
    "# Scrapping Job location from the given page\n",
    "\n",
    "location_tags = driver_1.find_elements(By.XPATH,'//div[@class=\" jobCard_jobCard_lists_item__YxRkV jobCard_locationIcon__zrWt2\"]')\n",
    "\n",
    "for i in location_tags[:10]:\n",
    "    location = i.text\n",
    "    job_location.append(location)\n",
    "\n",
    "#name_tags = driver_1.find_elements(By.XPATH,'//div[@class=\"jobCard_jobCard_cName__mYnow\"]')\n",
    "name_tags = driver_1.find_elements(By.XPATH,'//div[@class=\"jobCard_jobCard_cName__mYnow\"]//span')\n",
    "for i in name_tags[:10]:\n",
    "    name = i.text\n",
    "    company_name.append(name)\n",
    "\n",
    "experience_tags = driver_1.find_elements(By.XPATH,'//div[@class=\" jobCard_jobCard_lists_item__YxRkV jobCard_jobIcon__3FB1t\"]')\n",
    "\n",
    "for i in experience_tags[:10]:\n",
    "    exp = i.text\n",
    "    experience_required.append(exp)\n",
    "\n",
    "print(len(job_title),len(job_location),len(company_name),len(experience_required))"
   ]
  },
  {
   "cell_type": "code",
   "execution_count": 19,
   "id": "00ca1ac9",
   "metadata": {},
   "outputs": [
    {
     "data": {
      "text/html": [
       "<div>\n",
       "<style scoped>\n",
       "    .dataframe tbody tr th:only-of-type {\n",
       "        vertical-align: middle;\n",
       "    }\n",
       "\n",
       "    .dataframe tbody tr th {\n",
       "        vertical-align: top;\n",
       "    }\n",
       "\n",
       "    .dataframe thead th {\n",
       "        text-align: right;\n",
       "    }\n",
       "</style>\n",
       "<table border=\"1\" class=\"dataframe\">\n",
       "  <thead>\n",
       "    <tr style=\"text-align: right;\">\n",
       "      <th></th>\n",
       "      <th>Title</th>\n",
       "      <th>Location</th>\n",
       "      <th>Company Name</th>\n",
       "      <th>Experience Required</th>\n",
       "    </tr>\n",
       "  </thead>\n",
       "  <tbody>\n",
       "    <tr>\n",
       "      <th>0</th>\n",
       "      <td>Lead Data Analyst</td>\n",
       "      <td>Bangalore</td>\n",
       "      <td>ara resources private limited</td>\n",
       "      <td>4 to 9 Yrs</td>\n",
       "    </tr>\n",
       "    <tr>\n",
       "      <th>1</th>\n",
       "      <td>Data Analyst</td>\n",
       "      <td>Bangalore\\n+3</td>\n",
       "      <td>diraa hr services hiring for mncs</td>\n",
       "      <td>0 to 1 Yr</td>\n",
       "    </tr>\n",
       "    <tr>\n",
       "      <th>2</th>\n",
       "      <td>Get your Application Noticed</td>\n",
       "      <td>Bangalore\\n+14</td>\n",
       "      <td>yogita staffing solution</td>\n",
       "      <td>0 to 3 Yrs</td>\n",
       "    </tr>\n",
       "    <tr>\n",
       "      <th>3</th>\n",
       "      <td>Vacancy For Data Analyst</td>\n",
       "      <td>Bangalore\\n+6</td>\n",
       "      <td>techno endura</td>\n",
       "      <td>0 to 1 Yr</td>\n",
       "    </tr>\n",
       "    <tr>\n",
       "      <th>4</th>\n",
       "      <td>Clinical Data Analyst</td>\n",
       "      <td>Bangalore\\n+18</td>\n",
       "      <td>future solution centre</td>\n",
       "      <td>15 to &gt;25 Yrs</td>\n",
       "    </tr>\n",
       "    <tr>\n",
       "      <th>5</th>\n",
       "      <td>Get Personalised Job Matches\\nBased on your ex...</td>\n",
       "      <td>Bangalore</td>\n",
       "      <td>boyen haddin consulting and technol...</td>\n",
       "      <td>3 to 6 Yrs</td>\n",
       "    </tr>\n",
       "    <tr>\n",
       "      <th>6</th>\n",
       "      <td>Data Management</td>\n",
       "      <td>Bangalore</td>\n",
       "      <td>boyen haddin consulting and technol...</td>\n",
       "      <td>3 to 6 Yrs</td>\n",
       "    </tr>\n",
       "    <tr>\n",
       "      <th>7</th>\n",
       "      <td>Data Modeler data</td>\n",
       "      <td>Bangalore</td>\n",
       "      <td>boyen haddin consulting and technol...</td>\n",
       "      <td>3 to 6 Yrs</td>\n",
       "    </tr>\n",
       "    <tr>\n",
       "      <th>8</th>\n",
       "      <td>Data Modeller</td>\n",
       "      <td>Bangalore</td>\n",
       "      <td>boyen haddin consulting and technol...</td>\n",
       "      <td>3 to 6 Yrs</td>\n",
       "    </tr>\n",
       "    <tr>\n",
       "      <th>9</th>\n",
       "      <td>Data Modeler Bangalore</td>\n",
       "      <td>Bangalore\\n+4</td>\n",
       "      <td>quiscon biotech</td>\n",
       "      <td>0 to 2 Yrs</td>\n",
       "    </tr>\n",
       "  </tbody>\n",
       "</table>\n",
       "</div>"
      ],
      "text/plain": [
       "                                               Title        Location  \\\n",
       "0                                  Lead Data Analyst       Bangalore   \n",
       "1                                       Data Analyst   Bangalore\\n+3   \n",
       "2                       Get your Application Noticed  Bangalore\\n+14   \n",
       "3                           Vacancy For Data Analyst   Bangalore\\n+6   \n",
       "4                              Clinical Data Analyst  Bangalore\\n+18   \n",
       "5  Get Personalised Job Matches\\nBased on your ex...       Bangalore   \n",
       "6                                    Data Management       Bangalore   \n",
       "7                                  Data Modeler data       Bangalore   \n",
       "8                                      Data Modeller       Bangalore   \n",
       "9                             Data Modeler Bangalore   Bangalore\\n+4   \n",
       "\n",
       "                             Company Name Experience Required  \n",
       "0           ara resources private limited          4 to 9 Yrs  \n",
       "1       diraa hr services hiring for mncs           0 to 1 Yr  \n",
       "2                yogita staffing solution          0 to 3 Yrs  \n",
       "3                           techno endura           0 to 1 Yr  \n",
       "4                  future solution centre       15 to >25 Yrs  \n",
       "5  boyen haddin consulting and technol...          3 to 6 Yrs  \n",
       "6  boyen haddin consulting and technol...          3 to 6 Yrs  \n",
       "7  boyen haddin consulting and technol...          3 to 6 Yrs  \n",
       "8  boyen haddin consulting and technol...          3 to 6 Yrs  \n",
       "9                         quiscon biotech          0 to 2 Yrs  "
      ]
     },
     "execution_count": 19,
     "metadata": {},
     "output_type": "execute_result"
    }
   ],
   "source": [
    "df_1 = pd.DataFrame({'Title':job_title,'Location':job_location,'Company Name':company_name,'Experience Required':experience_required})\n",
    "df_1"
   ]
  },
  {
   "cell_type": "code",
   "execution_count": null,
   "id": "dfecc21f",
   "metadata": {},
   "outputs": [],
   "source": []
  },
  {
   "cell_type": "markdown",
   "id": "40af45d2",
   "metadata": {},
   "source": [
    "### Q2: Write a python program to scrape data for “Data Scientist” Job position in “Bangalore” location. You have to scrape the job-title, job-location, company_name. You have to scrape first 10 jobs data.\n",
    "\n",
    "#### This task will be done in following steps:\n",
    "    1. First get the webpage https://www.shine.com/\n",
    "    2. Enter “Data Scientist” in “Job title, Skills” field and enter “Bangalore” in “enter the location” field.\n",
    "    3. Then click the search button.\n",
    "    4. Then scrape the data for the first 10 jobs results you get.\n",
    "    5. Finally create a dataframe of the scraped data."
   ]
  },
  {
   "cell_type": "code",
   "execution_count": 20,
   "id": "266dd82c",
   "metadata": {},
   "outputs": [],
   "source": [
    "driver_2 = webdriver.Chrome()\n",
    "driver_2.maximize_window()"
   ]
  },
  {
   "cell_type": "code",
   "execution_count": 21,
   "id": "d79b2244",
   "metadata": {},
   "outputs": [],
   "source": [
    "driver_2.get(\"https://www.shine.com/\")"
   ]
  },
  {
   "cell_type": "code",
   "execution_count": 22,
   "id": "b10ce815",
   "metadata": {},
   "outputs": [],
   "source": [
    "popup = driver_2.find_element(By.XPATH,'//button[@aria-label=\"Close Button\"]')\n",
    "popup.click()"
   ]
  },
  {
   "cell_type": "code",
   "execution_count": 23,
   "id": "2a1b3c93",
   "metadata": {},
   "outputs": [],
   "source": [
    "search_2 = driver_2.find_element(By.CLASS_NAME,\"input\")\n",
    "search_2.click()"
   ]
  },
  {
   "cell_type": "code",
   "execution_count": 24,
   "id": "2aa7dc9a",
   "metadata": {},
   "outputs": [],
   "source": [
    "designation = driver_2.find_element(By.CLASS_NAME,\"form-control \")\n",
    "designation.send_keys('Data Scientist')"
   ]
  },
  {
   "cell_type": "code",
   "execution_count": 25,
   "id": "bd9e69e8",
   "metadata": {},
   "outputs": [],
   "source": [
    "location = driver_2.find_element(By.XPATH,\"/html/body/div/div[4]/div/div[2]/div[2]/div/form/div/div[1]/ul/li[2]/div/input\")\n",
    "location.send_keys('Bangalore')"
   ]
  },
  {
   "cell_type": "code",
   "execution_count": 26,
   "id": "59ce009d",
   "metadata": {},
   "outputs": [],
   "source": [
    "search = driver_2.find_element(By.CLASS_NAME,\"searchForm_btnWrap__Cb75F\")\n",
    "search.click()"
   ]
  },
  {
   "cell_type": "code",
   "execution_count": 27,
   "id": "76aa7209",
   "metadata": {},
   "outputs": [],
   "source": [
    "popup_2 = driver_2.find_element(By.XPATH,'//button[@aria-label=\"Close Button\"]')\n",
    "popup_2.click()"
   ]
  },
  {
   "cell_type": "code",
   "execution_count": 28,
   "id": "41360977",
   "metadata": {},
   "outputs": [],
   "source": [
    "job_title = []\n",
    "job_location = []\n",
    "company_name = []"
   ]
  },
  {
   "cell_type": "code",
   "execution_count": 29,
   "id": "91a64b7b",
   "metadata": {},
   "outputs": [
    {
     "name": "stdout",
     "output_type": "stream",
     "text": [
      "10 10 10\n"
     ]
    }
   ],
   "source": [
    "title_tags = driver_2.find_elements(By.XPATH,'//div[@class=\"parentClass position-relative\"]/div//a')\n",
    "\n",
    "for i in title_tags[:10]:\n",
    "    title = i.text\n",
    "    job_title.append(title)\n",
    "    \n",
    "# Scrapping Job location from the given page\n",
    "\n",
    "location_tags = driver_2.find_elements(By.XPATH,'//div[@class=\" jobCard_jobCard_lists_item__YxRkV jobCard_locationIcon__zrWt2\"]')\n",
    "\n",
    "for i in location_tags[:10]:\n",
    "    location = i.text\n",
    "    job_location.append(location)\n",
    "\n",
    "name_tags = driver_2.find_elements(By.XPATH,'//div[@class=\"jobCard_jobCard_cName__mYnow\"]//span')\n",
    "for i in name_tags[:10]:\n",
    "    name = i.text\n",
    "    company_name.append(name)\n",
    "\n",
    "\n",
    "print(len(job_title),len(job_location),len(company_name))"
   ]
  },
  {
   "cell_type": "code",
   "execution_count": 30,
   "id": "fdef9356",
   "metadata": {},
   "outputs": [
    {
     "data": {
      "text/html": [
       "<div>\n",
       "<style scoped>\n",
       "    .dataframe tbody tr th:only-of-type {\n",
       "        vertical-align: middle;\n",
       "    }\n",
       "\n",
       "    .dataframe tbody tr th {\n",
       "        vertical-align: top;\n",
       "    }\n",
       "\n",
       "    .dataframe thead th {\n",
       "        text-align: right;\n",
       "    }\n",
       "</style>\n",
       "<table border=\"1\" class=\"dataframe\">\n",
       "  <thead>\n",
       "    <tr style=\"text-align: right;\">\n",
       "      <th></th>\n",
       "      <th>Title</th>\n",
       "      <th>Location</th>\n",
       "      <th>Company Name</th>\n",
       "    </tr>\n",
       "  </thead>\n",
       "  <tbody>\n",
       "    <tr>\n",
       "      <th>0</th>\n",
       "      <td>ML Data Scientist</td>\n",
       "      <td>Bangalore\\n+3</td>\n",
       "      <td>gujarat facility services hiring fo...</td>\n",
       "    </tr>\n",
       "    <tr>\n",
       "      <th>1</th>\n",
       "      <td>Data Scientist Urgent Vacancy</td>\n",
       "      <td>Bangalore\\n+15</td>\n",
       "      <td>renuka interprises</td>\n",
       "    </tr>\n",
       "    <tr>\n",
       "      <th>2</th>\n",
       "      <td>Get your Application Noticed</td>\n",
       "      <td>Bangalore\\n+15</td>\n",
       "      <td>renuka interprises</td>\n",
       "    </tr>\n",
       "    <tr>\n",
       "      <th>3</th>\n",
       "      <td>Data Scientist Recruitment</td>\n",
       "      <td>Bangalore\\n+15</td>\n",
       "      <td>renuka interprises</td>\n",
       "    </tr>\n",
       "    <tr>\n",
       "      <th>4</th>\n",
       "      <td>Data Scientist Recruitment</td>\n",
       "      <td>Bangalore\\n+4</td>\n",
       "      <td>acme services private limited</td>\n",
       "    </tr>\n",
       "    <tr>\n",
       "      <th>5</th>\n",
       "      <td>Get Personalised Job Matches\\nBased on your ex...</td>\n",
       "      <td>Bangalore</td>\n",
       "      <td>ltimindtree limited</td>\n",
       "    </tr>\n",
       "    <tr>\n",
       "      <th>6</th>\n",
       "      <td>Data Scientist</td>\n",
       "      <td>Bangalore\\n+1</td>\n",
       "      <td>fractal</td>\n",
       "    </tr>\n",
       "    <tr>\n",
       "      <th>7</th>\n",
       "      <td>Data Scientist</td>\n",
       "      <td>Bangalore\\n+14</td>\n",
       "      <td>yogita staffing solution</td>\n",
       "    </tr>\n",
       "    <tr>\n",
       "      <th>8</th>\n",
       "      <td>Lead Data Scientist/ Principal Data Scientist</td>\n",
       "      <td>Bangalore\\n+1</td>\n",
       "      <td>neostats</td>\n",
       "    </tr>\n",
       "    <tr>\n",
       "      <th>9</th>\n",
       "      <td>Vacancy For Data Scientist Fresher and Experience</td>\n",
       "      <td>Bangalore\\n+1</td>\n",
       "      <td>aereo</td>\n",
       "    </tr>\n",
       "  </tbody>\n",
       "</table>\n",
       "</div>"
      ],
      "text/plain": [
       "                                               Title        Location  \\\n",
       "0                                  ML Data Scientist   Bangalore\\n+3   \n",
       "1                      Data Scientist Urgent Vacancy  Bangalore\\n+15   \n",
       "2                       Get your Application Noticed  Bangalore\\n+15   \n",
       "3                         Data Scientist Recruitment  Bangalore\\n+15   \n",
       "4                         Data Scientist Recruitment   Bangalore\\n+4   \n",
       "5  Get Personalised Job Matches\\nBased on your ex...       Bangalore   \n",
       "6                                     Data Scientist   Bangalore\\n+1   \n",
       "7                                     Data Scientist  Bangalore\\n+14   \n",
       "8      Lead Data Scientist/ Principal Data Scientist   Bangalore\\n+1   \n",
       "9  Vacancy For Data Scientist Fresher and Experience   Bangalore\\n+1   \n",
       "\n",
       "                             Company Name  \n",
       "0  gujarat facility services hiring fo...  \n",
       "1                      renuka interprises  \n",
       "2                      renuka interprises  \n",
       "3                      renuka interprises  \n",
       "4           acme services private limited  \n",
       "5                     ltimindtree limited  \n",
       "6                                 fractal  \n",
       "7                yogita staffing solution  \n",
       "8                                neostats  \n",
       "9                                   aereo  "
      ]
     },
     "execution_count": 30,
     "metadata": {},
     "output_type": "execute_result"
    }
   ],
   "source": [
    "df_2 = pd.DataFrame({'Title':job_title,'Location':job_location,'Company Name':company_name})\n",
    "df_2"
   ]
  },
  {
   "cell_type": "code",
   "execution_count": null,
   "id": "2ae3457b",
   "metadata": {},
   "outputs": [],
   "source": []
  },
  {
   "cell_type": "markdown",
   "id": "ec5092bf",
   "metadata": {},
   "source": [
    "### Q3: In this question you have to scrape data using the filters available on the webpage\n",
    "\n",
    "You have to use the location and salary filter.\n",
    "\n",
    "You have to scrape data for “Data Scientist” designation for first 10 job results.\n",
    "\n",
    "You have to scrape the job-title, job-location, company name, experience required. The location filter to be used is “Delhi/NCR”. The salary filter to be used is “3-6” lakhs\n",
    "\n",
    "#### The task will be done as shown in the below steps:\n",
    "    1. first get the web page https://www.shine.com/\n",
    "    2. Enter “Data Scientist” in “Skill, Designations, and Companies” field.\n",
    "    3. Then click the search button.\n",
    "    4. Then apply the location filter and salary filter by checking the respective boxes\n",
    "    5. Then scrape the data for the first 10 jobs results you get.\n",
    "    6. Finally create a dataframe of the scraped data."
   ]
  },
  {
   "cell_type": "code",
   "execution_count": 31,
   "id": "71d7b222",
   "metadata": {},
   "outputs": [],
   "source": [
    "driver_3 = webdriver.Chrome()\n",
    "driver_3.maximize_window()"
   ]
  },
  {
   "cell_type": "code",
   "execution_count": 32,
   "id": "777a87bb",
   "metadata": {},
   "outputs": [],
   "source": [
    "driver_3.get(\"https://www.shine.com/\")"
   ]
  },
  {
   "cell_type": "code",
   "execution_count": 33,
   "id": "a94596ae",
   "metadata": {},
   "outputs": [],
   "source": [
    "popup = driver_3.find_element(By.XPATH,'//button[@aria-label=\"Close Button\"]')\n",
    "popup.click()"
   ]
  },
  {
   "cell_type": "code",
   "execution_count": null,
   "id": "bbc9a583",
   "metadata": {},
   "outputs": [],
   "source": [
    "button = driver_3.find_element(By.CLASS_NAME,\"btn-close \")\n",
    "button.click()"
   ]
  },
  {
   "cell_type": "code",
   "execution_count": 34,
   "id": "27e61a9d",
   "metadata": {},
   "outputs": [],
   "source": [
    "search_1 = driver_3.find_element(By.CLASS_NAME,\"input\")\n",
    "search_1.click()"
   ]
  },
  {
   "cell_type": "code",
   "execution_count": 35,
   "id": "49bd1a2b",
   "metadata": {},
   "outputs": [],
   "source": [
    "designation = driver_3.find_element(By.CLASS_NAME,\"form-control \")\n",
    "designation.send_keys('Data Scientist')"
   ]
  },
  {
   "cell_type": "code",
   "execution_count": 36,
   "id": "a5e97997",
   "metadata": {},
   "outputs": [],
   "source": [
    "search = driver_3.find_element(By.CLASS_NAME,\"searchForm_btnWrap__Cb75F\")\n",
    "search.click()"
   ]
  },
  {
   "cell_type": "code",
   "execution_count": 37,
   "id": "4ea13b29",
   "metadata": {},
   "outputs": [],
   "source": [
    "popup_2 = driver_3.find_element(By.XPATH,'//button[@aria-label=\"Close Button\"]')\n",
    "popup_2.click()"
   ]
  },
  {
   "cell_type": "code",
   "execution_count": 51,
   "id": "1400650f",
   "metadata": {},
   "outputs": [],
   "source": [
    "filter_tag = driver_3.find_element(By.CLASS_NAME,\"filter_filter_lists_wrap__xOLYG\")\n",
    "filter_tag.click()"
   ]
  },
  {
   "cell_type": "code",
   "execution_count": 52,
   "id": "cf9e06d5",
   "metadata": {},
   "outputs": [],
   "source": [
    "location_filter = driver_3.find_element(By.CLASS_NAME,\"filter_tabs__tabList__tab___NmuK \")\n",
    "location_filter.click()"
   ]
  },
  {
   "cell_type": "code",
   "execution_count": 53,
   "id": "b35c878d",
   "metadata": {},
   "outputs": [],
   "source": [
    "location_1 = driver_3.find_element(By.ID,'search')\n",
    "location_1.send_keys('Delhi')"
   ]
  },
  {
   "cell_type": "code",
   "execution_count": 54,
   "id": "405e840c",
   "metadata": {},
   "outputs": [],
   "source": [
    "loc_filter_2 = driver_3.find_element(By.XPATH,\"/html/body/div[3]/div/div/div/div[3]/div/div/div/ul/li[2]/span/label\")\n",
    "loc_filter_2.click()"
   ]
  },
  {
   "cell_type": "code",
   "execution_count": 55,
   "id": "16cbc1a8",
   "metadata": {},
   "outputs": [],
   "source": [
    "loc_search = driver_3.find_element(By.XPATH,'//button[@class=\"btn btn-secondary\"]')\n",
    "loc_search.click()"
   ]
  },
  {
   "cell_type": "code",
   "execution_count": 42,
   "id": "cf53b0f5",
   "metadata": {},
   "outputs": [],
   "source": [
    "filter_tag = driver_3.find_element(By.CLASS_NAME,\"filter_filter_lists_wrap__xOLYG\")\n",
    "filter_tag.click()"
   ]
  },
  {
   "cell_type": "code",
   "execution_count": 43,
   "id": "ed358c4c",
   "metadata": {},
   "outputs": [],
   "source": [
    "salary_filter = driver_3.find_element(By.XPATH,\"/html/body/div[3]/div/div/div/div[3]/div/ul/li[3]\")\n",
    "salary_filter.click()"
   ]
  },
  {
   "cell_type": "code",
   "execution_count": 44,
   "id": "ec421494",
   "metadata": {},
   "outputs": [],
   "source": [
    "salary_filter_2 = driver_3.find_element(By.XPATH,\"/html/body/div[3]/div/div/div/div[3]/div/div/div/ul/li[3]/span/label\")\n",
    "salary_filter_2.click()"
   ]
  },
  {
   "cell_type": "code",
   "execution_count": 45,
   "id": "cf4b4247",
   "metadata": {},
   "outputs": [],
   "source": [
    "sal_search = driver_3.find_element(By.XPATH,'//button[@class=\"btn btn-secondary\"]')\n",
    "sal_search.click()"
   ]
  },
  {
   "cell_type": "code",
   "execution_count": 56,
   "id": "f50a198f",
   "metadata": {},
   "outputs": [],
   "source": [
    "job_title = []\n",
    "job_location = []\n",
    "company_name = []\n",
    "experience_required = []"
   ]
  },
  {
   "cell_type": "code",
   "execution_count": 57,
   "id": "331caa32",
   "metadata": {},
   "outputs": [
    {
     "name": "stdout",
     "output_type": "stream",
     "text": [
      "10 10 10 10\n"
     ]
    }
   ],
   "source": [
    "title_tags = driver_3.find_elements(By.XPATH,'//div[@class=\"parentClass position-relative\"]/div//a')\n",
    "\n",
    "for i in title_tags[:10]:\n",
    "    title = i.text\n",
    "    job_title.append(title)\n",
    "    \n",
    "\n",
    "location_tags = driver_3.find_elements(By.XPATH,'//div[@class=\" jobCard_jobCard_lists_item__YxRkV jobCard_locationIcon__zrWt2\"]')\n",
    "\n",
    "for i in location_tags[:10]:\n",
    "    location = i.text\n",
    "    job_location.append(location)\n",
    "\n",
    "\n",
    "name_tags = driver_3.find_elements(By.XPATH,'//div[@class=\"jobCard_jobCard_cName__mYnow\"]//span')\n",
    "\n",
    "for i in name_tags[:10]:\n",
    "    name = i.text\n",
    "    company_name.append(name)\n",
    "\n",
    "experience_tags = driver_3.find_elements(By.XPATH,'//div[@class=\" jobCard_jobCard_lists_item__YxRkV jobCard_jobIcon__3FB1t\"]')\n",
    "\n",
    "for i in experience_tags[:10]:\n",
    "    exp = i.text\n",
    "    experience_required.append(exp)\n",
    "\n",
    "print(len(job_title),len(job_location),len(company_name),len(experience_required))"
   ]
  },
  {
   "cell_type": "code",
   "execution_count": 58,
   "id": "e4ab966c",
   "metadata": {},
   "outputs": [
    {
     "data": {
      "text/html": [
       "<div>\n",
       "<style scoped>\n",
       "    .dataframe tbody tr th:only-of-type {\n",
       "        vertical-align: middle;\n",
       "    }\n",
       "\n",
       "    .dataframe tbody tr th {\n",
       "        vertical-align: top;\n",
       "    }\n",
       "\n",
       "    .dataframe thead th {\n",
       "        text-align: right;\n",
       "    }\n",
       "</style>\n",
       "<table border=\"1\" class=\"dataframe\">\n",
       "  <thead>\n",
       "    <tr style=\"text-align: right;\">\n",
       "      <th></th>\n",
       "      <th>Title</th>\n",
       "      <th>Location</th>\n",
       "      <th>Company Name</th>\n",
       "      <th>Experience Required</th>\n",
       "    </tr>\n",
       "  </thead>\n",
       "  <tbody>\n",
       "    <tr>\n",
       "      <th>0</th>\n",
       "      <td>Data Scientist</td>\n",
       "      <td>Delhi\\n+4</td>\n",
       "      <td>acme services private limited</td>\n",
       "      <td>3 to 5 Yrs</td>\n",
       "    </tr>\n",
       "    <tr>\n",
       "      <th>1</th>\n",
       "      <td>Hiring candidates for Marketing with Fare &amp; Da...</td>\n",
       "      <td>Delhi\\n+2</td>\n",
       "      <td>sharda it services</td>\n",
       "      <td>2 to 5 Yrs</td>\n",
       "    </tr>\n",
       "    <tr>\n",
       "      <th>2</th>\n",
       "      <td>Get your Application Noticed</td>\n",
       "      <td>Delhi\\n+2</td>\n",
       "      <td>sharda it services</td>\n",
       "      <td>1 to 6 Yrs</td>\n",
       "    </tr>\n",
       "    <tr>\n",
       "      <th>3</th>\n",
       "      <td>Hiring for Fare &amp; Data Analyst-Travel process</td>\n",
       "      <td>Delhi\\n+6</td>\n",
       "      <td>techno endura</td>\n",
       "      <td>0 to 1 Yr</td>\n",
       "    </tr>\n",
       "    <tr>\n",
       "      <th>4</th>\n",
       "      <td>Clinical Data Analyst</td>\n",
       "      <td>Delhi\\n+8</td>\n",
       "      <td>techno endura</td>\n",
       "      <td>0 to 2 Yrs</td>\n",
       "    </tr>\n",
       "    <tr>\n",
       "      <th>5</th>\n",
       "      <td>Get Personalised Job Matches\\nBased on your ex...</td>\n",
       "      <td>Delhi\\n+8</td>\n",
       "      <td>techno endura</td>\n",
       "      <td>0 to 2 Yrs</td>\n",
       "    </tr>\n",
       "    <tr>\n",
       "      <th>6</th>\n",
       "      <td>Clinical Sas Programmer</td>\n",
       "      <td>Delhi\\n+9</td>\n",
       "      <td>mahima consultancy</td>\n",
       "      <td>0 Yrs</td>\n",
       "    </tr>\n",
       "    <tr>\n",
       "      <th>7</th>\n",
       "      <td>Clinical SAS</td>\n",
       "      <td>Delhi\\n+6</td>\n",
       "      <td>techno endura</td>\n",
       "      <td>0 to 1 Yr</td>\n",
       "    </tr>\n",
       "    <tr>\n",
       "      <th>8</th>\n",
       "      <td>Apprentice Trainee</td>\n",
       "      <td>Delhi\\n+6</td>\n",
       "      <td>techno endura</td>\n",
       "      <td>0 to 1 Yr</td>\n",
       "    </tr>\n",
       "    <tr>\n",
       "      <th>9</th>\n",
       "      <td>Clinical Data Management</td>\n",
       "      <td>Delhi\\n+6</td>\n",
       "      <td>techno endura</td>\n",
       "      <td>0 to 1 Yr</td>\n",
       "    </tr>\n",
       "  </tbody>\n",
       "</table>\n",
       "</div>"
      ],
      "text/plain": [
       "                                               Title   Location  \\\n",
       "0                                     Data Scientist  Delhi\\n+4   \n",
       "1  Hiring candidates for Marketing with Fare & Da...  Delhi\\n+2   \n",
       "2                       Get your Application Noticed  Delhi\\n+2   \n",
       "3      Hiring for Fare & Data Analyst-Travel process  Delhi\\n+6   \n",
       "4                              Clinical Data Analyst  Delhi\\n+8   \n",
       "5  Get Personalised Job Matches\\nBased on your ex...  Delhi\\n+8   \n",
       "6                            Clinical Sas Programmer  Delhi\\n+9   \n",
       "7                                       Clinical SAS  Delhi\\n+6   \n",
       "8                                 Apprentice Trainee  Delhi\\n+6   \n",
       "9                           Clinical Data Management  Delhi\\n+6   \n",
       "\n",
       "                    Company Name Experience Required  \n",
       "0  acme services private limited          3 to 5 Yrs  \n",
       "1             sharda it services          2 to 5 Yrs  \n",
       "2             sharda it services          1 to 6 Yrs  \n",
       "3                  techno endura           0 to 1 Yr  \n",
       "4                  techno endura          0 to 2 Yrs  \n",
       "5                  techno endura          0 to 2 Yrs  \n",
       "6             mahima consultancy               0 Yrs  \n",
       "7                  techno endura           0 to 1 Yr  \n",
       "8                  techno endura           0 to 1 Yr  \n",
       "9                  techno endura           0 to 1 Yr  "
      ]
     },
     "execution_count": 58,
     "metadata": {},
     "output_type": "execute_result"
    }
   ],
   "source": [
    "df_3 = pd.DataFrame({'Title':job_title,'Location':job_location,'Company Name':company_name,'Experience Required':experience_required})\n",
    "df_3"
   ]
  },
  {
   "cell_type": "code",
   "execution_count": null,
   "id": "808b3fd2",
   "metadata": {},
   "outputs": [],
   "source": []
  },
  {
   "cell_type": "markdown",
   "id": "ea6b15c4",
   "metadata": {},
   "source": [
    "### Q4: Scrape data of first 100 sunglasses listings on flipkart.com. You have to scrape four attributes:\n",
    "    6. Brand\n",
    "    7. Product Description\n",
    "    8. Price\n",
    "\n",
    "**The attributes which you have to scrape is ticked marked in the below image.**\n",
    "\n",
    "**To scrape the data you have to go through following steps:**\n",
    "\n",
    "    1. Go to Flipkart webpage by url : https://www.flipkart.com/\n",
    "    2. Enter “sunglasses” in the search field where “search for products, brands and more” is written and click the search icon\n",
    "    3. After that you will reach to the page having a lot of sunglasses. From this page you can scrap the required data as usual.\n",
    "    4. After scraping data from the first page, go to the “Next” Button at the bottom other page , then click on it.\n",
    "    5. Now scrape data from this page as usual\n",
    "    6. Repeat this until you get data for 100sunglasses."
   ]
  },
  {
   "cell_type": "code",
   "execution_count": 59,
   "id": "614073ba",
   "metadata": {},
   "outputs": [],
   "source": [
    "driver_4 = webdriver.Chrome()\n",
    "driver_4.maximize_window()"
   ]
  },
  {
   "cell_type": "code",
   "execution_count": 60,
   "id": "cb83cabf",
   "metadata": {},
   "outputs": [],
   "source": [
    "driver_4.get(\"https://www.flipkart.com/\")"
   ]
  },
  {
   "cell_type": "code",
   "execution_count": 61,
   "id": "dae919b7",
   "metadata": {},
   "outputs": [],
   "source": [
    "designation = driver_4.find_element(By.CLASS_NAME,\"Pke_EE\")\n",
    "designation.send_keys('sunglasses')"
   ]
  },
  {
   "cell_type": "code",
   "execution_count": 62,
   "id": "ad8e9301",
   "metadata": {},
   "outputs": [],
   "source": [
    "search = driver_4.find_element(By.CLASS_NAME,\"_2iLD__\")\n",
    "search.click()"
   ]
  },
  {
   "cell_type": "code",
   "execution_count": 63,
   "id": "4c260cb9",
   "metadata": {},
   "outputs": [],
   "source": [
    "brands = []\n",
    "descriptions = []\n",
    "prices = []\n",
    "discounts = []"
   ]
  },
  {
   "cell_type": "code",
   "execution_count": 64,
   "id": "d8a3f0d1",
   "metadata": {},
   "outputs": [],
   "source": [
    "brand_tags = driver_4.find_elements(By.XPATH,'//div[@class=\"_2WkVRV\"]')\n",
    "\n",
    "for i in brand_tags[:37]:\n",
    "    brand = i.text    \n",
    "    brands.append(brand)\n",
    "    \n",
    "desc_tags = driver_4.find_elements(By.XPATH,'//a[@class=\"IRpwTa\"]')\n",
    "\n",
    "for i in desc_tags[:37]:\n",
    "    description = i.text\n",
    "    descriptions.append(description)\n",
    "    \n",
    "price_tags = driver_4.find_elements(By.XPATH,'//div[@class=\"_30jeq3\"]')\n",
    "\n",
    "for i in price_tags[:37]:\n",
    "    price = i.text\n",
    "    prices.append(price)\n",
    "    \n",
    "discount_tags = driver_4.find_elements(By.XPATH,'//div[@class=\"_3Ay6Sb\"]')\n",
    "\n",
    "for i in discount_tags[:37]:\n",
    "    discount = i.text\n",
    "    discounts.append(discount)"
   ]
  },
  {
   "cell_type": "code",
   "execution_count": 65,
   "id": "f6be0649",
   "metadata": {},
   "outputs": [
    {
     "name": "stdout",
     "output_type": "stream",
     "text": [
      "37 37 37 37\n"
     ]
    }
   ],
   "source": [
    "print(len(brands),len(descriptions),len(prices),len(discounts))"
   ]
  },
  {
   "cell_type": "code",
   "execution_count": 66,
   "id": "cfabff51",
   "metadata": {},
   "outputs": [],
   "source": [
    "next_button = driver_4.find_element(By.XPATH,'//a[@class=\"_1LKTO3\"]')\n",
    "next_button.click()"
   ]
  },
  {
   "cell_type": "code",
   "execution_count": 67,
   "id": "d4e676c1",
   "metadata": {},
   "outputs": [],
   "source": [
    "brand_tags = driver_4.find_elements(By.XPATH,'//div[@class=\"_2WkVRV\"]')\n",
    "\n",
    "for i in brand_tags[:37]:\n",
    "    brand = i.text    \n",
    "    brands.append(brand)\n",
    "    \n",
    "desc_tags = driver_4.find_elements(By.XPATH,'//a[@class=\"IRpwTa\"]')\n",
    "\n",
    "for i in desc_tags[:37]:\n",
    "    description = i.text\n",
    "    descriptions.append(description)\n",
    "    \n",
    "price_tags = driver_4.find_elements(By.XPATH,'//div[@class=\"_30jeq3\"]')\n",
    "\n",
    "for i in price_tags[:37]:\n",
    "    price = i.text\n",
    "    prices.append(price)\n",
    "    \n",
    "discount_tags = driver_4.find_elements(By.XPATH,'//div[@class=\"_3Ay6Sb\"]')\n",
    "\n",
    "for i in discount_tags[:37]:\n",
    "    discount = i.text\n",
    "    discounts.append(discount)"
   ]
  },
  {
   "cell_type": "code",
   "execution_count": 68,
   "id": "b68b6ce7",
   "metadata": {},
   "outputs": [
    {
     "name": "stdout",
     "output_type": "stream",
     "text": [
      "74 74 74 74\n"
     ]
    }
   ],
   "source": [
    "print(len(brands),len(descriptions),len(prices),len(discounts))"
   ]
  },
  {
   "cell_type": "code",
   "execution_count": 70,
   "id": "99d7c9cf",
   "metadata": {},
   "outputs": [],
   "source": [
    "next_button = driver_4.find_element(By.XPATH,'//a[@class=\"_1LKTO3\"][2]')\n",
    "next_button.click()"
   ]
  },
  {
   "cell_type": "code",
   "execution_count": 71,
   "id": "59c221c1",
   "metadata": {},
   "outputs": [],
   "source": [
    "brand_tags = driver_4.find_elements(By.XPATH,'//div[@class=\"_2WkVRV\"]')\n",
    "\n",
    "for i in brand_tags[:27]:\n",
    "    brand = i.text    \n",
    "    brands.append(brand)\n",
    "    \n",
    "desc_tags = driver_4.find_elements(By.XPATH,'//a[@class=\"IRpwTa\"]')\n",
    "\n",
    "for i in desc_tags[:27]:\n",
    "    description = i.text\n",
    "    descriptions.append(description)\n",
    "    \n",
    "price_tags = driver_4.find_elements(By.XPATH,'//div[@class=\"_30jeq3\"]')\n",
    "\n",
    "for i in price_tags[:27]:\n",
    "    price = i.text\n",
    "    prices.append(price)\n",
    "    \n",
    "discount_tags = driver_4.find_elements(By.XPATH,'//div[@class=\"_3Ay6Sb\"]')\n",
    "\n",
    "for i in discount_tags[:27]:\n",
    "    discount = i.text\n",
    "    discounts.append(discount)"
   ]
  },
  {
   "cell_type": "code",
   "execution_count": 72,
   "id": "363243af",
   "metadata": {},
   "outputs": [
    {
     "name": "stdout",
     "output_type": "stream",
     "text": [
      "101 101 101 101\n"
     ]
    }
   ],
   "source": [
    "print(len(brands),len(descriptions),len(prices),len(discounts))"
   ]
  },
  {
   "cell_type": "code",
   "execution_count": 73,
   "id": "5731a9e8",
   "metadata": {},
   "outputs": [
    {
     "data": {
      "text/html": [
       "<div>\n",
       "<style scoped>\n",
       "    .dataframe tbody tr th:only-of-type {\n",
       "        vertical-align: middle;\n",
       "    }\n",
       "\n",
       "    .dataframe tbody tr th {\n",
       "        vertical-align: top;\n",
       "    }\n",
       "\n",
       "    .dataframe thead th {\n",
       "        text-align: right;\n",
       "    }\n",
       "</style>\n",
       "<table border=\"1\" class=\"dataframe\">\n",
       "  <thead>\n",
       "    <tr style=\"text-align: right;\">\n",
       "      <th></th>\n",
       "      <th>Product Brand</th>\n",
       "      <th>Product Description</th>\n",
       "      <th>Product Price</th>\n",
       "      <th>Product Discount</th>\n",
       "    </tr>\n",
       "  </thead>\n",
       "  <tbody>\n",
       "    <tr>\n",
       "      <th>0</th>\n",
       "      <td>Eyenaks</td>\n",
       "      <td>UV Protection Rectangular Sunglasses (Free Size)</td>\n",
       "      <td>₹346</td>\n",
       "      <td>76% off</td>\n",
       "    </tr>\n",
       "    <tr>\n",
       "      <th>1</th>\n",
       "      <td>NuVew</td>\n",
       "      <td>UV Protection Sports, Wrap-around Sunglasses (70)</td>\n",
       "      <td>₹499</td>\n",
       "      <td>68% off</td>\n",
       "    </tr>\n",
       "    <tr>\n",
       "      <th>2</th>\n",
       "      <td>ROADWAY</td>\n",
       "      <td>UV Protection Wayfarer, Sports, Spectacle , Re...</td>\n",
       "      <td>₹129</td>\n",
       "      <td>90% off</td>\n",
       "    </tr>\n",
       "    <tr>\n",
       "      <th>3</th>\n",
       "      <td>SRPM</td>\n",
       "      <td>UV Protection Wayfarer Sunglasses (50)</td>\n",
       "      <td>₹169</td>\n",
       "      <td>86% off</td>\n",
       "    </tr>\n",
       "    <tr>\n",
       "      <th>4</th>\n",
       "      <td>ROADWAY</td>\n",
       "      <td>UV Protection Retro Square Sunglasses (Free Size)</td>\n",
       "      <td>₹169</td>\n",
       "      <td>86% off</td>\n",
       "    </tr>\n",
       "    <tr>\n",
       "      <th>...</th>\n",
       "      <td>...</td>\n",
       "      <td>...</td>\n",
       "      <td>...</td>\n",
       "      <td>...</td>\n",
       "    </tr>\n",
       "    <tr>\n",
       "      <th>96</th>\n",
       "      <td>RESIST EYEWEAR</td>\n",
       "      <td>Toughened Glass Lens, UV Protection, Riding Gl...</td>\n",
       "      <td>₹1,199</td>\n",
       "      <td>76% off</td>\n",
       "    </tr>\n",
       "    <tr>\n",
       "      <th>97</th>\n",
       "      <td>PIRASO</td>\n",
       "      <td>UV Protection Cat-eye Sunglasses (55)</td>\n",
       "      <td>₹199</td>\n",
       "      <td>87% off</td>\n",
       "    </tr>\n",
       "    <tr>\n",
       "      <th>98</th>\n",
       "      <td>Singco India</td>\n",
       "      <td>Polarized, UV Protection Wayfarer, Retro Squar...</td>\n",
       "      <td>₹375</td>\n",
       "      <td>84% off</td>\n",
       "    </tr>\n",
       "    <tr>\n",
       "      <th>99</th>\n",
       "      <td>Ray-Ban</td>\n",
       "      <td>UV Protection Aviator Sunglasses (55)</td>\n",
       "      <td>₹5,541</td>\n",
       "      <td>25% off</td>\n",
       "    </tr>\n",
       "    <tr>\n",
       "      <th>100</th>\n",
       "      <td>ROYAL SON</td>\n",
       "      <td>Polarized, UV Protection Sports Sunglasses (68)</td>\n",
       "      <td>₹1,104</td>\n",
       "      <td>55% off</td>\n",
       "    </tr>\n",
       "  </tbody>\n",
       "</table>\n",
       "<p>101 rows × 4 columns</p>\n",
       "</div>"
      ],
      "text/plain": [
       "      Product Brand                                Product Description  \\\n",
       "0           Eyenaks   UV Protection Rectangular Sunglasses (Free Size)   \n",
       "1             NuVew  UV Protection Sports, Wrap-around Sunglasses (70)   \n",
       "2           ROADWAY  UV Protection Wayfarer, Sports, Spectacle , Re...   \n",
       "3              SRPM             UV Protection Wayfarer Sunglasses (50)   \n",
       "4           ROADWAY  UV Protection Retro Square Sunglasses (Free Size)   \n",
       "..              ...                                                ...   \n",
       "96   RESIST EYEWEAR  Toughened Glass Lens, UV Protection, Riding Gl...   \n",
       "97           PIRASO              UV Protection Cat-eye Sunglasses (55)   \n",
       "98     Singco India  Polarized, UV Protection Wayfarer, Retro Squar...   \n",
       "99          Ray-Ban              UV Protection Aviator Sunglasses (55)   \n",
       "100       ROYAL SON    Polarized, UV Protection Sports Sunglasses (68)   \n",
       "\n",
       "    Product Price Product Discount  \n",
       "0            ₹346          76% off  \n",
       "1            ₹499          68% off  \n",
       "2            ₹129          90% off  \n",
       "3            ₹169          86% off  \n",
       "4            ₹169          86% off  \n",
       "..            ...              ...  \n",
       "96         ₹1,199          76% off  \n",
       "97           ₹199          87% off  \n",
       "98           ₹375          84% off  \n",
       "99         ₹5,541          25% off  \n",
       "100        ₹1,104          55% off  \n",
       "\n",
       "[101 rows x 4 columns]"
      ]
     },
     "execution_count": 73,
     "metadata": {},
     "output_type": "execute_result"
    }
   ],
   "source": [
    "df_4 = pd.DataFrame({'Product Brand':brands,\n",
    "                     'Product Description':descriptions,\n",
    "                     'Product Price':prices,\n",
    "                     'Product Discount':discounts})\n",
    "df_4"
   ]
  },
  {
   "cell_type": "code",
   "execution_count": null,
   "id": "3dad5787",
   "metadata": {},
   "outputs": [],
   "source": []
  },
  {
   "cell_type": "markdown",
   "id": "e531806d",
   "metadata": {},
   "source": [
    "### Q5: Scrape 100 reviews data from flipkart.com for iphone11 phone.\n",
    "\n",
    "#### You have to go the link: https://www.flipkart.com/apple-iphone-11-black-64-gb/product-reviews/itm4e5041ba101fd?pid=MOBFWQ6BXGJCEYNY&lid=LSTMOBFWQ6BXGJCEYNYHWAXCG&marketplace=FLIPKART\n",
    "\n",
    "As shown in the above page you have to scrape the tick marked attributes. These are:\n",
    "1. Rating\n",
    "2. Review summary\n",
    "3. Full review\n",
    "4. You have to scrape this data for first 100reviews."
   ]
  },
  {
   "cell_type": "code",
   "execution_count": 74,
   "id": "a517d85b",
   "metadata": {},
   "outputs": [],
   "source": [
    "driver_5 = webdriver.Chrome()\n",
    "driver_5.maximize_window()"
   ]
  },
  {
   "cell_type": "code",
   "execution_count": 75,
   "id": "5ac52b62",
   "metadata": {},
   "outputs": [],
   "source": [
    "driver_5.get(\"https://www.flipkart.com/apple-iphone-11-black-64-gb/product-reviews/itm4e5041ba101fd?pid=MOBFWQ6BXGJCEYNY&lid=LSTMOBFWQ6BXGJCEYNYHWAXCG&marketplace=FLIPKART\")"
   ]
  },
  {
   "cell_type": "code",
   "execution_count": 76,
   "id": "01d0ec59",
   "metadata": {},
   "outputs": [],
   "source": [
    "ratings = []\n",
    "review_summary = []\n",
    "full_review = []"
   ]
  },
  {
   "cell_type": "code",
   "execution_count": 77,
   "id": "d2aecbc4",
   "metadata": {},
   "outputs": [
    {
     "name": "stdout",
     "output_type": "stream",
     "text": [
      "10 10 10\n"
     ]
    }
   ],
   "source": [
    "rating_tags = driver_5.find_elements(By.XPATH,'//div[@class=\"_3LWZlK _1BLPMq\"]')\n",
    "\n",
    "for i in rating_tags[:10]:\n",
    "    rating = i.text\n",
    "    ratings.append(rating)\n",
    "\n",
    "review_tags = driver_5.find_elements(By.XPATH,'//p[@class=\"_2-N8zT\"]')\n",
    "\n",
    "for i in review_tags[:10]:\n",
    "    review = i.text\n",
    "    review_summary.append(review)\n",
    "    \n",
    "fullreview_tags = driver_5.find_elements(By.XPATH,'//div[@class=\"t-ZTKy\"]')\n",
    "\n",
    "for i in fullreview_tags[:10]:\n",
    "    full_rev = i.text\n",
    "    full_review.append(full_rev)\n",
    "    \n",
    "print(len(ratings),len(review_summary),len(full_review))"
   ]
  },
  {
   "cell_type": "code",
   "execution_count": 79,
   "id": "d5cd157f",
   "metadata": {},
   "outputs": [],
   "source": [
    "next_button = driver_5.find_element(By.XPATH,'//a[@class=\"_1LKTO3\"]')\n",
    "next_button.click()"
   ]
  },
  {
   "cell_type": "code",
   "execution_count": 80,
   "id": "dcc0174c",
   "metadata": {},
   "outputs": [
    {
     "name": "stdout",
     "output_type": "stream",
     "text": [
      "20 20 20\n"
     ]
    }
   ],
   "source": [
    "rating_tags = driver_5.find_elements(By.XPATH,'//div[@class=\"_3LWZlK _1BLPMq\"]')\n",
    "\n",
    "for i in rating_tags[:10]:\n",
    "    rating = i.text\n",
    "    ratings.append(rating)\n",
    "\n",
    "review_tags = driver_5.find_elements(By.XPATH,'//p[@class=\"_2-N8zT\"]')\n",
    "\n",
    "for i in review_tags[:10]:\n",
    "    review = i.text\n",
    "    review_summary.append(review)\n",
    "    \n",
    "fullreview_tags = driver_5.find_elements(By.XPATH,'//div[@class=\"t-ZTKy\"]')\n",
    "\n",
    "for i in fullreview_tags[:10]:\n",
    "    full_rev = i.text\n",
    "    full_review.append(full_rev)\n",
    "    \n",
    "print(len(ratings),len(review_summary),len(full_review))"
   ]
  },
  {
   "cell_type": "code",
   "execution_count": 81,
   "id": "f83d51b8",
   "metadata": {},
   "outputs": [],
   "source": [
    "next_button = driver_5.find_element(By.XPATH,'//a[@class=\"_1LKTO3\"][2]')\n",
    "next_button.click()"
   ]
  },
  {
   "cell_type": "code",
   "execution_count": 82,
   "id": "c9ca8906",
   "metadata": {},
   "outputs": [
    {
     "name": "stdout",
     "output_type": "stream",
     "text": [
      "30 30 30\n"
     ]
    }
   ],
   "source": [
    "rating_tags = driver_5.find_elements(By.XPATH,'//div[@class=\"_3LWZlK _1BLPMq\"]')\n",
    "\n",
    "for i in rating_tags[:10]:\n",
    "    rating = i.text\n",
    "    ratings.append(rating)\n",
    "\n",
    "review_tags = driver_5.find_elements(By.XPATH,'//p[@class=\"_2-N8zT\"]')\n",
    "\n",
    "for i in review_tags[:10]:\n",
    "    review = i.text\n",
    "    review_summary.append(review)\n",
    "    \n",
    "fullreview_tags = driver_5.find_elements(By.XPATH,'//div[@class=\"t-ZTKy\"]')\n",
    "\n",
    "for i in fullreview_tags[:10]:\n",
    "    full_rev = i.text\n",
    "    full_review.append(full_rev)\n",
    "    \n",
    "print(len(ratings),len(review_summary),len(full_review))"
   ]
  },
  {
   "cell_type": "code",
   "execution_count": 83,
   "id": "f12b6a0e",
   "metadata": {},
   "outputs": [],
   "source": [
    "next_button = driver_5.find_element(By.XPATH,'//a[@class=\"_1LKTO3\"][2]')\n",
    "next_button.click()"
   ]
  },
  {
   "cell_type": "code",
   "execution_count": 84,
   "id": "a8f03386",
   "metadata": {},
   "outputs": [
    {
     "name": "stdout",
     "output_type": "stream",
     "text": [
      "40 40 40\n"
     ]
    }
   ],
   "source": [
    "rating_tags = driver_5.find_elements(By.XPATH,'//div[@class=\"_3LWZlK _1BLPMq\"]')\n",
    "\n",
    "for i in rating_tags[:10]:\n",
    "    rating = i.text\n",
    "    ratings.append(rating)\n",
    "\n",
    "review_tags = driver_5.find_elements(By.XPATH,'//p[@class=\"_2-N8zT\"]')\n",
    "\n",
    "for i in review_tags[:10]:\n",
    "    review = i.text\n",
    "    review_summary.append(review)\n",
    "    \n",
    "fullreview_tags = driver_5.find_elements(By.XPATH,'//div[@class=\"t-ZTKy\"]')\n",
    "\n",
    "for i in fullreview_tags[:10]:\n",
    "    full_rev = i.text\n",
    "    full_review.append(full_rev)\n",
    "    \n",
    "print(len(ratings),len(review_summary),len(full_review))"
   ]
  },
  {
   "cell_type": "code",
   "execution_count": 85,
   "id": "45404770",
   "metadata": {},
   "outputs": [],
   "source": [
    "next_button = driver_5.find_element(By.XPATH,'//a[@class=\"_1LKTO3\"][2]')\n",
    "next_button.click()"
   ]
  },
  {
   "cell_type": "code",
   "execution_count": 86,
   "id": "a099da6d",
   "metadata": {},
   "outputs": [
    {
     "name": "stdout",
     "output_type": "stream",
     "text": [
      "50 50 50\n"
     ]
    }
   ],
   "source": [
    "rating_tags = driver_5.find_elements(By.XPATH,'//div[@class=\"_3LWZlK _1BLPMq\"]')\n",
    "\n",
    "for i in rating_tags[:10]:\n",
    "    rating = i.text\n",
    "    ratings.append(rating)\n",
    "\n",
    "review_tags = driver_5.find_elements(By.XPATH,'//p[@class=\"_2-N8zT\"]')\n",
    "\n",
    "for i in review_tags[:10]:\n",
    "    review = i.text\n",
    "    review_summary.append(review)\n",
    "    \n",
    "fullreview_tags = driver_5.find_elements(By.XPATH,'//div[@class=\"t-ZTKy\"]')\n",
    "\n",
    "for i in fullreview_tags[:10]:\n",
    "    full_rev = i.text\n",
    "    full_review.append(full_rev)\n",
    "    \n",
    "print(len(ratings),len(review_summary),len(full_review))"
   ]
  },
  {
   "cell_type": "code",
   "execution_count": 87,
   "id": "4319ceb9",
   "metadata": {},
   "outputs": [],
   "source": [
    "next_button = driver_5.find_element(By.XPATH,'//a[@class=\"_1LKTO3\"][2]')\n",
    "next_button.click()"
   ]
  },
  {
   "cell_type": "code",
   "execution_count": 88,
   "id": "e39c2c56",
   "metadata": {},
   "outputs": [
    {
     "name": "stdout",
     "output_type": "stream",
     "text": [
      "60 60 60\n"
     ]
    }
   ],
   "source": [
    "rating_tags = driver_5.find_elements(By.XPATH,'//div[@class=\"_3LWZlK _1BLPMq\"]')\n",
    "\n",
    "for i in rating_tags[:10]:\n",
    "    rating = i.text\n",
    "    ratings.append(rating)\n",
    "\n",
    "review_tags = driver_5.find_elements(By.XPATH,'//p[@class=\"_2-N8zT\"]')\n",
    "\n",
    "for i in review_tags[:10]:\n",
    "    review = i.text\n",
    "    review_summary.append(review)\n",
    "    \n",
    "fullreview_tags = driver_5.find_elements(By.XPATH,'//div[@class=\"t-ZTKy\"]')\n",
    "\n",
    "for i in fullreview_tags[:10]:\n",
    "    full_rev = i.text\n",
    "    full_review.append(full_rev)\n",
    "    \n",
    "print(len(ratings),len(review_summary),len(full_review))"
   ]
  },
  {
   "cell_type": "code",
   "execution_count": 89,
   "id": "a3c3cb73",
   "metadata": {},
   "outputs": [],
   "source": [
    "next_button = driver_5.find_element(By.XPATH,'//a[@class=\"_1LKTO3\"][2]')\n",
    "next_button.click()"
   ]
  },
  {
   "cell_type": "code",
   "execution_count": 90,
   "id": "a62c1200",
   "metadata": {},
   "outputs": [
    {
     "name": "stdout",
     "output_type": "stream",
     "text": [
      "70 70 70\n"
     ]
    }
   ],
   "source": [
    "rating_tags = driver_5.find_elements(By.XPATH,'//div[@class=\"_3LWZlK _1BLPMq\"]')\n",
    "\n",
    "for i in rating_tags[:10]:\n",
    "    rating = i.text\n",
    "    ratings.append(rating)\n",
    "\n",
    "review_tags = driver_5.find_elements(By.XPATH,'//p[@class=\"_2-N8zT\"]')\n",
    "\n",
    "for i in review_tags[:10]:\n",
    "    review = i.text\n",
    "    review_summary.append(review)\n",
    "    \n",
    "fullreview_tags = driver_5.find_elements(By.XPATH,'//div[@class=\"t-ZTKy\"]')\n",
    "\n",
    "for i in fullreview_tags[:10]:\n",
    "    full_rev = i.text\n",
    "    full_review.append(full_rev)\n",
    "    \n",
    "print(len(ratings),len(review_summary),len(full_review))"
   ]
  },
  {
   "cell_type": "code",
   "execution_count": 91,
   "id": "74f3814d",
   "metadata": {},
   "outputs": [],
   "source": [
    "next_button = driver_5.find_element(By.XPATH,'//a[@class=\"_1LKTO3\"][2]')\n",
    "next_button.click()"
   ]
  },
  {
   "cell_type": "code",
   "execution_count": 92,
   "id": "64d7d62c",
   "metadata": {},
   "outputs": [
    {
     "name": "stdout",
     "output_type": "stream",
     "text": [
      "80 80 80\n"
     ]
    }
   ],
   "source": [
    "rating_tags = driver_5.find_elements(By.XPATH,'//div[@class=\"_3LWZlK _1BLPMq\"]')\n",
    "\n",
    "for i in rating_tags[:10]:\n",
    "    rating = i.text\n",
    "    ratings.append(rating)\n",
    "\n",
    "review_tags = driver_5.find_elements(By.XPATH,'//p[@class=\"_2-N8zT\"]')\n",
    "\n",
    "for i in review_tags[:10]:\n",
    "    review = i.text\n",
    "    review_summary.append(review)\n",
    "    \n",
    "fullreview_tags = driver_5.find_elements(By.XPATH,'//div[@class=\"t-ZTKy\"]')\n",
    "\n",
    "for i in fullreview_tags[:10]:\n",
    "    full_rev = i.text\n",
    "    full_review.append(full_rev)\n",
    "    \n",
    "print(len(ratings),len(review_summary),len(full_review))"
   ]
  },
  {
   "cell_type": "code",
   "execution_count": 93,
   "id": "7a7b3295",
   "metadata": {},
   "outputs": [],
   "source": [
    "next_button = driver_5.find_element(By.XPATH,'//a[@class=\"_1LKTO3\"][2]')\n",
    "next_button.click()"
   ]
  },
  {
   "cell_type": "code",
   "execution_count": 94,
   "id": "af9ca651",
   "metadata": {},
   "outputs": [
    {
     "name": "stdout",
     "output_type": "stream",
     "text": [
      "90 90 90\n"
     ]
    }
   ],
   "source": [
    "rating_tags = driver_5.find_elements(By.XPATH,'//div[@class=\"_3LWZlK _1BLPMq\"]')\n",
    "\n",
    "for i in rating_tags[:10]:\n",
    "    rating = i.text\n",
    "    ratings.append(rating)\n",
    "\n",
    "review_tags = driver_5.find_elements(By.XPATH,'//p[@class=\"_2-N8zT\"]')\n",
    "\n",
    "for i in review_tags[:10]:\n",
    "    review = i.text\n",
    "    review_summary.append(review)\n",
    "    \n",
    "fullreview_tags = driver_5.find_elements(By.XPATH,'//div[@class=\"t-ZTKy\"]')\n",
    "\n",
    "for i in fullreview_tags[:10]:\n",
    "    full_rev = i.text\n",
    "    full_review.append(full_rev)\n",
    "    \n",
    "print(len(ratings),len(review_summary),len(full_review))"
   ]
  },
  {
   "cell_type": "code",
   "execution_count": 95,
   "id": "bfa66d99",
   "metadata": {},
   "outputs": [],
   "source": [
    "next_button = driver_5.find_element(By.XPATH,'//a[@class=\"_1LKTO3\"][2]')\n",
    "next_button.click()"
   ]
  },
  {
   "cell_type": "code",
   "execution_count": 96,
   "id": "d3d13f29",
   "metadata": {},
   "outputs": [
    {
     "name": "stdout",
     "output_type": "stream",
     "text": [
      "100 100 100\n"
     ]
    }
   ],
   "source": [
    "rating_tags = driver_5.find_elements(By.XPATH,'//div[@class=\"_3LWZlK _1BLPMq\"]')\n",
    "\n",
    "for i in rating_tags[:10]:\n",
    "    rating = i.text\n",
    "    ratings.append(rating)\n",
    "\n",
    "review_tags = driver_5.find_elements(By.XPATH,'//p[@class=\"_2-N8zT\"]')\n",
    "\n",
    "for i in review_tags[:10]:\n",
    "    review = i.text\n",
    "    review_summary.append(review)\n",
    "    \n",
    "fullreview_tags = driver_5.find_elements(By.XPATH,'//div[@class=\"t-ZTKy\"]')\n",
    "\n",
    "for i in fullreview_tags[:10]:\n",
    "    full_rev = i.text\n",
    "    full_review.append(full_rev)\n",
    "    \n",
    "print(len(ratings),len(review_summary),len(full_review))"
   ]
  },
  {
   "cell_type": "code",
   "execution_count": 97,
   "id": "c347d0b1",
   "metadata": {},
   "outputs": [
    {
     "data": {
      "text/html": [
       "<div>\n",
       "<style scoped>\n",
       "    .dataframe tbody tr th:only-of-type {\n",
       "        vertical-align: middle;\n",
       "    }\n",
       "\n",
       "    .dataframe tbody tr th {\n",
       "        vertical-align: top;\n",
       "    }\n",
       "\n",
       "    .dataframe thead th {\n",
       "        text-align: right;\n",
       "    }\n",
       "</style>\n",
       "<table border=\"1\" class=\"dataframe\">\n",
       "  <thead>\n",
       "    <tr style=\"text-align: right;\">\n",
       "      <th></th>\n",
       "      <th>Rating</th>\n",
       "      <th>Review Summary</th>\n",
       "      <th>Full Review</th>\n",
       "    </tr>\n",
       "  </thead>\n",
       "  <tbody>\n",
       "    <tr>\n",
       "      <th>0</th>\n",
       "      <td>5</td>\n",
       "      <td>Perfect product!</td>\n",
       "      <td>V Good all</td>\n",
       "    </tr>\n",
       "    <tr>\n",
       "      <th>1</th>\n",
       "      <td>5</td>\n",
       "      <td>Wonderful</td>\n",
       "      <td>This is amazing at all</td>\n",
       "    </tr>\n",
       "    <tr>\n",
       "      <th>2</th>\n",
       "      <td>5</td>\n",
       "      <td>Terrific</td>\n",
       "      <td>Very very good</td>\n",
       "    </tr>\n",
       "    <tr>\n",
       "      <th>3</th>\n",
       "      <td>5</td>\n",
       "      <td>Classy product</td>\n",
       "      <td>Camera is awesome\\nBest battery backup\\nA perf...</td>\n",
       "    </tr>\n",
       "    <tr>\n",
       "      <th>4</th>\n",
       "      <td>5</td>\n",
       "      <td>Best in the market!</td>\n",
       "      <td>Good Camera</td>\n",
       "    </tr>\n",
       "    <tr>\n",
       "      <th>...</th>\n",
       "      <td>...</td>\n",
       "      <td>...</td>\n",
       "      <td>...</td>\n",
       "    </tr>\n",
       "    <tr>\n",
       "      <th>95</th>\n",
       "      <td>5</td>\n",
       "      <td>Highly recommended</td>\n",
       "      <td>Thanks Flipkart For this amazing deal! I had a...</td>\n",
       "    </tr>\n",
       "    <tr>\n",
       "      <th>96</th>\n",
       "      <td>5</td>\n",
       "      <td>Wonderful</td>\n",
       "      <td>Excellent Fabulous Adorable Iphone 11 Value fo...</td>\n",
       "    </tr>\n",
       "    <tr>\n",
       "      <th>97</th>\n",
       "      <td>4</td>\n",
       "      <td>Very Good</td>\n",
       "      <td>I switched to IOS for long term use and for be...</td>\n",
       "    </tr>\n",
       "    <tr>\n",
       "      <th>98</th>\n",
       "      <td>5</td>\n",
       "      <td>Brilliant</td>\n",
       "      <td>Perfect iPhone on this budget!! Camera and the...</td>\n",
       "    </tr>\n",
       "    <tr>\n",
       "      <th>99</th>\n",
       "      <td>5</td>\n",
       "      <td>Classy product</td>\n",
       "      <td>Outstanding performance this phone</td>\n",
       "    </tr>\n",
       "  </tbody>\n",
       "</table>\n",
       "<p>100 rows × 3 columns</p>\n",
       "</div>"
      ],
      "text/plain": [
       "   Rating       Review Summary  \\\n",
       "0       5     Perfect product!   \n",
       "1       5            Wonderful   \n",
       "2       5             Terrific   \n",
       "3       5       Classy product   \n",
       "4       5  Best in the market!   \n",
       "..    ...                  ...   \n",
       "95      5   Highly recommended   \n",
       "96      5            Wonderful   \n",
       "97      4            Very Good   \n",
       "98      5            Brilliant   \n",
       "99      5       Classy product   \n",
       "\n",
       "                                          Full Review  \n",
       "0                                          V Good all  \n",
       "1                              This is amazing at all  \n",
       "2                                      Very very good  \n",
       "3   Camera is awesome\\nBest battery backup\\nA perf...  \n",
       "4                                         Good Camera  \n",
       "..                                                ...  \n",
       "95  Thanks Flipkart For this amazing deal! I had a...  \n",
       "96  Excellent Fabulous Adorable Iphone 11 Value fo...  \n",
       "97  I switched to IOS for long term use and for be...  \n",
       "98  Perfect iPhone on this budget!! Camera and the...  \n",
       "99                 Outstanding performance this phone  \n",
       "\n",
       "[100 rows x 3 columns]"
      ]
     },
     "execution_count": 97,
     "metadata": {},
     "output_type": "execute_result"
    }
   ],
   "source": [
    "df = pd.DataFrame({'Rating':ratings,'Review Summary':review_summary,'Full Review':full_review})\n",
    "df"
   ]
  },
  {
   "cell_type": "code",
   "execution_count": null,
   "id": "32f73f73",
   "metadata": {},
   "outputs": [],
   "source": []
  },
  {
   "cell_type": "markdown",
   "id": "755605e2",
   "metadata": {},
   "source": [
    "### Q6: Scrape data for first 100 sneakers you find when you visit flipkart.com and search for “sneakers” in the search field.\n",
    "You have to scrape 3 attributes of each sneaker:\n",
    "1. Brand\n",
    "2. Product Description\n",
    "3. Price\n",
    "As shown in the below image, you have to scrape the above attributes."
   ]
  },
  {
   "cell_type": "code",
   "execution_count": 98,
   "id": "5000ca8d",
   "metadata": {},
   "outputs": [],
   "source": [
    "driver_6 = webdriver.Chrome()\n",
    "driver_6.maximize_window()"
   ]
  },
  {
   "cell_type": "code",
   "execution_count": 99,
   "id": "03e59980",
   "metadata": {},
   "outputs": [],
   "source": [
    "driver_6.get(\"https://www.flipkart.com/\")"
   ]
  },
  {
   "cell_type": "code",
   "execution_count": 100,
   "id": "a068b3d5",
   "metadata": {},
   "outputs": [],
   "source": [
    "search = driver_6.find_element(By.CLASS_NAME,\"Pke_EE\")\n",
    "search.send_keys('sneakers')"
   ]
  },
  {
   "cell_type": "code",
   "execution_count": 102,
   "id": "fcfc790f",
   "metadata": {},
   "outputs": [],
   "source": [
    "search_tab = driver_6.find_element(By.CLASS_NAME,\"_2iLD__\")\n",
    "search_tab.click()"
   ]
  },
  {
   "cell_type": "code",
   "execution_count": 111,
   "id": "a7a99efa",
   "metadata": {},
   "outputs": [],
   "source": [
    "brands = []\n",
    "descriptions = []\n",
    "prices = []"
   ]
  },
  {
   "cell_type": "code",
   "execution_count": 112,
   "id": "b60cc691",
   "metadata": {},
   "outputs": [
    {
     "name": "stdout",
     "output_type": "stream",
     "text": [
      "31 31 31\n"
     ]
    }
   ],
   "source": [
    "brand_tags = driver_6.find_elements(By.XPATH,'//div[@class=\"_2WkVRV\"]')\n",
    "\n",
    "for i in brand_tags[:31]:\n",
    "    brand = i.text    \n",
    "    brands.append(brand)\n",
    "    \n",
    "desc_tags = driver_6.find_elements(By.XPATH,'//a[@class=\"IRpwTa\"]')\n",
    "\n",
    "for i in desc_tags[:31]:\n",
    "    description = i.text\n",
    "    descriptions.append(description)\n",
    "    \n",
    "price_tags = driver_6.find_elements(By.XPATH,'//div[@class=\"_30jeq3\"]')\n",
    "\n",
    "for i in price_tags[:31]:\n",
    "    price = i.text\n",
    "    prices.append(price)\n",
    "    \n",
    "print(len(brands),len(descriptions),len(prices))"
   ]
  },
  {
   "cell_type": "code",
   "execution_count": 113,
   "id": "26b52c45",
   "metadata": {},
   "outputs": [],
   "source": [
    "next_button = driver_6.find_element(By.XPATH,'//a[@class=\"_1LKTO3\"]')\n",
    "next_button.click()"
   ]
  },
  {
   "cell_type": "code",
   "execution_count": 114,
   "id": "f178184d",
   "metadata": {},
   "outputs": [
    {
     "name": "stdout",
     "output_type": "stream",
     "text": [
      "60 60 60\n"
     ]
    }
   ],
   "source": [
    "brand_tags = driver_6.find_elements(By.XPATH,'//div[@class=\"_2WkVRV\"]')\n",
    "\n",
    "for i in brand_tags[:29]:\n",
    "    brand = i.text    \n",
    "    brands.append(brand)\n",
    "    \n",
    "\n",
    "desc_tags = driver_6.find_elements(By.XPATH,'//a[@class=\"IRpwTa\"]')\n",
    "\n",
    "for i in desc_tags[:29]:\n",
    "    description = i.text\n",
    "    descriptions.append(description)\n",
    "    \n",
    "\n",
    "price_tags = driver_6.find_elements(By.XPATH,'//div[@class=\"_30jeq3\"]')\n",
    "\n",
    "for i in price_tags[:29]:\n",
    "    price = i.text\n",
    "    prices.append(price)\n",
    "    \n",
    "print(len(brands),len(descriptions),len(prices))"
   ]
  },
  {
   "cell_type": "code",
   "execution_count": 115,
   "id": "50c9ffad",
   "metadata": {},
   "outputs": [],
   "source": [
    "next_button = driver_6.find_element(By.XPATH,'//a[@class=\"_1LKTO3\"][2]')\n",
    "next_button.click()"
   ]
  },
  {
   "cell_type": "code",
   "execution_count": 116,
   "id": "02346332",
   "metadata": {},
   "outputs": [
    {
     "name": "stdout",
     "output_type": "stream",
     "text": [
      "90 90 90\n"
     ]
    }
   ],
   "source": [
    "brand_tags = driver_6.find_elements(By.XPATH,'//div[@class=\"_2WkVRV\"]')\n",
    "\n",
    "for i in brand_tags[:30]:\n",
    "    brand = i.text    \n",
    "    brands.append(brand)\n",
    "    \n",
    "\n",
    "desc_tags = driver_6.find_elements(By.XPATH,'//a[@class=\"IRpwTa\"]')\n",
    "\n",
    "for i in desc_tags[:30]:\n",
    "    description = i.text\n",
    "    descriptions.append(description)\n",
    "    \n",
    "\n",
    "price_tags = driver_6.find_elements(By.XPATH,'//div[@class=\"_30jeq3\"]')\n",
    "\n",
    "for i in price_tags[:30]:\n",
    "    price = i.text\n",
    "    prices.append(price)\n",
    "    \n",
    "print(len(brands),len(descriptions),len(prices))"
   ]
  },
  {
   "cell_type": "code",
   "execution_count": 117,
   "id": "1d2f45ae",
   "metadata": {},
   "outputs": [],
   "source": [
    "next_button = driver_6.find_element(By.XPATH,'//a[@class=\"_1LKTO3\"][2]')\n",
    "next_button.click()"
   ]
  },
  {
   "cell_type": "code",
   "execution_count": 118,
   "id": "f2545c87",
   "metadata": {},
   "outputs": [
    {
     "name": "stdout",
     "output_type": "stream",
     "text": [
      "100 100 100\n"
     ]
    }
   ],
   "source": [
    "brand_tags = driver_6.find_elements(By.XPATH,'//div[@class=\"_2WkVRV\"]')\n",
    "\n",
    "for i in brand_tags[:10]:\n",
    "    brand = i.text    \n",
    "    brands.append(brand)\n",
    "    \n",
    "\n",
    "desc_tags = driver_6.find_elements(By.XPATH,'//a[@class=\"IRpwTa\"]')\n",
    "\n",
    "for i in desc_tags[:10]:\n",
    "    description = i.text\n",
    "    descriptions.append(description)\n",
    "    \n",
    "\n",
    "price_tags = driver_6.find_elements(By.XPATH,'//div[@class=\"_30jeq3\"]')\n",
    "\n",
    "for i in price_tags[:10]:\n",
    "    price = i.text\n",
    "    prices.append(price)\n",
    "    \n",
    "print(len(brands),len(descriptions),len(prices))"
   ]
  },
  {
   "cell_type": "code",
   "execution_count": 119,
   "id": "f0ecaa77",
   "metadata": {},
   "outputs": [
    {
     "data": {
      "text/html": [
       "<div>\n",
       "<style scoped>\n",
       "    .dataframe tbody tr th:only-of-type {\n",
       "        vertical-align: middle;\n",
       "    }\n",
       "\n",
       "    .dataframe tbody tr th {\n",
       "        vertical-align: top;\n",
       "    }\n",
       "\n",
       "    .dataframe thead th {\n",
       "        text-align: right;\n",
       "    }\n",
       "</style>\n",
       "<table border=\"1\" class=\"dataframe\">\n",
       "  <thead>\n",
       "    <tr style=\"text-align: right;\">\n",
       "      <th></th>\n",
       "      <th>Product Brands</th>\n",
       "      <th>Product Description</th>\n",
       "      <th>Product Price</th>\n",
       "    </tr>\n",
       "  </thead>\n",
       "  <tbody>\n",
       "    <tr>\n",
       "      <th>0</th>\n",
       "      <td>VECHLO</td>\n",
       "      <td>Fashionable Canvas Casual Partywear Outdoor Sn...</td>\n",
       "      <td>₹567</td>\n",
       "    </tr>\n",
       "    <tr>\n",
       "      <th>1</th>\n",
       "      <td>kardam&amp;sons</td>\n",
       "      <td>Sneakers For Women</td>\n",
       "      <td>₹369</td>\n",
       "    </tr>\n",
       "    <tr>\n",
       "      <th>2</th>\n",
       "      <td>Deals4you</td>\n",
       "      <td>Trending Stylish Casual Outdoor Shoes Sneakers...</td>\n",
       "      <td>₹299</td>\n",
       "    </tr>\n",
       "    <tr>\n",
       "      <th>3</th>\n",
       "      <td>URBANBOX</td>\n",
       "      <td>Sneakers For Men</td>\n",
       "      <td>₹299</td>\n",
       "    </tr>\n",
       "    <tr>\n",
       "      <th>4</th>\n",
       "      <td>RED TAPE</td>\n",
       "      <td>Moscow-01 White Sneakers,Loafers,Chunky Shoes ...</td>\n",
       "      <td>₹1,737</td>\n",
       "    </tr>\n",
       "    <tr>\n",
       "      <th>...</th>\n",
       "      <td>...</td>\n",
       "      <td>...</td>\n",
       "      <td>...</td>\n",
       "    </tr>\n",
       "    <tr>\n",
       "      <th>95</th>\n",
       "      <td>K' Footlance</td>\n",
       "      <td>Sneakers For Men</td>\n",
       "      <td>₹346</td>\n",
       "    </tr>\n",
       "    <tr>\n",
       "      <th>96</th>\n",
       "      <td>METRO</td>\n",
       "      <td>NEO MOTORSPORT Sneakers For Men</td>\n",
       "      <td>₹1,989</td>\n",
       "    </tr>\n",
       "    <tr>\n",
       "      <th>97</th>\n",
       "      <td>METRO</td>\n",
       "      <td>SWOOP Sneakers For Women</td>\n",
       "      <td>₹1,489</td>\n",
       "    </tr>\n",
       "    <tr>\n",
       "      <th>98</th>\n",
       "      <td>Shoe Lab</td>\n",
       "      <td>UPID Sneakers For Women</td>\n",
       "      <td>₹399</td>\n",
       "    </tr>\n",
       "    <tr>\n",
       "      <th>99</th>\n",
       "      <td>DUCATI</td>\n",
       "      <td>Alpha Predator Sneakers For Men</td>\n",
       "      <td>₹809</td>\n",
       "    </tr>\n",
       "  </tbody>\n",
       "</table>\n",
       "<p>100 rows × 3 columns</p>\n",
       "</div>"
      ],
      "text/plain": [
       "   Product Brands                                Product Description  \\\n",
       "0          VECHLO  Fashionable Canvas Casual Partywear Outdoor Sn...   \n",
       "1     kardam&sons                                 Sneakers For Women   \n",
       "2       Deals4you  Trending Stylish Casual Outdoor Shoes Sneakers...   \n",
       "3        URBANBOX                                   Sneakers For Men   \n",
       "4        RED TAPE  Moscow-01 White Sneakers,Loafers,Chunky Shoes ...   \n",
       "..            ...                                                ...   \n",
       "95   K' Footlance                                   Sneakers For Men   \n",
       "96          METRO                    NEO MOTORSPORT Sneakers For Men   \n",
       "97          METRO                           SWOOP Sneakers For Women   \n",
       "98       Shoe Lab                            UPID Sneakers For Women   \n",
       "99         DUCATI                    Alpha Predator Sneakers For Men   \n",
       "\n",
       "   Product Price  \n",
       "0           ₹567  \n",
       "1           ₹369  \n",
       "2           ₹299  \n",
       "3           ₹299  \n",
       "4         ₹1,737  \n",
       "..           ...  \n",
       "95          ₹346  \n",
       "96        ₹1,989  \n",
       "97        ₹1,489  \n",
       "98          ₹399  \n",
       "99          ₹809  \n",
       "\n",
       "[100 rows x 3 columns]"
      ]
     },
     "execution_count": 119,
     "metadata": {},
     "output_type": "execute_result"
    }
   ],
   "source": [
    "df = pd.DataFrame({'Product Brands':brands,'Product Description':descriptions,'Product Price':prices})\n",
    "df"
   ]
  },
  {
   "cell_type": "code",
   "execution_count": null,
   "id": "8b5991b1",
   "metadata": {},
   "outputs": [],
   "source": []
  },
  {
   "cell_type": "markdown",
   "id": "72d95080",
   "metadata": {},
   "source": [
    "### Q7: Go to webpage https://www.amazon.in/ Enter “Laptop” in the search field and then click the search icon. Then set CPU Type filter to “Intel Core i7” as shown in the below image:\n",
    "After setting the filters scrape first 10 laptops data. You have to scrape 3 attributes for each laptop:\n",
    "1. Title\n",
    "2. Ratings\n",
    "3. Price"
   ]
  },
  {
   "cell_type": "code",
   "execution_count": 120,
   "id": "e3bc72c9",
   "metadata": {},
   "outputs": [
    {
     "name": "stdout",
     "output_type": "stream",
     "text": [
      "Requirement already satisfied: amazoncaptcha in c:\\users\\shree\\anaconda3\\lib\\site-packages (0.5.11)\n",
      "Requirement already satisfied: requests<2.31.0,>=2.27.1 in c:\\users\\shree\\anaconda3\\lib\\site-packages (from amazoncaptcha) (2.28.1)\n",
      "Requirement already satisfied: pillow<9.6.0,>=9.0.1 in c:\\users\\shree\\anaconda3\\lib\\site-packages (from amazoncaptcha) (9.4.0)\n",
      "Requirement already satisfied: charset-normalizer<3,>=2 in c:\\users\\shree\\anaconda3\\lib\\site-packages (from requests<2.31.0,>=2.27.1->amazoncaptcha) (2.0.4)\n",
      "Requirement already satisfied: certifi>=2017.4.17 in c:\\users\\shree\\anaconda3\\lib\\site-packages (from requests<2.31.0,>=2.27.1->amazoncaptcha) (2022.12.7)\n",
      "Requirement already satisfied: urllib3<1.27,>=1.21.1 in c:\\users\\shree\\anaconda3\\lib\\site-packages (from requests<2.31.0,>=2.27.1->amazoncaptcha) (1.26.14)\n",
      "Requirement already satisfied: idna<4,>=2.5 in c:\\users\\shree\\anaconda3\\lib\\site-packages (from requests<2.31.0,>=2.27.1->amazoncaptcha) (3.4)\n"
     ]
    }
   ],
   "source": [
    "!pip install amazoncaptcha"
   ]
  },
  {
   "cell_type": "code",
   "execution_count": 121,
   "id": "38cf812b",
   "metadata": {},
   "outputs": [],
   "source": [
    "from amazoncaptcha import AmazonCaptcha"
   ]
  },
  {
   "cell_type": "code",
   "execution_count": 125,
   "id": "2494c4be",
   "metadata": {},
   "outputs": [],
   "source": [
    "driver_7 = webdriver.Chrome()\n",
    "driver_7.maximize_window()"
   ]
  },
  {
   "cell_type": "code",
   "execution_count": 126,
   "id": "bee3920d",
   "metadata": {},
   "outputs": [],
   "source": [
    "driver_7.get(\"https://www.amazon.in/\")"
   ]
  },
  {
   "cell_type": "code",
   "execution_count": null,
   "id": "2c5f43ee",
   "metadata": {},
   "outputs": [],
   "source": [
    "driver_7.get(\"https://www.amazon.com/errors/validateCaptcha\")"
   ]
  },
  {
   "cell_type": "code",
   "execution_count": null,
   "id": "c8f80989",
   "metadata": {},
   "outputs": [],
   "source": [
    "link = driver_7.find_element(By.XPATH,'//div[@class=\"a-row a-text-center\"]//img').get_attribute('src')"
   ]
  },
  {
   "cell_type": "code",
   "execution_count": null,
   "id": "bfe6868a",
   "metadata": {},
   "outputs": [],
   "source": [
    "captcha = AmazonCaptcha.fromlink(link)"
   ]
  },
  {
   "cell_type": "code",
   "execution_count": null,
   "id": "4b3d2c86",
   "metadata": {},
   "outputs": [],
   "source": [
    "captcha_value = AmazonCaptcha.solve(captcha)"
   ]
  },
  {
   "cell_type": "code",
   "execution_count": null,
   "id": "73536968",
   "metadata": {},
   "outputs": [],
   "source": [
    "input_field = driver_7.find_element(By.ID,\"captchacharacters\").send_keys(captcha_value)"
   ]
  },
  {
   "cell_type": "code",
   "execution_count": 127,
   "id": "3d945160",
   "metadata": {},
   "outputs": [],
   "source": [
    "button = driver_7.find_element(By.XPATH,'/html/body/div[1]/header/div/div[1]/div[2]/div/form/div[2]/div[1]/input')\n",
    "button.click()"
   ]
  },
  {
   "cell_type": "code",
   "execution_count": null,
   "id": "2cd6c8ab",
   "metadata": {},
   "outputs": [],
   "source": [
    "location = driver_7.find_element(By.XPATH,'//input[@class=\"a-button-input\"]')\n",
    "location.click()"
   ]
  },
  {
   "cell_type": "code",
   "execution_count": 128,
   "id": "f5ae95f5",
   "metadata": {},
   "outputs": [],
   "source": [
    "search = driver_7.find_element(By.XPATH,'//input[@id=\"twotabsearchtextbox\"]')\n",
    "search.send_keys('Laptop')"
   ]
  },
  {
   "cell_type": "code",
   "execution_count": 129,
   "id": "0f8534fe",
   "metadata": {},
   "outputs": [],
   "source": [
    "search_key = driver_7.find_element(By.XPATH,'//input[@id=\"nav-search-submit-button\"]')\n",
    "search_key.click()"
   ]
  },
  {
   "cell_type": "code",
   "execution_count": 132,
   "id": "1294c414",
   "metadata": {},
   "outputs": [],
   "source": [
    "cpu_type = driver_7.find_element(By.XPATH,'/html/body/div[1]/div[1]/div[1]/div[2]/div/div[3]/span/div[1]/div/div/div[6]/ul[12]/span/span[4]/li/span/a/div/label/i')\n",
    "cpu_type.click()"
   ]
  },
  {
   "cell_type": "code",
   "execution_count": 134,
   "id": "d89a7f51",
   "metadata": {},
   "outputs": [],
   "source": [
    "processor = driver_7.find_element(By.XPATH,'/html/body/div[1]/div[1]/div[1]/div[2]/div/div[3]/span/div[1]/div/div/div[8]/ul[19]/span/span[4]/li/span/a/div/label/i')\n",
    "processor.click()"
   ]
  },
  {
   "cell_type": "code",
   "execution_count": 135,
   "id": "9122c7fd",
   "metadata": {},
   "outputs": [],
   "source": [
    "titles = []\n",
    "ratings = []\n",
    "prices = []"
   ]
  },
  {
   "cell_type": "code",
   "execution_count": 136,
   "id": "ea520c71",
   "metadata": {},
   "outputs": [
    {
     "name": "stdout",
     "output_type": "stream",
     "text": [
      "10 10 10\n"
     ]
    }
   ],
   "source": [
    "title_tags = driver_7.find_elements(By.XPATH,'//span[@class=\"a-size-medium a-color-base a-text-normal\"]')\n",
    "\n",
    "for i in title_tags[:10]:\n",
    "    title = i.text\n",
    "    titles.append(title)\n",
    "\n",
    "rating_tab = driver_7.find_elements(By.XPATH,'//i[@class=\"a-icon a-icon-popover\"]')\n",
    "\n",
    "for i in rating_tab[:10]:\n",
    "    rating_tab = driver_7.find_elements(By.XPATH,'//i[@class=\"a-icon a-icon-popover\"]')\n",
    "    rating_tags = driver_7.find_elements(By.XPATH,'/html/body/div[6]/div/div[1]/div/div/div/div/div[2]')\n",
    "    rating = i.text\n",
    "    ratings.append(ratings)\n",
    "\n",
    "\n",
    "price_tags = driver_7.find_elements(By.XPATH,'//span[@class=\"a-price-whole\"]')\n",
    "\n",
    "for i in price_tags[:10]:\n",
    "    price = i.text\n",
    "    prices.append(price)\n",
    "\n",
    "print(len(titles),len(ratings),len(prices))"
   ]
  },
  {
   "cell_type": "code",
   "execution_count": 137,
   "id": "710beca4",
   "metadata": {},
   "outputs": [
    {
     "data": {
      "text/html": [
       "<div>\n",
       "<style scoped>\n",
       "    .dataframe tbody tr th:only-of-type {\n",
       "        vertical-align: middle;\n",
       "    }\n",
       "\n",
       "    .dataframe tbody tr th {\n",
       "        vertical-align: top;\n",
       "    }\n",
       "\n",
       "    .dataframe thead th {\n",
       "        text-align: right;\n",
       "    }\n",
       "</style>\n",
       "<table border=\"1\" class=\"dataframe\">\n",
       "  <thead>\n",
       "    <tr style=\"text-align: right;\">\n",
       "      <th></th>\n",
       "      <th>Title</th>\n",
       "      <th>Rating</th>\n",
       "      <th>Price</th>\n",
       "    </tr>\n",
       "  </thead>\n",
       "  <tbody>\n",
       "    <tr>\n",
       "      <th>0</th>\n",
       "      <td>MSI Modern 14, Intel 12th Gen. i7-1255U, 36CM ...</td>\n",
       "      <td>[[[[[...], [...], [...], [...], [...], [...], ...</td>\n",
       "      <td>59,990</td>\n",
       "    </tr>\n",
       "    <tr>\n",
       "      <th>1</th>\n",
       "      <td>ASUS TUF Gaming F15, 15.6\"(39.62 cms) FHD 144H...</td>\n",
       "      <td>[[[[[...], [...], [...], [...], [...], [...], ...</td>\n",
       "      <td>54,820</td>\n",
       "    </tr>\n",
       "    <tr>\n",
       "      <th>2</th>\n",
       "      <td>HP Windows 11 Home Victus Gaming Laptop,12Th G...</td>\n",
       "      <td>[[[[[...], [...], [...], [...], [...], [...], ...</td>\n",
       "      <td>54,820</td>\n",
       "    </tr>\n",
       "    <tr>\n",
       "      <th>3</th>\n",
       "      <td>Lenovo IdeaPad Slim 3 Intel Core i7 12th Gen 1...</td>\n",
       "      <td>[[[[[...], [...], [...], [...], [...], [...], ...</td>\n",
       "      <td>73,990</td>\n",
       "    </tr>\n",
       "    <tr>\n",
       "      <th>4</th>\n",
       "      <td>Samsung Galaxy Book3 Core i7 13th Gen 1355U - ...</td>\n",
       "      <td>[[[[[...], [...], [...], [...], [...], [...], ...</td>\n",
       "      <td>81,990</td>\n",
       "    </tr>\n",
       "    <tr>\n",
       "      <th>5</th>\n",
       "      <td>HP Pavilion X360 11th Gen Intel Core i7 14\" (3...</td>\n",
       "      <td>[[[[[...], [...], [...], [...], [...], [...], ...</td>\n",
       "      <td>62,031</td>\n",
       "    </tr>\n",
       "    <tr>\n",
       "      <th>6</th>\n",
       "      <td>Acer Travelmate Business Laptop Intel Core i7-...</td>\n",
       "      <td>[[[[[...], [...], [...], [...], [...], [...], ...</td>\n",
       "      <td>82,990</td>\n",
       "    </tr>\n",
       "    <tr>\n",
       "      <th>7</th>\n",
       "      <td>ASUS Vivobook 15, Intel Core i7-12650H 12th Ge...</td>\n",
       "      <td>[[[[[...], [...], [...], [...], [...], [...], ...</td>\n",
       "      <td>77,990</td>\n",
       "    </tr>\n",
       "    <tr>\n",
       "      <th>8</th>\n",
       "      <td>Dell Inspiron 3530 Laptop, Intel Core i7-1355U...</td>\n",
       "      <td>[[[[[...], [...], [...], [...], [...], [...], ...</td>\n",
       "      <td>49,990</td>\n",
       "    </tr>\n",
       "    <tr>\n",
       "      <th>9</th>\n",
       "      <td>ASUS Vivobook 16X, Intel Core i7-12650H 12th G...</td>\n",
       "      <td>[[[[[...], [...], [...], [...], [...], [...], ...</td>\n",
       "      <td>59,990</td>\n",
       "    </tr>\n",
       "  </tbody>\n",
       "</table>\n",
       "</div>"
      ],
      "text/plain": [
       "                                               Title  \\\n",
       "0  MSI Modern 14, Intel 12th Gen. i7-1255U, 36CM ...   \n",
       "1  ASUS TUF Gaming F15, 15.6\"(39.62 cms) FHD 144H...   \n",
       "2  HP Windows 11 Home Victus Gaming Laptop,12Th G...   \n",
       "3  Lenovo IdeaPad Slim 3 Intel Core i7 12th Gen 1...   \n",
       "4  Samsung Galaxy Book3 Core i7 13th Gen 1355U - ...   \n",
       "5  HP Pavilion X360 11th Gen Intel Core i7 14\" (3...   \n",
       "6  Acer Travelmate Business Laptop Intel Core i7-...   \n",
       "7  ASUS Vivobook 15, Intel Core i7-12650H 12th Ge...   \n",
       "8  Dell Inspiron 3530 Laptop, Intel Core i7-1355U...   \n",
       "9  ASUS Vivobook 16X, Intel Core i7-12650H 12th G...   \n",
       "\n",
       "                                              Rating   Price  \n",
       "0  [[[[[...], [...], [...], [...], [...], [...], ...  59,990  \n",
       "1  [[[[[...], [...], [...], [...], [...], [...], ...  54,820  \n",
       "2  [[[[[...], [...], [...], [...], [...], [...], ...  54,820  \n",
       "3  [[[[[...], [...], [...], [...], [...], [...], ...  73,990  \n",
       "4  [[[[[...], [...], [...], [...], [...], [...], ...  81,990  \n",
       "5  [[[[[...], [...], [...], [...], [...], [...], ...  62,031  \n",
       "6  [[[[[...], [...], [...], [...], [...], [...], ...  82,990  \n",
       "7  [[[[[...], [...], [...], [...], [...], [...], ...  77,990  \n",
       "8  [[[[[...], [...], [...], [...], [...], [...], ...  49,990  \n",
       "9  [[[[[...], [...], [...], [...], [...], [...], ...  59,990  "
      ]
     },
     "execution_count": 137,
     "metadata": {},
     "output_type": "execute_result"
    }
   ],
   "source": [
    "df = pd.DataFrame({'Title':titles,'Rating':ratings,'Price':prices})\n",
    "df"
   ]
  },
  {
   "cell_type": "code",
   "execution_count": null,
   "id": "70b9efea",
   "metadata": {},
   "outputs": [],
   "source": []
  },
  {
   "cell_type": "markdown",
   "id": "9421bb5c",
   "metadata": {},
   "source": [
    "### Q8: Write a python program to scrape data for Top 1000 Quotes of All Time.\n",
    "The above task will be done in following steps:\n",
    "1. First get the webpagehttps://www.azquotes.com/\n",
    "2. Click on Top Quotes\n",
    "3. Than scrap a) Quote b) Author c) Type Of Quotes"
   ]
  },
  {
   "cell_type": "code",
   "execution_count": 138,
   "id": "92cd45cd",
   "metadata": {},
   "outputs": [],
   "source": [
    "driver_8 = webdriver.Chrome()\n",
    "driver_8.maximize_window()"
   ]
  },
  {
   "cell_type": "code",
   "execution_count": 139,
   "id": "e2da480d",
   "metadata": {},
   "outputs": [],
   "source": [
    "driver_8.get(\"https://www.azquotes.com/\")"
   ]
  },
  {
   "cell_type": "code",
   "execution_count": 140,
   "id": "08ca3958",
   "metadata": {},
   "outputs": [],
   "source": [
    "topquote_tab = driver_8.find_element(By.XPATH,'//a[@href=\"/top_quotes.html\"]')\n",
    "topquote_tab.click()"
   ]
  },
  {
   "cell_type": "code",
   "execution_count": 141,
   "id": "b6b19dc5",
   "metadata": {},
   "outputs": [],
   "source": [
    "quotes = []\n",
    "authers = []\n",
    "quote_types = []"
   ]
  },
  {
   "cell_type": "code",
   "execution_count": 142,
   "id": "37411e23",
   "metadata": {},
   "outputs": [
    {
     "name": "stdout",
     "output_type": "stream",
     "text": [
      "100 100 100\n"
     ]
    }
   ],
   "source": [
    "quote_tags = driver_8.find_elements(By.XPATH,'//a[@class=\"title\"]')\n",
    "\n",
    "for i in quote_tags:\n",
    "    quote = i.text\n",
    "    quotes.append(quote)\n",
    "\n",
    "auther_tags = driver_8.find_elements(By.XPATH,'//div[@class=\"author\"]')    \n",
    "\n",
    "for i in auther_tags:\n",
    "    auther = i.text\n",
    "    authers.append(auther)\n",
    "    \n",
    "type_tags = driver_8.find_elements(By.XPATH,'//div[@class=\"tags\"]')\n",
    "\n",
    "for i in type_tags:\n",
    "    quote_type = i.text\n",
    "    quote_types.append(quote_type)\n",
    "\n",
    "print(len(quotes),len(authers),len(quote_types))"
   ]
  },
  {
   "cell_type": "code",
   "execution_count": 145,
   "id": "eac14907",
   "metadata": {},
   "outputs": [],
   "source": [
    "next_button = driver_8.find_element(By.XPATH,'/html/body/div[1]/div[2]/div/div/div/div[1]/div/div[4]/li[12]/a')\n",
    "next_button.click()"
   ]
  },
  {
   "cell_type": "code",
   "execution_count": 146,
   "id": "f6585d41",
   "metadata": {},
   "outputs": [
    {
     "name": "stdout",
     "output_type": "stream",
     "text": [
      "200 200 200\n"
     ]
    }
   ],
   "source": [
    "quote_tags = driver_8.find_elements(By.XPATH,'//a[@class=\"title\"]')\n",
    "\n",
    "for i in quote_tags:\n",
    "    quote = i.text\n",
    "    quotes.append(quote)\n",
    "\n",
    "auther_tags = driver_8.find_elements(By.XPATH,'//div[@class=\"author\"]')    \n",
    "\n",
    "for i in auther_tags:\n",
    "    auther = i.text\n",
    "    authers.append(auther)\n",
    "    \n",
    "type_tags = driver_8.find_elements(By.XPATH,'//div[@class=\"tags\"]')\n",
    "\n",
    "for i in type_tags:\n",
    "    quote_type = i.text\n",
    "    quote_types.append(quote_type)\n",
    "\n",
    "print(len(quotes),len(authers),len(quote_types))"
   ]
  },
  {
   "cell_type": "code",
   "execution_count": 147,
   "id": "46069b1f",
   "metadata": {},
   "outputs": [],
   "source": [
    "next_button = driver_8.find_element(By.XPATH,'/html/body/div[1]/div[2]/div/div/div/div[1]/div/div[4]/li[13]/a')\n",
    "next_button.click()"
   ]
  },
  {
   "cell_type": "code",
   "execution_count": 148,
   "id": "6c2d8a1d",
   "metadata": {},
   "outputs": [
    {
     "name": "stdout",
     "output_type": "stream",
     "text": [
      "300 300 300\n"
     ]
    }
   ],
   "source": [
    "quote_tags = driver_8.find_elements(By.XPATH,'//a[@class=\"title\"]')\n",
    "\n",
    "for i in quote_tags:\n",
    "    quote = i.text\n",
    "    quotes.append(quote)\n",
    "\n",
    "auther_tags = driver_8.find_elements(By.XPATH,'//div[@class=\"author\"]')    \n",
    "\n",
    "for i in auther_tags:\n",
    "    auther = i.text\n",
    "    authers.append(auther)\n",
    "    \n",
    "type_tags = driver_8.find_elements(By.XPATH,'//div[@class=\"tags\"]')\n",
    "\n",
    "for i in type_tags:\n",
    "    quote_type = i.text\n",
    "    quote_types.append(quote_type)\n",
    "\n",
    "print(len(quotes),len(authers),len(quote_types))"
   ]
  },
  {
   "cell_type": "code",
   "execution_count": 149,
   "id": "dad53604",
   "metadata": {},
   "outputs": [],
   "source": [
    "next_button = driver_8.find_element(By.XPATH,'/html/body/div[1]/div[2]/div/div/div/div[1]/div/div[4]/li[13]/a')\n",
    "next_button.click()"
   ]
  },
  {
   "cell_type": "code",
   "execution_count": 150,
   "id": "ba8dc1e3",
   "metadata": {},
   "outputs": [
    {
     "name": "stdout",
     "output_type": "stream",
     "text": [
      "400 400 400\n"
     ]
    }
   ],
   "source": [
    "quote_tags = driver_8.find_elements(By.XPATH,'//a[@class=\"title\"]')\n",
    "\n",
    "for i in quote_tags:\n",
    "    quote = i.text\n",
    "    quotes.append(quote)\n",
    "\n",
    "auther_tags = driver_8.find_elements(By.XPATH,'//div[@class=\"author\"]')    \n",
    "\n",
    "for i in auther_tags:\n",
    "    auther = i.text\n",
    "    authers.append(auther)\n",
    "    \n",
    "type_tags = driver_8.find_elements(By.XPATH,'//div[@class=\"tags\"]')\n",
    "\n",
    "for i in type_tags:\n",
    "    quote_type = i.text\n",
    "    quote_types.append(quote_type)\n",
    "\n",
    "print(len(quotes),len(authers),len(quote_types))"
   ]
  },
  {
   "cell_type": "code",
   "execution_count": 151,
   "id": "a8d9ba7b",
   "metadata": {},
   "outputs": [],
   "source": [
    "next_button = driver_8.find_element(By.XPATH,'/html/body/div[1]/div[2]/div/div/div/div[1]/div/div[4]/li[13]/a')\n",
    "next_button.click()"
   ]
  },
  {
   "cell_type": "code",
   "execution_count": 152,
   "id": "74af10ae",
   "metadata": {},
   "outputs": [
    {
     "name": "stdout",
     "output_type": "stream",
     "text": [
      "500 500 500\n"
     ]
    }
   ],
   "source": [
    "quote_tags = driver_8.find_elements(By.XPATH,'//a[@class=\"title\"]')\n",
    "\n",
    "for i in quote_tags:\n",
    "    quote = i.text\n",
    "    quotes.append(quote)\n",
    "\n",
    "auther_tags = driver_8.find_elements(By.XPATH,'//div[@class=\"author\"]')    \n",
    "\n",
    "for i in auther_tags:\n",
    "    auther = i.text\n",
    "    authers.append(auther)\n",
    "    \n",
    "type_tags = driver_8.find_elements(By.XPATH,'//div[@class=\"tags\"]')\n",
    "\n",
    "for i in type_tags:\n",
    "    quote_type = i.text\n",
    "    quote_types.append(quote_type)\n",
    "\n",
    "print(len(quotes),len(authers),len(quote_types))"
   ]
  },
  {
   "cell_type": "code",
   "execution_count": 153,
   "id": "8e5bbd99",
   "metadata": {},
   "outputs": [],
   "source": [
    "next_button = driver_8.find_element(By.XPATH,'/html/body/div[1]/div[2]/div/div/div/div[1]/div/div[4]/li[13]/a')\n",
    "next_button.click()"
   ]
  },
  {
   "cell_type": "code",
   "execution_count": 154,
   "id": "ebdca69a",
   "metadata": {},
   "outputs": [
    {
     "name": "stdout",
     "output_type": "stream",
     "text": [
      "600 600 600\n"
     ]
    }
   ],
   "source": [
    "quote_tags = driver_8.find_elements(By.XPATH,'//a[@class=\"title\"]')\n",
    "\n",
    "for i in quote_tags:\n",
    "    quote = i.text\n",
    "    quotes.append(quote)\n",
    "\n",
    "auther_tags = driver_8.find_elements(By.XPATH,'//div[@class=\"author\"]')    \n",
    "\n",
    "for i in auther_tags:\n",
    "    auther = i.text\n",
    "    authers.append(auther)\n",
    "    \n",
    "type_tags = driver_8.find_elements(By.XPATH,'//div[@class=\"tags\"]')\n",
    "\n",
    "for i in type_tags:\n",
    "    quote_type = i.text\n",
    "    quote_types.append(quote_type)\n",
    "\n",
    "print(len(quotes),len(authers),len(quote_types))"
   ]
  },
  {
   "cell_type": "code",
   "execution_count": 155,
   "id": "1b041593",
   "metadata": {},
   "outputs": [],
   "source": [
    "next_button = driver_8.find_element(By.XPATH,'/html/body/div[1]/div[2]/div/div/div/div[1]/div/div[4]/li[13]/a')\n",
    "next_button.click()"
   ]
  },
  {
   "cell_type": "code",
   "execution_count": 156,
   "id": "a2fd579f",
   "metadata": {},
   "outputs": [
    {
     "name": "stdout",
     "output_type": "stream",
     "text": [
      "700 700 700\n"
     ]
    }
   ],
   "source": [
    "quote_tags = driver_8.find_elements(By.XPATH,'//a[@class=\"title\"]')\n",
    "\n",
    "for i in quote_tags:\n",
    "    quote = i.text\n",
    "    quotes.append(quote)\n",
    "\n",
    "auther_tags = driver_8.find_elements(By.XPATH,'//div[@class=\"author\"]')    \n",
    "\n",
    "for i in auther_tags:\n",
    "    auther = i.text\n",
    "    authers.append(auther)\n",
    "    \n",
    "type_tags = driver_8.find_elements(By.XPATH,'//div[@class=\"tags\"]')\n",
    "\n",
    "for i in type_tags:\n",
    "    quote_type = i.text\n",
    "    quote_types.append(quote_type)\n",
    "\n",
    "print(len(quotes),len(authers),len(quote_types))"
   ]
  },
  {
   "cell_type": "code",
   "execution_count": 157,
   "id": "f95db4c5",
   "metadata": {},
   "outputs": [],
   "source": [
    "next_button = driver_8.find_element(By.XPATH,'/html/body/div[1]/div[2]/div/div/div/div[1]/div/div[4]/li[13]/a')\n",
    "next_button.click()"
   ]
  },
  {
   "cell_type": "code",
   "execution_count": 158,
   "id": "2a78f956",
   "metadata": {},
   "outputs": [
    {
     "name": "stdout",
     "output_type": "stream",
     "text": [
      "800 800 800\n"
     ]
    }
   ],
   "source": [
    "quote_tags = driver_8.find_elements(By.XPATH,'//a[@class=\"title\"]')\n",
    "\n",
    "for i in quote_tags:\n",
    "    quote = i.text\n",
    "    quotes.append(quote)\n",
    "\n",
    "auther_tags = driver_8.find_elements(By.XPATH,'//div[@class=\"author\"]')    \n",
    "\n",
    "for i in auther_tags:\n",
    "    auther = i.text\n",
    "    authers.append(auther)\n",
    "    \n",
    "type_tags = driver_8.find_elements(By.XPATH,'//div[@class=\"tags\"]')\n",
    "\n",
    "for i in type_tags:\n",
    "    quote_type = i.text\n",
    "    quote_types.append(quote_type)\n",
    "\n",
    "print(len(quotes),len(authers),len(quote_types))"
   ]
  },
  {
   "cell_type": "code",
   "execution_count": 159,
   "id": "bb9e41ed",
   "metadata": {},
   "outputs": [],
   "source": [
    "next_button = driver_8.find_element(By.XPATH,'/html/body/div[1]/div[2]/div/div/div/div[1]/div/div[4]/li[13]/a')\n",
    "next_button.click()"
   ]
  },
  {
   "cell_type": "code",
   "execution_count": 160,
   "id": "af89e6c3",
   "metadata": {},
   "outputs": [
    {
     "name": "stdout",
     "output_type": "stream",
     "text": [
      "900 900 900\n"
     ]
    }
   ],
   "source": [
    "quote_tags = driver_8.find_elements(By.XPATH,'//a[@class=\"title\"]')\n",
    "\n",
    "for i in quote_tags:\n",
    "    quote = i.text\n",
    "    quotes.append(quote)\n",
    "\n",
    "auther_tags = driver_8.find_elements(By.XPATH,'//div[@class=\"author\"]')    \n",
    "\n",
    "for i in auther_tags:\n",
    "    auther = i.text\n",
    "    authers.append(auther)\n",
    "    \n",
    "type_tags = driver_8.find_elements(By.XPATH,'//div[@class=\"tags\"]')\n",
    "\n",
    "for i in type_tags:\n",
    "    quote_type = i.text\n",
    "    quote_types.append(quote_type)\n",
    "\n",
    "print(len(quotes),len(authers),len(quote_types))"
   ]
  },
  {
   "cell_type": "code",
   "execution_count": 161,
   "id": "037c01c5",
   "metadata": {},
   "outputs": [],
   "source": [
    "next_button = driver_8.find_element(By.XPATH,'/html/body/div[1]/div[2]/div/div/div/div[1]/div/div[4]/li[13]/a')\n",
    "next_button.click()"
   ]
  },
  {
   "cell_type": "code",
   "execution_count": 162,
   "id": "37cf821e",
   "metadata": {},
   "outputs": [
    {
     "name": "stdout",
     "output_type": "stream",
     "text": [
      "1000 1000 1000\n"
     ]
    }
   ],
   "source": [
    "quote_tags = driver_8.find_elements(By.XPATH,'//a[@class=\"title\"]')\n",
    "\n",
    "for i in quote_tags:\n",
    "    quote = i.text\n",
    "    quotes.append(quote)\n",
    "\n",
    "auther_tags = driver_8.find_elements(By.XPATH,'//div[@class=\"author\"]')    \n",
    "\n",
    "for i in auther_tags:\n",
    "    auther = i.text\n",
    "    authers.append(auther)\n",
    "    \n",
    "type_tags = driver_8.find_elements(By.XPATH,'//div[@class=\"tags\"]')\n",
    "\n",
    "for i in type_tags:\n",
    "    quote_type = i.text\n",
    "    quote_types.append(quote_type)\n",
    "\n",
    "print(len(quotes),len(authers),len(quote_types))"
   ]
  },
  {
   "cell_type": "code",
   "execution_count": 163,
   "id": "6feee015",
   "metadata": {},
   "outputs": [
    {
     "data": {
      "text/html": [
       "<div>\n",
       "<style scoped>\n",
       "    .dataframe tbody tr th:only-of-type {\n",
       "        vertical-align: middle;\n",
       "    }\n",
       "\n",
       "    .dataframe tbody tr th {\n",
       "        vertical-align: top;\n",
       "    }\n",
       "\n",
       "    .dataframe thead th {\n",
       "        text-align: right;\n",
       "    }\n",
       "</style>\n",
       "<table border=\"1\" class=\"dataframe\">\n",
       "  <thead>\n",
       "    <tr style=\"text-align: right;\">\n",
       "      <th></th>\n",
       "      <th>Quote</th>\n",
       "      <th>Auther</th>\n",
       "      <th>Type of Quotes</th>\n",
       "    </tr>\n",
       "  </thead>\n",
       "  <tbody>\n",
       "    <tr>\n",
       "      <th>0</th>\n",
       "      <td>The essence of strategy is choosing what not t...</td>\n",
       "      <td>Michael Porter</td>\n",
       "      <td>Essence, Deep Thought, Transcendentalism</td>\n",
       "    </tr>\n",
       "    <tr>\n",
       "      <th>1</th>\n",
       "      <td>One cannot and must not try to erase the past ...</td>\n",
       "      <td>Golda Meir</td>\n",
       "      <td>Inspiration, Past, Trying</td>\n",
       "    </tr>\n",
       "    <tr>\n",
       "      <th>2</th>\n",
       "      <td>Patriotism means to stand by the country. It d...</td>\n",
       "      <td>Theodore Roosevelt</td>\n",
       "      <td>Country, Peace, War</td>\n",
       "    </tr>\n",
       "    <tr>\n",
       "      <th>3</th>\n",
       "      <td>Death is something inevitable. When a man has ...</td>\n",
       "      <td>Nelson Mandela</td>\n",
       "      <td>Inspirational, Motivational, Death</td>\n",
       "    </tr>\n",
       "    <tr>\n",
       "      <th>4</th>\n",
       "      <td>You have to love a nation that celebrates its ...</td>\n",
       "      <td>Erma Bombeck</td>\n",
       "      <td>4th Of July, Food, Patriotic</td>\n",
       "    </tr>\n",
       "    <tr>\n",
       "      <th>...</th>\n",
       "      <td>...</td>\n",
       "      <td>...</td>\n",
       "      <td>...</td>\n",
       "    </tr>\n",
       "    <tr>\n",
       "      <th>995</th>\n",
       "      <td>Regret for the things we did can be tempered b...</td>\n",
       "      <td>Sydney J. Harris</td>\n",
       "      <td>Love, Inspirational, Motivational</td>\n",
       "    </tr>\n",
       "    <tr>\n",
       "      <th>996</th>\n",
       "      <td>America... just a nation of two hundred millio...</td>\n",
       "      <td>Hunter S. Thompson</td>\n",
       "      <td>Gun, Two, Qualms About</td>\n",
       "    </tr>\n",
       "    <tr>\n",
       "      <th>997</th>\n",
       "      <td>For every disciplined effort there is a multip...</td>\n",
       "      <td>Jim Rohn</td>\n",
       "      <td>Inspirational, Greatness, Best Effort</td>\n",
       "    </tr>\n",
       "    <tr>\n",
       "      <th>998</th>\n",
       "      <td>The spiritual journey is individual, highly pe...</td>\n",
       "      <td>Ram Dass</td>\n",
       "      <td>Spiritual, Truth, Yoga</td>\n",
       "    </tr>\n",
       "    <tr>\n",
       "      <th>999</th>\n",
       "      <td>The mind is not a vessel to be filled but a fi...</td>\n",
       "      <td>Plutarch</td>\n",
       "      <td>Inspirational, Leadership, Education</td>\n",
       "    </tr>\n",
       "  </tbody>\n",
       "</table>\n",
       "<p>1000 rows × 3 columns</p>\n",
       "</div>"
      ],
      "text/plain": [
       "                                                 Quote              Auther  \\\n",
       "0    The essence of strategy is choosing what not t...      Michael Porter   \n",
       "1    One cannot and must not try to erase the past ...          Golda Meir   \n",
       "2    Patriotism means to stand by the country. It d...  Theodore Roosevelt   \n",
       "3    Death is something inevitable. When a man has ...      Nelson Mandela   \n",
       "4    You have to love a nation that celebrates its ...        Erma Bombeck   \n",
       "..                                                 ...                 ...   \n",
       "995  Regret for the things we did can be tempered b...    Sydney J. Harris   \n",
       "996  America... just a nation of two hundred millio...  Hunter S. Thompson   \n",
       "997  For every disciplined effort there is a multip...            Jim Rohn   \n",
       "998  The spiritual journey is individual, highly pe...            Ram Dass   \n",
       "999  The mind is not a vessel to be filled but a fi...            Plutarch   \n",
       "\n",
       "                               Type of Quotes  \n",
       "0    Essence, Deep Thought, Transcendentalism  \n",
       "1                   Inspiration, Past, Trying  \n",
       "2                         Country, Peace, War  \n",
       "3          Inspirational, Motivational, Death  \n",
       "4                4th Of July, Food, Patriotic  \n",
       "..                                        ...  \n",
       "995         Love, Inspirational, Motivational  \n",
       "996                    Gun, Two, Qualms About  \n",
       "997     Inspirational, Greatness, Best Effort  \n",
       "998                    Spiritual, Truth, Yoga  \n",
       "999      Inspirational, Leadership, Education  \n",
       "\n",
       "[1000 rows x 3 columns]"
      ]
     },
     "execution_count": 163,
     "metadata": {},
     "output_type": "execute_result"
    }
   ],
   "source": [
    "df = pd.DataFrame({'Quote':quotes,'Auther':authers,'Type of Quotes':quote_types})\n",
    "df"
   ]
  },
  {
   "cell_type": "code",
   "execution_count": null,
   "id": "ce92ec8b",
   "metadata": {},
   "outputs": [],
   "source": []
  },
  {
   "cell_type": "markdown",
   "id": "17269b17",
   "metadata": {},
   "source": [
    "### Q9: Write a python program to display list of respected former Prime Ministers of India(i.e. Name, Born-Dead, Term of office, Remarks) from https://www.jagranjosh.com/.\n",
    "This task will be done in following steps:\n",
    "1. First get the webpagehttps://www.jagranjosh.com/\n",
    "2. Then You have to click on the GK option\n",
    "3. Then click on the List of all Prime Ministers of India\n",
    "4. Then scrap the mentioned data and make theDataFrame."
   ]
  },
  {
   "cell_type": "code",
   "execution_count": 164,
   "id": "7fd2e28b",
   "metadata": {},
   "outputs": [],
   "source": [
    "driver_9 = webdriver.Chrome()\n",
    "driver_9.maximize_window()"
   ]
  },
  {
   "cell_type": "code",
   "execution_count": 165,
   "id": "bd916935",
   "metadata": {},
   "outputs": [],
   "source": [
    "driver_9.get(\"https://www.jagranjosh.com/\")"
   ]
  },
  {
   "cell_type": "code",
   "execution_count": 166,
   "id": "07c68777",
   "metadata": {},
   "outputs": [],
   "source": [
    "gk_tab = driver_9.find_element(By.XPATH,'//a[@href=\"https://www.jagranjosh.com/general-knowledge\"]')\n",
    "gk_tab.click()"
   ]
  },
  {
   "cell_type": "code",
   "execution_count": 168,
   "id": "112cd32c",
   "metadata": {},
   "outputs": [],
   "source": [
    "explore_tab = driver_9.find_element(By.XPATH,'/html/body/div[1]/div[8]/section[5]/div[1]/span/a')\n",
    "explore_tab.click()"
   ]
  },
  {
   "cell_type": "code",
   "execution_count": 169,
   "id": "3757b9d7",
   "metadata": {},
   "outputs": [],
   "source": [
    "list_tab = driver_9.find_element(By.XPATH,'/html/body/div[1]/main/div[1]/div[1]/section[2]/div/ul/li[11]/article/h3/a')\n",
    "list_tab.click()"
   ]
  },
  {
   "cell_type": "code",
   "execution_count": 170,
   "id": "080b5c77",
   "metadata": {},
   "outputs": [],
   "source": [
    "names = []\n",
    "born_dead = []\n",
    "office_term = []\n",
    "remarks = []"
   ]
  },
  {
   "cell_type": "code",
   "execution_count": 171,
   "id": "29d15a57",
   "metadata": {},
   "outputs": [
    {
     "name": "stdout",
     "output_type": "stream",
     "text": [
      "19 19 19 19\n"
     ]
    }
   ],
   "source": [
    "name_data = driver_9.find_elements(By.XPATH,'//div[@class=\"TableData\"]//tbody/tr/td[2]')\n",
    "\n",
    "for i in name_data[:19]:\n",
    "    name = i.text\n",
    "    names.append(name)\n",
    "\n",
    "born_data = driver_9.find_elements(By.XPATH,'//div[@class=\"TableData\"]//tbody/tr/td[3]')\n",
    "\n",
    "for i in born_data[:19]:\n",
    "    born = i.text\n",
    "    born_dead.append(born)\n",
    "\n",
    "office_data = driver_9.find_elements(By.XPATH,'//div[@class=\"TableData\"]//tbody/tr/td[4]')\n",
    "\n",
    "for i in office_data[:19]:\n",
    "    office = i.text\n",
    "    office_term.append(office)\n",
    "\n",
    "remark_data = driver_9.find_elements(By.XPATH,'//div[@class=\"TableData\"]//tbody/tr/td[5]')\n",
    "\n",
    "for i in remark_data[:19]:\n",
    "    remark = i.text\n",
    "    remarks.append(remark)\n",
    "\n",
    "print(len(names),len(born_dead),len(office_term),len(remarks))"
   ]
  },
  {
   "cell_type": "code",
   "execution_count": 172,
   "id": "8f74f3d6",
   "metadata": {},
   "outputs": [
    {
     "data": {
      "text/html": [
       "<div>\n",
       "<style scoped>\n",
       "    .dataframe tbody tr th:only-of-type {\n",
       "        vertical-align: middle;\n",
       "    }\n",
       "\n",
       "    .dataframe tbody tr th {\n",
       "        vertical-align: top;\n",
       "    }\n",
       "\n",
       "    .dataframe thead th {\n",
       "        text-align: right;\n",
       "    }\n",
       "</style>\n",
       "<table border=\"1\" class=\"dataframe\">\n",
       "  <thead>\n",
       "    <tr style=\"text-align: right;\">\n",
       "      <th></th>\n",
       "      <th>PM Names</th>\n",
       "      <th>Born-Dead</th>\n",
       "      <th>Term of Office</th>\n",
       "      <th>Remarks</th>\n",
       "    </tr>\n",
       "  </thead>\n",
       "  <tbody>\n",
       "    <tr>\n",
       "      <th>0</th>\n",
       "      <td>Jawahar Lal Nehru</td>\n",
       "      <td>(1889–1964)</td>\n",
       "      <td>15 August 1947 to 27 May 1964\\n16 years, 286 days</td>\n",
       "      <td>The first prime minister of India and the long...</td>\n",
       "    </tr>\n",
       "    <tr>\n",
       "      <th>1</th>\n",
       "      <td>Gulzarilal Nanda (Acting)</td>\n",
       "      <td>(1898-1998)</td>\n",
       "      <td>27 May 1964 to 9 June 1964,\\n13 days</td>\n",
       "      <td>First acting PM of India</td>\n",
       "    </tr>\n",
       "    <tr>\n",
       "      <th>2</th>\n",
       "      <td>Lal Bahadur Shastri</td>\n",
       "      <td>(1904–1966)</td>\n",
       "      <td>9 June 1964 to 11 January 1966\\n1 year, 216 days</td>\n",
       "      <td>He has given the slogan of 'Jai Jawan Jai Kisa...</td>\n",
       "    </tr>\n",
       "    <tr>\n",
       "      <th>3</th>\n",
       "      <td>Gulzari Lal Nanda  (Acting)</td>\n",
       "      <td>(1898-1998)</td>\n",
       "      <td>11 January 1966 to 24 January 1966\\n13 days</td>\n",
       "      <td>-</td>\n",
       "    </tr>\n",
       "    <tr>\n",
       "      <th>4</th>\n",
       "      <td>Indira Gandhi</td>\n",
       "      <td>(1917–1984)</td>\n",
       "      <td>24 January 1966 to 24 March 1977\\n11 years, 59...</td>\n",
       "      <td>First female Prime Minister of India</td>\n",
       "    </tr>\n",
       "    <tr>\n",
       "      <th>5</th>\n",
       "      <td>Morarji Desai</td>\n",
       "      <td>(1896–1995)</td>\n",
       "      <td>24 March 1977 to  28 July 1979 \\n2 year, 126 days</td>\n",
       "      <td>Oldest to become PM (81 years old) and first t...</td>\n",
       "    </tr>\n",
       "    <tr>\n",
       "      <th>6</th>\n",
       "      <td>Charan Singh</td>\n",
       "      <td>(1902–1987)</td>\n",
       "      <td>28 July 1979 to 14 January 1980\\n170 days</td>\n",
       "      <td>Only PM who did not face the Parliament</td>\n",
       "    </tr>\n",
       "    <tr>\n",
       "      <th>7</th>\n",
       "      <td>Indira Gandhi</td>\n",
       "      <td>(1917–1984)</td>\n",
       "      <td>14 January 1980 to 31 October 1984\\n4 years, 2...</td>\n",
       "      <td>The first lady who served as PM for the second...</td>\n",
       "    </tr>\n",
       "    <tr>\n",
       "      <th>8</th>\n",
       "      <td>Rajiv Gandhi</td>\n",
       "      <td>(1944–1991)</td>\n",
       "      <td>31 October 1984 to 2 December 1989\\n5 years, 3...</td>\n",
       "      <td>Youngest to become PM (40 years old)</td>\n",
       "    </tr>\n",
       "    <tr>\n",
       "      <th>9</th>\n",
       "      <td>V. P. Singh</td>\n",
       "      <td>(1931–2008)</td>\n",
       "      <td>2 December 1989 to 10 November 1990\\n343 days</td>\n",
       "      <td>First PM to step down after a vote of no confi...</td>\n",
       "    </tr>\n",
       "    <tr>\n",
       "      <th>10</th>\n",
       "      <td>Chandra Shekhar</td>\n",
       "      <td>(1927–2007)</td>\n",
       "      <td>10 November 1990 to 21 June 1991\\n223 days</td>\n",
       "      <td>He belongs to  Samajwadi Janata Party</td>\n",
       "    </tr>\n",
       "    <tr>\n",
       "      <th>11</th>\n",
       "      <td>P. V. Narasimha Rao</td>\n",
       "      <td>(1921–2004)</td>\n",
       "      <td>21 June 1991 to 16 May 1996\\n4 years, 330 days</td>\n",
       "      <td>First PM from South India</td>\n",
       "    </tr>\n",
       "    <tr>\n",
       "      <th>12</th>\n",
       "      <td>Atal Bihari Vajpayee</td>\n",
       "      <td>(1924- 2018)</td>\n",
       "      <td>16 May 1996 to 1 June 1996\\n16 days</td>\n",
       "      <td>PM for shortest tenure</td>\n",
       "    </tr>\n",
       "    <tr>\n",
       "      <th>13</th>\n",
       "      <td>H. D. Deve Gowda</td>\n",
       "      <td>(born 1933)</td>\n",
       "      <td>1 June 1996 to 21 April 1997\\n324 days</td>\n",
       "      <td>He belongs to  Janata Dal</td>\n",
       "    </tr>\n",
       "    <tr>\n",
       "      <th>14</th>\n",
       "      <td>Inder Kumar Gujral</td>\n",
       "      <td>(1919–2012)</td>\n",
       "      <td>21 April 1997 to 19 March 1998 \\n332 days</td>\n",
       "      <td>------</td>\n",
       "    </tr>\n",
       "    <tr>\n",
       "      <th>15</th>\n",
       "      <td>Atal Bihari Vajpayee</td>\n",
       "      <td>(1924-2018)</td>\n",
       "      <td>19 March 1998 to 22 May 2004 \\n6 years, 64 days</td>\n",
       "      <td>The first non-congress PM who completed a ful...</td>\n",
       "    </tr>\n",
       "    <tr>\n",
       "      <th>16</th>\n",
       "      <td>Manmohan Singh</td>\n",
       "      <td>(born 1932)</td>\n",
       "      <td>22 May 2004 to 26 May 2014   \\n10 years, 4 days</td>\n",
       "      <td>First Sikh PM</td>\n",
       "    </tr>\n",
       "    <tr>\n",
       "      <th>17</th>\n",
       "      <td>Narendra Modi</td>\n",
       "      <td>(born 1950)</td>\n",
       "      <td>26 May 2014 - 2019</td>\n",
       "      <td>4th Prime Minister of India who served two con...</td>\n",
       "    </tr>\n",
       "    <tr>\n",
       "      <th>18</th>\n",
       "      <td>Narendra Modi</td>\n",
       "      <td>(born 1950)</td>\n",
       "      <td>30 May 2019- Incumbent</td>\n",
       "      <td>First non-congress PM with two consecutive ten...</td>\n",
       "    </tr>\n",
       "  </tbody>\n",
       "</table>\n",
       "</div>"
      ],
      "text/plain": [
       "                       PM Names     Born-Dead  \\\n",
       "0             Jawahar Lal Nehru   (1889–1964)   \n",
       "1     Gulzarilal Nanda (Acting)   (1898-1998)   \n",
       "2           Lal Bahadur Shastri   (1904–1966)   \n",
       "3   Gulzari Lal Nanda  (Acting)   (1898-1998)   \n",
       "4                 Indira Gandhi   (1917–1984)   \n",
       "5                 Morarji Desai   (1896–1995)   \n",
       "6                  Charan Singh   (1902–1987)   \n",
       "7                 Indira Gandhi   (1917–1984)   \n",
       "8                  Rajiv Gandhi   (1944–1991)   \n",
       "9                   V. P. Singh   (1931–2008)   \n",
       "10              Chandra Shekhar   (1927–2007)   \n",
       "11          P. V. Narasimha Rao   (1921–2004)   \n",
       "12         Atal Bihari Vajpayee  (1924- 2018)   \n",
       "13             H. D. Deve Gowda   (born 1933)   \n",
       "14           Inder Kumar Gujral   (1919–2012)   \n",
       "15         Atal Bihari Vajpayee   (1924-2018)   \n",
       "16               Manmohan Singh   (born 1932)   \n",
       "17                Narendra Modi   (born 1950)   \n",
       "18                Narendra Modi   (born 1950)   \n",
       "\n",
       "                                       Term of Office  \\\n",
       "0   15 August 1947 to 27 May 1964\\n16 years, 286 days   \n",
       "1                27 May 1964 to 9 June 1964,\\n13 days   \n",
       "2    9 June 1964 to 11 January 1966\\n1 year, 216 days   \n",
       "3         11 January 1966 to 24 January 1966\\n13 days   \n",
       "4   24 January 1966 to 24 March 1977\\n11 years, 59...   \n",
       "5   24 March 1977 to  28 July 1979 \\n2 year, 126 days   \n",
       "6           28 July 1979 to 14 January 1980\\n170 days   \n",
       "7   14 January 1980 to 31 October 1984\\n4 years, 2...   \n",
       "8   31 October 1984 to 2 December 1989\\n5 years, 3...   \n",
       "9       2 December 1989 to 10 November 1990\\n343 days   \n",
       "10         10 November 1990 to 21 June 1991\\n223 days   \n",
       "11     21 June 1991 to 16 May 1996\\n4 years, 330 days   \n",
       "12                16 May 1996 to 1 June 1996\\n16 days   \n",
       "13             1 June 1996 to 21 April 1997\\n324 days   \n",
       "14          21 April 1997 to 19 March 1998 \\n332 days   \n",
       "15    19 March 1998 to 22 May 2004 \\n6 years, 64 days   \n",
       "16    22 May 2004 to 26 May 2014   \\n10 years, 4 days   \n",
       "17                                 26 May 2014 - 2019   \n",
       "18                             30 May 2019- Incumbent   \n",
       "\n",
       "                                              Remarks  \n",
       "0   The first prime minister of India and the long...  \n",
       "1                            First acting PM of India  \n",
       "2   He has given the slogan of 'Jai Jawan Jai Kisa...  \n",
       "3                                                   -  \n",
       "4                First female Prime Minister of India  \n",
       "5   Oldest to become PM (81 years old) and first t...  \n",
       "6             Only PM who did not face the Parliament  \n",
       "7   The first lady who served as PM for the second...  \n",
       "8                Youngest to become PM (40 years old)  \n",
       "9   First PM to step down after a vote of no confi...  \n",
       "10              He belongs to  Samajwadi Janata Party  \n",
       "11                          First PM from South India  \n",
       "12                             PM for shortest tenure  \n",
       "13                          He belongs to  Janata Dal  \n",
       "14                                             ------  \n",
       "15   The first non-congress PM who completed a ful...  \n",
       "16                                      First Sikh PM  \n",
       "17  4th Prime Minister of India who served two con...  \n",
       "18  First non-congress PM with two consecutive ten...  "
      ]
     },
     "execution_count": 172,
     "metadata": {},
     "output_type": "execute_result"
    }
   ],
   "source": [
    "df_9 = pd.DataFrame({'PM Names':names,'Born-Dead':born_dead,'Term of Office':office_term,'Remarks':remarks})\n",
    "df_9"
   ]
  },
  {
   "cell_type": "code",
   "execution_count": null,
   "id": "48cb83cc",
   "metadata": {},
   "outputs": [],
   "source": []
  },
  {
   "cell_type": "markdown",
   "id": "94469050",
   "metadata": {},
   "source": [
    "### Q10: Write a python program to display list of 50 Most expensive cars in the world (i.e. Car name and Price) from https://www.motor1.com/\n",
    "This task will be done in following steps:\n",
    "1. First get the webpage https://www.motor1.com/\n",
    "2. Then You have to type in the search bar ’50 most expensive cars’\n",
    "3. Then click on 50 most expensive cars in the world..\n",
    "4. Then scrap the mentioned data and make the dataframe."
   ]
  },
  {
   "cell_type": "code",
   "execution_count": 173,
   "id": "09b24149",
   "metadata": {},
   "outputs": [],
   "source": [
    "driver_10 = webdriver.Chrome()\n",
    "driver_10.maximize_window()"
   ]
  },
  {
   "cell_type": "code",
   "execution_count": 174,
   "id": "124455d3",
   "metadata": {},
   "outputs": [],
   "source": [
    "driver_10.get(\"https://www.motor1.com/\")"
   ]
  },
  {
   "cell_type": "code",
   "execution_count": 175,
   "id": "efea6a5f",
   "metadata": {},
   "outputs": [],
   "source": [
    "type_in = driver_10.find_element(By.XPATH,'//input[@class=\"m1-search-panel-input m1-search-form-text\"]')\n",
    "type_in.send_keys('50 most expensive cars')"
   ]
  },
  {
   "cell_type": "code",
   "execution_count": 176,
   "id": "0b9d00d4",
   "metadata": {},
   "outputs": [],
   "source": [
    "search = driver_10.find_element(By.XPATH,'//button[@class=\"m1-search-panel-button m1-search-form-button-animate icon-search-svg\"]')\n",
    "search.click()"
   ]
  },
  {
   "cell_type": "code",
   "execution_count": 177,
   "id": "cd27ea13",
   "metadata": {},
   "outputs": [],
   "source": [
    "search_2 = driver_10.find_element(By.XPATH,'/html/body/div[10]/div[9]/div/div[1]/div/div/div[2]/div/div[1]/h3/a')\n",
    "search_2.click()"
   ]
  },
  {
   "cell_type": "code",
   "execution_count": 178,
   "id": "a6cb3944",
   "metadata": {},
   "outputs": [],
   "source": [
    "car_name = []\n",
    "prices = []"
   ]
  },
  {
   "cell_type": "code",
   "execution_count": 179,
   "id": "b864f9db",
   "metadata": {},
   "outputs": [
    {
     "name": "stdout",
     "output_type": "stream",
     "text": [
      "50 50\n"
     ]
    }
   ],
   "source": [
    "name_tags = driver_10.find_elements(By.XPATH,'//h3[@class=\"subheader\"]')\n",
    "\n",
    "for i in name_tags[:50]:\n",
    "    name = i.text\n",
    "    car_name.append(name)\n",
    "\n",
    "price_tags = driver_10.find_elements(By.XPATH,'//p[strong]')\n",
    "\n",
    "for i in price_tags[:50]:\n",
    "    price = i.text\n",
    "    prices.append(price)\n",
    "\n",
    "print(len(car_name),len(prices))"
   ]
  },
  {
   "cell_type": "code",
   "execution_count": 180,
   "id": "40c22cc1",
   "metadata": {},
   "outputs": [
    {
     "data": {
      "text/html": [
       "<div>\n",
       "<style scoped>\n",
       "    .dataframe tbody tr th:only-of-type {\n",
       "        vertical-align: middle;\n",
       "    }\n",
       "\n",
       "    .dataframe tbody tr th {\n",
       "        vertical-align: top;\n",
       "    }\n",
       "\n",
       "    .dataframe thead th {\n",
       "        text-align: right;\n",
       "    }\n",
       "</style>\n",
       "<table border=\"1\" class=\"dataframe\">\n",
       "  <thead>\n",
       "    <tr style=\"text-align: right;\">\n",
       "      <th></th>\n",
       "      <th>Car Name</th>\n",
       "      <th>Price</th>\n",
       "    </tr>\n",
       "  </thead>\n",
       "  <tbody>\n",
       "    <tr>\n",
       "      <th>0</th>\n",
       "      <td>Aston Martin Valour</td>\n",
       "      <td>Price: $1.5 Million</td>\n",
       "    </tr>\n",
       "    <tr>\n",
       "      <th>1</th>\n",
       "      <td>McLaren Elva</td>\n",
       "      <td>Price: $1.7 Million</td>\n",
       "    </tr>\n",
       "    <tr>\n",
       "      <th>2</th>\n",
       "      <td>Czinger 21C</td>\n",
       "      <td>Price: $1.7 Million</td>\n",
       "    </tr>\n",
       "    <tr>\n",
       "      <th>3</th>\n",
       "      <td>Ferrari Monza</td>\n",
       "      <td>Price: $1.7 Million</td>\n",
       "    </tr>\n",
       "    <tr>\n",
       "      <th>4</th>\n",
       "      <td>Gordon Murray T.33</td>\n",
       "      <td>Price: $1.7 Million</td>\n",
       "    </tr>\n",
       "    <tr>\n",
       "      <th>5</th>\n",
       "      <td>Koenigsegg Gemera</td>\n",
       "      <td>Price: $1.7 Million</td>\n",
       "    </tr>\n",
       "    <tr>\n",
       "      <th>6</th>\n",
       "      <td>Zenvo TSR-S</td>\n",
       "      <td>Price: $1.7 Million</td>\n",
       "    </tr>\n",
       "    <tr>\n",
       "      <th>7</th>\n",
       "      <td>Hennessey Venom F5</td>\n",
       "      <td>Price: $1.8 Million</td>\n",
       "    </tr>\n",
       "    <tr>\n",
       "      <th>8</th>\n",
       "      <td>Bentley Bacalar</td>\n",
       "      <td>Price: $1.9 Million</td>\n",
       "    </tr>\n",
       "    <tr>\n",
       "      <th>9</th>\n",
       "      <td>Hispano Suiza Carmen Boulogne</td>\n",
       "      <td>Price: $1.9 Million</td>\n",
       "    </tr>\n",
       "    <tr>\n",
       "      <th>10</th>\n",
       "      <td>Bentley Mulliner Batur</td>\n",
       "      <td>Price: $2.0 Million</td>\n",
       "    </tr>\n",
       "    <tr>\n",
       "      <th>11</th>\n",
       "      <td>Deus Vayanne</td>\n",
       "      <td>Price: $2.0 Million</td>\n",
       "    </tr>\n",
       "    <tr>\n",
       "      <th>12</th>\n",
       "      <td>SSC Tuatara</td>\n",
       "      <td>Price: $2.0 Million</td>\n",
       "    </tr>\n",
       "    <tr>\n",
       "      <th>13</th>\n",
       "      <td>Lotus Evija</td>\n",
       "      <td>Price: $2.1 Million</td>\n",
       "    </tr>\n",
       "    <tr>\n",
       "      <th>14</th>\n",
       "      <td>Aston Martin Vulcan</td>\n",
       "      <td>Price: $2.3 Million</td>\n",
       "    </tr>\n",
       "    <tr>\n",
       "      <th>15</th>\n",
       "      <td>Delage D12</td>\n",
       "      <td>Price: $2.3 Million</td>\n",
       "    </tr>\n",
       "    <tr>\n",
       "      <th>16</th>\n",
       "      <td>Ferrari Daytona SP3</td>\n",
       "      <td>Price: $2.3 Million</td>\n",
       "    </tr>\n",
       "    <tr>\n",
       "      <th>17</th>\n",
       "      <td>McLaren Speedtail</td>\n",
       "      <td>Price: $2.3 Million</td>\n",
       "    </tr>\n",
       "    <tr>\n",
       "      <th>18</th>\n",
       "      <td>Rimac Nevera</td>\n",
       "      <td>Price: $2.4 Million</td>\n",
       "    </tr>\n",
       "    <tr>\n",
       "      <th>19</th>\n",
       "      <td>Pagani Utopia</td>\n",
       "      <td>Price: $2.5 Million</td>\n",
       "    </tr>\n",
       "    <tr>\n",
       "      <th>20</th>\n",
       "      <td>Pininfarina Battista</td>\n",
       "      <td>Price: $2.5 Million</td>\n",
       "    </tr>\n",
       "    <tr>\n",
       "      <th>21</th>\n",
       "      <td>Gordon Murray T.50</td>\n",
       "      <td>Price: $2.6 Million</td>\n",
       "    </tr>\n",
       "    <tr>\n",
       "      <th>22</th>\n",
       "      <td>Lamborghini Countach</td>\n",
       "      <td>Price: $2.6 Million</td>\n",
       "    </tr>\n",
       "    <tr>\n",
       "      <th>23</th>\n",
       "      <td>Mercedes-AMG Project One</td>\n",
       "      <td>Price: $2.7 Million</td>\n",
       "    </tr>\n",
       "    <tr>\n",
       "      <th>24</th>\n",
       "      <td>Zenvo Aurora</td>\n",
       "      <td>Price: $2.8 Million</td>\n",
       "    </tr>\n",
       "    <tr>\n",
       "      <th>25</th>\n",
       "      <td>Aston Martin Victor</td>\n",
       "      <td>Price: $3.0 Million</td>\n",
       "    </tr>\n",
       "    <tr>\n",
       "      <th>26</th>\n",
       "      <td>Hennessey Venom F5 Roadster</td>\n",
       "      <td>$3.0 Million</td>\n",
       "    </tr>\n",
       "    <tr>\n",
       "      <th>27</th>\n",
       "      <td>Koenigsegg Jesko</td>\n",
       "      <td>Price: $3.0 Million</td>\n",
       "    </tr>\n",
       "    <tr>\n",
       "      <th>28</th>\n",
       "      <td>Aston Martin Valkyrie</td>\n",
       "      <td>Price: $3.2 Million</td>\n",
       "    </tr>\n",
       "    <tr>\n",
       "      <th>29</th>\n",
       "      <td>W Motors Lykan Hypersport</td>\n",
       "      <td>Price: $3.4 Million</td>\n",
       "    </tr>\n",
       "    <tr>\n",
       "      <th>30</th>\n",
       "      <td>McLaren Solus</td>\n",
       "      <td>$3.5 Million</td>\n",
       "    </tr>\n",
       "    <tr>\n",
       "      <th>31</th>\n",
       "      <td>Lamborghini Sian</td>\n",
       "      <td>Price: $3.6 million</td>\n",
       "    </tr>\n",
       "    <tr>\n",
       "      <th>32</th>\n",
       "      <td>Koenigsegg CC850</td>\n",
       "      <td>Price: $3.7 Million</td>\n",
       "    </tr>\n",
       "    <tr>\n",
       "      <th>33</th>\n",
       "      <td>Bugatti Chiron Super Sport 300+</td>\n",
       "      <td>Price: $3.9 Million</td>\n",
       "    </tr>\n",
       "    <tr>\n",
       "      <th>34</th>\n",
       "      <td>Lamborghini Veneno</td>\n",
       "      <td>Price: $4.5 Million</td>\n",
       "    </tr>\n",
       "    <tr>\n",
       "      <th>35</th>\n",
       "      <td>Bugatti Bolide</td>\n",
       "      <td>Price: $4.7 Million</td>\n",
       "    </tr>\n",
       "    <tr>\n",
       "      <th>36</th>\n",
       "      <td>Pininfarina B95 Speedster</td>\n",
       "      <td>Price: $4.8 Million</td>\n",
       "    </tr>\n",
       "    <tr>\n",
       "      <th>37</th>\n",
       "      <td>Bugatti Mistral</td>\n",
       "      <td>Price: $5.0 Million</td>\n",
       "    </tr>\n",
       "    <tr>\n",
       "      <th>38</th>\n",
       "      <td>Pagani Huayra Imola</td>\n",
       "      <td>Price: $5.4 Million</td>\n",
       "    </tr>\n",
       "    <tr>\n",
       "      <th>39</th>\n",
       "      <td>Bugatti Divo</td>\n",
       "      <td>Price: $5.8 Million</td>\n",
       "    </tr>\n",
       "    <tr>\n",
       "      <th>40</th>\n",
       "      <td>SP Automotive Chaos</td>\n",
       "      <td>Price: $6.4 Million</td>\n",
       "    </tr>\n",
       "    <tr>\n",
       "      <th>41</th>\n",
       "      <td>Pagani Codalunga</td>\n",
       "      <td>Price: $7.4 Million</td>\n",
       "    </tr>\n",
       "    <tr>\n",
       "      <th>42</th>\n",
       "      <td>777 Hypercar</td>\n",
       "      <td>Price: $7.5 Million</td>\n",
       "    </tr>\n",
       "    <tr>\n",
       "      <th>43</th>\n",
       "      <td>Mercedes-Maybach Exelero</td>\n",
       "      <td>Price: $8.0 Million</td>\n",
       "    </tr>\n",
       "    <tr>\n",
       "      <th>44</th>\n",
       "      <td>Bugatti Centodieci</td>\n",
       "      <td>Price: $9.0 Million</td>\n",
       "    </tr>\n",
       "    <tr>\n",
       "      <th>45</th>\n",
       "      <td>Bugatti Chiron Profilée</td>\n",
       "      <td>Price: $10.8 Million</td>\n",
       "    </tr>\n",
       "    <tr>\n",
       "      <th>46</th>\n",
       "      <td>Rolls-Royce Sweptail</td>\n",
       "      <td>Price: $12.8 Million</td>\n",
       "    </tr>\n",
       "    <tr>\n",
       "      <th>47</th>\n",
       "      <td>Bugatti La Voiture Noire</td>\n",
       "      <td>Price: $13.4 Million</td>\n",
       "    </tr>\n",
       "    <tr>\n",
       "      <th>48</th>\n",
       "      <td>Rolls-Royce Boat Tail*</td>\n",
       "      <td>Price: $28.0 Million (est.)</td>\n",
       "    </tr>\n",
       "    <tr>\n",
       "      <th>49</th>\n",
       "      <td>Rolls-Royce La Rose Noire Droptail</td>\n",
       "      <td>Price: $30 Million (est.)</td>\n",
       "    </tr>\n",
       "  </tbody>\n",
       "</table>\n",
       "</div>"
      ],
      "text/plain": [
       "                              Car Name                        Price\n",
       "0                  Aston Martin Valour          Price: $1.5 Million\n",
       "1                         McLaren Elva          Price: $1.7 Million\n",
       "2                          Czinger 21C          Price: $1.7 Million\n",
       "3                        Ferrari Monza          Price: $1.7 Million\n",
       "4                   Gordon Murray T.33          Price: $1.7 Million\n",
       "5                    Koenigsegg Gemera          Price: $1.7 Million\n",
       "6                          Zenvo TSR-S          Price: $1.7 Million\n",
       "7                   Hennessey Venom F5          Price: $1.8 Million\n",
       "8                      Bentley Bacalar          Price: $1.9 Million\n",
       "9        Hispano Suiza Carmen Boulogne          Price: $1.9 Million\n",
       "10              Bentley Mulliner Batur          Price: $2.0 Million\n",
       "11                        Deus Vayanne          Price: $2.0 Million\n",
       "12                         SSC Tuatara          Price: $2.0 Million\n",
       "13                         Lotus Evija          Price: $2.1 Million\n",
       "14                 Aston Martin Vulcan          Price: $2.3 Million\n",
       "15                          Delage D12          Price: $2.3 Million\n",
       "16                 Ferrari Daytona SP3          Price: $2.3 Million\n",
       "17                   McLaren Speedtail          Price: $2.3 Million\n",
       "18                        Rimac Nevera          Price: $2.4 Million\n",
       "19                       Pagani Utopia          Price: $2.5 Million\n",
       "20                Pininfarina Battista          Price: $2.5 Million\n",
       "21                  Gordon Murray T.50          Price: $2.6 Million\n",
       "22                Lamborghini Countach          Price: $2.6 Million\n",
       "23            Mercedes-AMG Project One          Price: $2.7 Million\n",
       "24                        Zenvo Aurora          Price: $2.8 Million\n",
       "25                 Aston Martin Victor          Price: $3.0 Million\n",
       "26         Hennessey Venom F5 Roadster                 $3.0 Million\n",
       "27                    Koenigsegg Jesko          Price: $3.0 Million\n",
       "28               Aston Martin Valkyrie          Price: $3.2 Million\n",
       "29           W Motors Lykan Hypersport          Price: $3.4 Million\n",
       "30                       McLaren Solus                 $3.5 Million\n",
       "31                    Lamborghini Sian          Price: $3.6 million\n",
       "32                    Koenigsegg CC850          Price: $3.7 Million\n",
       "33     Bugatti Chiron Super Sport 300+          Price: $3.9 Million\n",
       "34                  Lamborghini Veneno          Price: $4.5 Million\n",
       "35                      Bugatti Bolide          Price: $4.7 Million\n",
       "36           Pininfarina B95 Speedster          Price: $4.8 Million\n",
       "37                     Bugatti Mistral          Price: $5.0 Million\n",
       "38                 Pagani Huayra Imola          Price: $5.4 Million\n",
       "39                        Bugatti Divo          Price: $5.8 Million\n",
       "40                 SP Automotive Chaos          Price: $6.4 Million\n",
       "41                    Pagani Codalunga          Price: $7.4 Million\n",
       "42                        777 Hypercar          Price: $7.5 Million\n",
       "43            Mercedes-Maybach Exelero          Price: $8.0 Million\n",
       "44                  Bugatti Centodieci          Price: $9.0 Million\n",
       "45             Bugatti Chiron Profilée         Price: $10.8 Million\n",
       "46                Rolls-Royce Sweptail         Price: $12.8 Million\n",
       "47            Bugatti La Voiture Noire         Price: $13.4 Million\n",
       "48              Rolls-Royce Boat Tail*  Price: $28.0 Million (est.)\n",
       "49  Rolls-Royce La Rose Noire Droptail    Price: $30 Million (est.)"
      ]
     },
     "execution_count": 180,
     "metadata": {},
     "output_type": "execute_result"
    }
   ],
   "source": [
    "df = pd.DataFrame({'Car Name':car_name,'Price':prices})\n",
    "df"
   ]
  },
  {
   "cell_type": "code",
   "execution_count": null,
   "id": "4a375211",
   "metadata": {},
   "outputs": [],
   "source": []
  },
  {
   "cell_type": "markdown",
   "id": "3b63f1eb",
   "metadata": {},
   "source": [
    "## End of Assignment"
   ]
  }
 ],
 "metadata": {
  "kernelspec": {
   "display_name": "Python 3 (ipykernel)",
   "language": "python",
   "name": "python3"
  },
  "language_info": {
   "codemirror_mode": {
    "name": "ipython",
    "version": 3
   },
   "file_extension": ".py",
   "mimetype": "text/x-python",
   "name": "python",
   "nbconvert_exporter": "python",
   "pygments_lexer": "ipython3",
   "version": "3.10.9"
  }
 },
 "nbformat": 4,
 "nbformat_minor": 5
}
