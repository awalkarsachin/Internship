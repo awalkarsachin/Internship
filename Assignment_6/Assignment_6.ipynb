{
 "cells": [
  {
   "cell_type": "markdown",
   "id": "f503ddfe",
   "metadata": {},
   "source": [
    "# Assignment 6 (Dated - 12.02.2024)\n",
    "\n",
    "### Name - Sachin Subhash Awalkar\n",
    "### Batch Code - DS2312\n",
    "### Subject - Web Scraping Assignment - 3\n",
    "### Submited on - 23.02.2024"
   ]
  },
  {
   "cell_type": "code",
   "execution_count": 1,
   "id": "20dbe45d",
   "metadata": {
    "scrolled": true
   },
   "outputs": [],
   "source": [
    "import selenium\n",
    "import pandas as pd\n",
    "from selenium import webdriver\n",
    "from selenium.webdriver.common.by import By\n",
    "import time\n",
    "from time import sleep\n",
    "from selenium.webdriver.common.keys import Keys\n",
    "from selenium.webdriver.support.ui import WebDriverWait\n",
    "from selenium.webdriver.support import expected_conditions as EC\n",
    "from selenium.common.exceptions import StaleElementReferenceException, NoSuchElementException\n",
    "from bs4 import BeautifulSoup\n",
    "import requests as re\n",
    "import re\n",
    "import urllib\n",
    "import requests\n",
    "import warnings\n",
    "warnings.filterwarnings('ignore')"
   ]
  },
  {
   "cell_type": "markdown",
   "id": "b7f8adb2",
   "metadata": {},
   "source": [
    "## Q 1. Write a python program which searches all the product under a particular product from www.amazon.in. The product to be searched will be taken as input from user. For e.g. If user input is ‘guitar’. Then search for guitars."
   ]
  },
  {
   "cell_type": "code",
   "execution_count": 2,
   "id": "af5ff059",
   "metadata": {
    "scrolled": true
   },
   "outputs": [
    {
     "name": "stdout",
     "output_type": "stream",
     "text": [
      "Search for Product : guitar\n"
     ]
    }
   ],
   "source": [
    "driver = webdriver.Chrome()\n",
    "driver.maximize_window()\n",
    "\n",
    "driver.get(\"https://www.amazon.in/\")\n",
    "\n",
    "search = driver.find_element(By.XPATH,'//input[@class=\"nav-input nav-progressive-attribute\"]')\n",
    "search.send_keys(input(\"Search for Product : \"))\n",
    "\n",
    "find = driver.find_element(By.ID,\"nav-search-submit-button\").click()"
   ]
  },
  {
   "cell_type": "code",
   "execution_count": null,
   "id": "117a6006",
   "metadata": {
    "scrolled": true
   },
   "outputs": [],
   "source": []
  },
  {
   "cell_type": "markdown",
   "id": "b3a6d234",
   "metadata": {},
   "source": [
    "## Q 2. In the above question, now scrape the following details of each product listed in first 3 pages of your search results and save it in a data frame and csv. In case if any product has less than 3 pages in search results then scrape all the products available under that product name.\n",
    "#### Details to be scraped are:\n",
    "\"Brand Name\", \"Name of the Product\", \"Price\", \"Return/Exchange\", \"Expected Delivery\", \"Availability\" and\n",
    "“Product URL”. In case, if any of the details are missing for any of the product then replace it by “-“."
   ]
  },
  {
   "cell_type": "code",
   "execution_count": 3,
   "id": "df0874d8",
   "metadata": {
    "scrolled": true
   },
   "outputs": [
    {
     "data": {
      "text/plain": [
       "10"
      ]
     },
     "execution_count": 3,
     "metadata": {},
     "output_type": "execute_result"
    }
   ],
   "source": [
    "prod_url = []\n",
    "\n",
    "for page in range(1):\n",
    "    urls = driver.find_elements(By.XPATH,'//h2[@class=\"a-size-mini a-spacing-none a-color-base s-line-clamp-4\"]/a')\n",
    "\n",
    "    for i in urls[:10]:\n",
    "        prod_url.append(i.get_attribute('href'))\n",
    "    \n",
    "len(prod_url)"
   ]
  },
  {
   "cell_type": "code",
   "execution_count": 4,
   "id": "cfa72efb",
   "metadata": {
    "scrolled": false
   },
   "outputs": [
    {
     "name": "stdout",
     "output_type": "stream",
     "text": [
      "10 10 10 10 10 10\n"
     ]
    }
   ],
   "source": [
    "brand_name = []\n",
    "product_name = []\n",
    "price = []\n",
    "expected_delivery = []\n",
    "availability = []\n",
    "\n",
    "\n",
    "for i in prod_url[:10]:   \n",
    "    driver.get(i)           \n",
    "    time.sleep(3)\n",
    "    try:\n",
    "        brand = driver.find_element(By.XPATH,'//table[@class=\"a-normal a-spacing-micro\"]/tbody/tr[1]/td[2]')\n",
    "        brand_name.append(brand.text)\n",
    "        \n",
    "        product = driver.find_element(By.XPATH,'//h1[@id=\"title\"]/span')\n",
    "        product_name.append(product.text)\n",
    "        \n",
    "        prices = driver.find_element(By.XPATH,'//span[@class=\"a-price aok-align-center reinventPricePriceToPayMargin priceToPay\"]//span/span[2]')\n",
    "        price.append(prices.text)\n",
    "               \n",
    "        exp_del = driver.find_element(By.XPATH,'//div[@class=\"a-spacing-base\"]/span/span')\n",
    "        expected_delivery.append(exp_del.text)\n",
    "        \n",
    "        avail = driver.find_element(By.XPATH,'//div[@id=\"availabilityInsideBuyBox_feature_div\"]/div/div/span')\n",
    "        availability.append(avail.text)\n",
    "               \n",
    "        \n",
    "    except NoSuchElementException :\n",
    "        brand_name.append('-')\n",
    "        product_name.append('-')\n",
    "        price.append('-')\n",
    "        return_exchange.append('-')\n",
    "        expected_delivery.append('-')\n",
    "        availability.append('-')\n",
    "\n",
    "print(len(prod_url),\n",
    "      len(brand_name),\n",
    "      len(product_name),\n",
    "      len(price),\n",
    "      len(expected_delivery),\n",
    "      len(availability)\n",
    "     )"
   ]
  },
  {
   "cell_type": "code",
   "execution_count": 5,
   "id": "925e35aa",
   "metadata": {},
   "outputs": [
    {
     "data": {
      "text/html": [
       "<div>\n",
       "<style scoped>\n",
       "    .dataframe tbody tr th:only-of-type {\n",
       "        vertical-align: middle;\n",
       "    }\n",
       "\n",
       "    .dataframe tbody tr th {\n",
       "        vertical-align: top;\n",
       "    }\n",
       "\n",
       "    .dataframe thead th {\n",
       "        text-align: right;\n",
       "    }\n",
       "</style>\n",
       "<table border=\"1\" class=\"dataframe\">\n",
       "  <thead>\n",
       "    <tr style=\"text-align: right;\">\n",
       "      <th></th>\n",
       "      <th>Brand Name</th>\n",
       "      <th>Product Name</th>\n",
       "      <th>Price</th>\n",
       "      <th>Expected Delivery</th>\n",
       "      <th>Availability</th>\n",
       "      <th>Product Urls</th>\n",
       "    </tr>\n",
       "  </thead>\n",
       "  <tbody>\n",
       "    <tr>\n",
       "      <th>0</th>\n",
       "      <td>Kadence</td>\n",
       "      <td>Kadence Frontier guitar with Online Guitar lea...</td>\n",
       "      <td>4,499</td>\n",
       "      <td>Sunday, 25 February</td>\n",
       "      <td>In stock</td>\n",
       "      <td>https://www.amazon.in/sspa/click?ie=UTF8&amp;spc=M...</td>\n",
       "    </tr>\n",
       "    <tr>\n",
       "      <th>1</th>\n",
       "      <td>Kadence</td>\n",
       "      <td>Kadence rosewood Guitar Frontier Series, Elect...</td>\n",
       "      <td>5,499</td>\n",
       "      <td>Sunday, 25 February</td>\n",
       "      <td>In stock</td>\n",
       "      <td>https://www.amazon.in/sspa/click?ie=UTF8&amp;spc=M...</td>\n",
       "    </tr>\n",
       "    <tr>\n",
       "      <th>2</th>\n",
       "      <td>Kadence</td>\n",
       "      <td>Kadence A281 Professional Acoustic Rosewood gu...</td>\n",
       "      <td>6,499</td>\n",
       "      <td>Sunday, 25 February</td>\n",
       "      <td>In stock</td>\n",
       "      <td>https://www.amazon.in/sspa/click?ie=UTF8&amp;spc=M...</td>\n",
       "    </tr>\n",
       "    <tr>\n",
       "      <th>3</th>\n",
       "      <td>Kadence</td>\n",
       "      <td>Kadence Slowhand Premium Jumbo Semi Acoustic G...</td>\n",
       "      <td>9,999</td>\n",
       "      <td>Sunday, 25 February</td>\n",
       "      <td>In stock</td>\n",
       "      <td>https://www.amazon.in/sspa/click?ie=UTF8&amp;spc=M...</td>\n",
       "    </tr>\n",
       "    <tr>\n",
       "      <th>4</th>\n",
       "      <td>Intern</td>\n",
       "      <td>Intern INT-38C Right hand Acoustic Guitar Kit,...</td>\n",
       "      <td>1,995</td>\n",
       "      <td>Sunday, 25 February</td>\n",
       "      <td>In stock</td>\n",
       "      <td>https://www.amazon.in/Intern-INT-38C-Acoustic-...</td>\n",
       "    </tr>\n",
       "    <tr>\n",
       "      <th>5</th>\n",
       "      <td>YAMAHA</td>\n",
       "      <td>Yamaha F280 Acoustic Rosewood Guitar (Natural,...</td>\n",
       "      <td>7,289</td>\n",
       "      <td>Sunday, 25 February</td>\n",
       "      <td>In stock</td>\n",
       "      <td>https://www.amazon.in/Yamaha-F280-Acoustic-Gui...</td>\n",
       "    </tr>\n",
       "    <tr>\n",
       "      <th>6</th>\n",
       "      <td>JUAREZ</td>\n",
       "      <td>Juârez Acoustic Guitar, 38 Inch Cutaway, 038C ...</td>\n",
       "      <td>2,199</td>\n",
       "      <td>Sunday, 25 February</td>\n",
       "      <td>In stock</td>\n",
       "      <td>https://www.amazon.in/Juarez-Acoustic-Cutaway-...</td>\n",
       "    </tr>\n",
       "    <tr>\n",
       "      <th>7</th>\n",
       "      <td>Kadence</td>\n",
       "      <td>Kadence A281 Professional Acoustic Rosewood gu...</td>\n",
       "      <td>6,499</td>\n",
       "      <td>Sunday, 25 February</td>\n",
       "      <td>In stock</td>\n",
       "      <td>https://www.amazon.in/sspa/click?ie=UTF8&amp;spc=M...</td>\n",
       "    </tr>\n",
       "    <tr>\n",
       "      <th>8</th>\n",
       "      <td>Kadence</td>\n",
       "      <td>Kadence Frontier guitar with Online Guitar lea...</td>\n",
       "      <td>4,499</td>\n",
       "      <td>Sunday, 25 February</td>\n",
       "      <td>In stock</td>\n",
       "      <td>https://www.amazon.in/sspa/click?ie=UTF8&amp;spc=M...</td>\n",
       "    </tr>\n",
       "    <tr>\n",
       "      <th>9</th>\n",
       "      <td>Kadence</td>\n",
       "      <td>Kadence rosewood Guitar Frontier Series, Elect...</td>\n",
       "      <td>5,499</td>\n",
       "      <td>Sunday, 25 February</td>\n",
       "      <td>In stock</td>\n",
       "      <td>https://www.amazon.in/sspa/click?ie=UTF8&amp;spc=M...</td>\n",
       "    </tr>\n",
       "  </tbody>\n",
       "</table>\n",
       "</div>"
      ],
      "text/plain": [
       "  Brand Name                                       Product Name  Price  \\\n",
       "0    Kadence  Kadence Frontier guitar with Online Guitar lea...  4,499   \n",
       "1    Kadence  Kadence rosewood Guitar Frontier Series, Elect...  5,499   \n",
       "2    Kadence  Kadence A281 Professional Acoustic Rosewood gu...  6,499   \n",
       "3    Kadence  Kadence Slowhand Premium Jumbo Semi Acoustic G...  9,999   \n",
       "4     Intern  Intern INT-38C Right hand Acoustic Guitar Kit,...  1,995   \n",
       "5     YAMAHA  Yamaha F280 Acoustic Rosewood Guitar (Natural,...  7,289   \n",
       "6     JUAREZ  Juârez Acoustic Guitar, 38 Inch Cutaway, 038C ...  2,199   \n",
       "7    Kadence  Kadence A281 Professional Acoustic Rosewood gu...  6,499   \n",
       "8    Kadence  Kadence Frontier guitar with Online Guitar lea...  4,499   \n",
       "9    Kadence  Kadence rosewood Guitar Frontier Series, Elect...  5,499   \n",
       "\n",
       "     Expected Delivery Availability  \\\n",
       "0  Sunday, 25 February     In stock   \n",
       "1  Sunday, 25 February     In stock   \n",
       "2  Sunday, 25 February     In stock   \n",
       "3  Sunday, 25 February     In stock   \n",
       "4  Sunday, 25 February     In stock   \n",
       "5  Sunday, 25 February     In stock   \n",
       "6  Sunday, 25 February     In stock   \n",
       "7  Sunday, 25 February     In stock   \n",
       "8  Sunday, 25 February     In stock   \n",
       "9  Sunday, 25 February     In stock   \n",
       "\n",
       "                                        Product Urls  \n",
       "0  https://www.amazon.in/sspa/click?ie=UTF8&spc=M...  \n",
       "1  https://www.amazon.in/sspa/click?ie=UTF8&spc=M...  \n",
       "2  https://www.amazon.in/sspa/click?ie=UTF8&spc=M...  \n",
       "3  https://www.amazon.in/sspa/click?ie=UTF8&spc=M...  \n",
       "4  https://www.amazon.in/Intern-INT-38C-Acoustic-...  \n",
       "5  https://www.amazon.in/Yamaha-F280-Acoustic-Gui...  \n",
       "6  https://www.amazon.in/Juarez-Acoustic-Cutaway-...  \n",
       "7  https://www.amazon.in/sspa/click?ie=UTF8&spc=M...  \n",
       "8  https://www.amazon.in/sspa/click?ie=UTF8&spc=M...  \n",
       "9  https://www.amazon.in/sspa/click?ie=UTF8&spc=M...  "
      ]
     },
     "execution_count": 5,
     "metadata": {},
     "output_type": "execute_result"
    }
   ],
   "source": [
    "df = pd.DataFrame({'Brand Name':brand_name,\n",
    "                   'Product Name':product_name,\n",
    "                   'Price':price,\n",
    "                   'Expected Delivery':expected_delivery,\n",
    "                   'Availability':availability,\n",
    "                   'Product Urls':prod_url\n",
    "                  })\n",
    "df"
   ]
  },
  {
   "cell_type": "code",
   "execution_count": 6,
   "id": "d438d59d",
   "metadata": {
    "scrolled": true
   },
   "outputs": [],
   "source": [
    "df.to_csv('amazon.csv', index=False)"
   ]
  },
  {
   "cell_type": "code",
   "execution_count": null,
   "id": "82bb17bf",
   "metadata": {},
   "outputs": [],
   "source": []
  },
  {
   "cell_type": "markdown",
   "id": "792399df",
   "metadata": {
    "scrolled": true
   },
   "source": [
    "## Q 3. Write a python program to access the search bar and search button on images.google.com and scrape 10 images each for keywords ‘fruits’, ‘cars’ and ‘Machine Learning’, ‘Guitar’, ‘Cakes’."
   ]
  },
  {
   "cell_type": "code",
   "execution_count": 7,
   "id": "cb3c208e",
   "metadata": {
    "scrolled": false
   },
   "outputs": [
    {
     "name": "stdout",
     "output_type": "stream",
     "text": [
      "Enter What You Want to Search : fruits\n",
      "9 48\n",
      "Enter What You Want to Search : cars\n",
      "9 48\n",
      "Enter What You Want to Search : Machine Learning\n",
      "9 48\n",
      "Enter What You Want to Search : Guitar\n",
      "9 48\n",
      "Enter What You Want to Search : Cakes\n",
      "9 48\n"
     ]
    }
   ],
   "source": [
    "driver = webdriver.Chrome()\n",
    "driver.maximize_window()\n",
    "\n",
    "driver.get(\"https://google.com/\")\n",
    "sleep(3)\n",
    "\n",
    "image_search = driver.find_element(By.XPATH,'//a[@aria-label=\"Search for Images (opens a new tab)\"]').click()\n",
    "search = driver.find_element(By.CLASS_NAME,\"gLFyf\").send_keys(input(\"Enter What You Want to Search : \"))\n",
    "find = driver.find_element(By.XPATH,'//button[@type=\"submit\"]').click()\n",
    "sleep(5)\n",
    "\n",
    "# For Fruits\n",
    "image_tags = driver.find_elements(By.XPATH, '//img[@class=\"rg_i Q4LuWd\"]')\n",
    "\n",
    "img_urls = [img.get_attribute('src') for img in image_tags]\n",
    "\n",
    "folder_path = '/Users/SHREE/Desktop/DataTrained/Flip Robo Internship Assignments/Assignments/New folder/Fruits/'\n",
    "\n",
    "for i in range(10):\n",
    "    urllib.request.urlretrieve(str(img_urls[i]), folder_path + \"Fruit_{}.jpg\".format(i))\n",
    "print(i, len(img_urls))\n",
    "\n",
    "# For Cars\n",
    "search_clear = driver.find_element(By.XPATH,'//input[@class=\"og3lId\"]').clear()\n",
    "search = driver.find_element(By.XPATH,'//input[@class=\"og3lId\"]').send_keys(input(\"Enter What You Want to Search : \"))\n",
    "find = driver.find_element(By.XPATH,'//button[@class=\"rCGXm\"]').click()\n",
    "\n",
    "image_tags = driver.find_elements(By.XPATH, '//img[@class=\"rg_i Q4LuWd\"]')\n",
    "\n",
    "img_urls = [img.get_attribute('src') for img in image_tags]\n",
    "\n",
    "folder_path = '/Users/SHREE/Desktop/DataTrained/Flip Robo Internship Assignments/Assignments/New folder/Cars/'\n",
    "\n",
    "for i in range(10):\n",
    "    urllib.request.urlretrieve(str(img_urls[i]), folder_path + \"Fruit_{}.jpg\".format(i))\n",
    "print(i, len(img_urls))\n",
    "\n",
    "# For Machine Learning\n",
    "search_clear = driver.find_element(By.XPATH,'//input[@class=\"og3lId\"]').clear()\n",
    "search = driver.find_element(By.XPATH,'//input[@class=\"og3lId\"]').send_keys(input(\"Enter What You Want to Search : \"))\n",
    "find = driver.find_element(By.XPATH,'//button[@class=\"rCGXm\"]').click()\n",
    "\n",
    "image_tags = driver.find_elements(By.XPATH, '//img[@class=\"rg_i Q4LuWd\"]')\n",
    "\n",
    "img_urls = [img.get_attribute('src') for img in image_tags]\n",
    "\n",
    "folder_path = '/Users/SHREE/Desktop/DataTrained/Flip Robo Internship Assignments/Assignments/New folder/Machine Learning/'\n",
    "\n",
    "for i in range(10):\n",
    "    urllib.request.urlretrieve(str(img_urls[i]), folder_path + \"Fruit_{}.jpg\".format(i))\n",
    "print(i, len(img_urls))\n",
    "\n",
    "# For Guitar\n",
    "search_clear = driver.find_element(By.XPATH,'//input[@class=\"og3lId\"]').clear()\n",
    "search = driver.find_element(By.XPATH,'//input[@class=\"og3lId\"]').send_keys(input(\"Enter What You Want to Search : \"))\n",
    "find = driver.find_element(By.XPATH,'//button[@class=\"rCGXm\"]').click()\n",
    "\n",
    "image_tags = driver.find_elements(By.XPATH, '//img[@class=\"rg_i Q4LuWd\"]')\n",
    "\n",
    "img_urls = [img.get_attribute('src') for img in image_tags]\n",
    "\n",
    "folder_path = '/Users/SHREE/Desktop/DataTrained/Flip Robo Internship Assignments/Assignments/New folder/Guitar/'\n",
    "\n",
    "for i in range(10):\n",
    "    urllib.request.urlretrieve(str(img_urls[i]), folder_path + \"Fruit_{}.jpg\".format(i))\n",
    "print(i, len(img_urls))\n",
    "\n",
    "# For Cakes\n",
    "search_clear = driver.find_element(By.XPATH,'//input[@class=\"og3lId\"]').clear()\n",
    "search = driver.find_element(By.XPATH,'//input[@class=\"og3lId\"]').send_keys(input(\"Enter What You Want to Search : \"))\n",
    "find = driver.find_element(By.XPATH,'//button[@class=\"rCGXm\"]').click()\n",
    "\n",
    "image_tags = driver.find_elements(By.XPATH, '//img[@class=\"rg_i Q4LuWd\"]')\n",
    "\n",
    "img_urls = [img.get_attribute('src') for img in image_tags]\n",
    "\n",
    "folder_path = '/Users/SHREE/Desktop/DataTrained/Flip Robo Internship Assignments/Assignments/New folder/Cakes/'\n",
    "\n",
    "for i in range(10):\n",
    "    urllib.request.urlretrieve(str(img_urls[i]), folder_path + \"Fruit_{}.jpg\".format(i))\n",
    "print(i, len(img_urls))"
   ]
  },
  {
   "cell_type": "code",
   "execution_count": null,
   "id": "b6ec5f56",
   "metadata": {
    "scrolled": true
   },
   "outputs": [],
   "source": []
  },
  {
   "cell_type": "markdown",
   "id": "1c358038",
   "metadata": {},
   "source": [
    "## Q 4. Write a python program to search for a smartphone(e.g.: Oneplus Nord, pixel 4A, etc.) on www.flipkart.com and scrape following details for all the search results displayed on 1st page.\n",
    "#### Details to be scraped: \n",
    "“Brand Name”, “Smartphone name”, “Colour”, “RAM”, “Storage(ROM)”, “Primary Camera”,\n",
    "“Secondary Camera”, “Display Size”, “Battery Capacity”, “Price”, “Product URL”. Incase if any of the details is missing then replace it by “- “. Save your results in a dataframe and CSV."
   ]
  },
  {
   "cell_type": "code",
   "execution_count": 8,
   "id": "8b34be0f",
   "metadata": {},
   "outputs": [],
   "source": [
    "driver = webdriver.Chrome()\n",
    "driver.maximize_window()\n",
    "\n",
    "driver.get(\"https://www.flipkart.com\")\n",
    "\n",
    "search = driver.find_element(By.XPATH,'//input[@class=\"Pke_EE\"]').send_keys('smartphone')\n",
    "\n",
    "search_tab = driver.find_element(By.XPATH,'//button[@class=\"_2iLD__\"]').click()"
   ]
  },
  {
   "cell_type": "code",
   "execution_count": 12,
   "id": "e52dc7ed",
   "metadata": {},
   "outputs": [
    {
     "data": {
      "text/plain": [
       "5"
      ]
     },
     "execution_count": 12,
     "metadata": {},
     "output_type": "execute_result"
    }
   ],
   "source": [
    "product_url = []\n",
    "\n",
    "for page in range(1):\n",
    "    url = driver.find_elements(By.XPATH,'//div[@class=\"_2kHMtA\"]/a')\n",
    "    for i in url[:5]:\n",
    "        product_url.append(i.get_attribute('href'))\n",
    "len(product_url)        "
   ]
  },
  {
   "cell_type": "code",
   "execution_count": 13,
   "id": "01360571",
   "metadata": {},
   "outputs": [
    {
     "name": "stdout",
     "output_type": "stream",
     "text": [
      "5 5 5 5 5 5 5 5 5 5 5\n"
     ]
    }
   ],
   "source": [
    "brand_name = []\n",
    "phone_name = []\n",
    "color = []\n",
    "ram = []\n",
    "rom = []\n",
    "camera_1 = []\n",
    "camera_2 = []\n",
    "display_size = []\n",
    "battery_cap = []\n",
    "price = []\n",
    "\n",
    "for i in product_url[:5]:   \n",
    "    driver.get(i)           \n",
    "   \n",
    "    try:\n",
    "        more_button = driver.find_element(By.XPATH,'//button[@class=\"_2KpZ6l _1FH0tX\"]').click()\n",
    "        sleep(5)\n",
    "        \n",
    "        brand = driver.find_element(By.XPATH,'//div[@class=\"_3GIHBu\"][4]/a')\n",
    "        brand_name.append(brand.text)\n",
    "        \n",
    "        phone = driver.find_element(By.XPATH,'//h1[@class=\"yhB1nd\"]/span')\n",
    "        phone_name.append(phone.text)\n",
    "        \n",
    "        color_tab = driver.find_element(By.XPATH,'//div[@class=\"_3k-BhJ\"][1]/table/tbody/tr[4]/td[2]')\n",
    "        color.append(color_tab.text)\n",
    "        \n",
    "        ram_tab = driver.find_element(By.XPATH,'//div[@class=\"_3k-BhJ\"][4]/table/tbody/tr[2]/td[2]')\n",
    "        ram.append(ram_tab.text)\n",
    "        \n",
    "        rom_tab = driver.find_element(By.XPATH,'//div[@class=\"_3k-BhJ\"][4]/table/tbody/tr[1]/td[2]')\n",
    "        rom.append(rom_tab.text)\n",
    "        \n",
    "        camera1_tab = driver.find_element(By.XPATH,'//div[@class=\"_3k-BhJ\"][5]/table/tbody/tr[2]/td[2]')\n",
    "        camera_1.append(camera1_tab.text)\n",
    "        \n",
    "        camera2_tab = driver.find_element(By.XPATH,'//div[@class=\"_3k-BhJ\"][5]/table/tbody/tr[5]/td[2]')\n",
    "        camera_2.append(camera2_tab.text)\n",
    "        \n",
    "        display_tab = driver.find_element(By.XPATH,'//div[@class=\"_3k-BhJ\"][2]/table/tbody/tr[1]/td[2]')\n",
    "        display_size.append(display_tab.text)\n",
    "        \n",
    "        bat_tab = driver.find_element(By.XPATH,'//div[@class=\"_3k-BhJ\"][10]/table/tbody/tr[1]/td[2]')\n",
    "        battery_cap.append(bat_tab.text)\n",
    "        \n",
    "        prices = driver.find_element(By.XPATH,'//div[@class=\"_30jeq3 _16Jk6d\"]')\n",
    "        price.append(prices.text.replace(\"₹\", ''))\n",
    "        \n",
    "                \n",
    "    except NoSuchElementException :\n",
    "        brand_name.append('-')\n",
    "        hone_name.append('-')\n",
    "        color.append('-')\n",
    "        ram.append('-')\n",
    "        rom.append('-')\n",
    "        camera_1.append('-')\n",
    "        camera_2.append('-')\n",
    "        display_size.append('-')\n",
    "        battery_cap.append('-')\n",
    "        price.append('-')\n",
    "\n",
    "print(len(brand_name),\n",
    "      len(phone_name),\n",
    "      len(color),\n",
    "      len(ram),\n",
    "      len(rom),\n",
    "      len(camera_1),\n",
    "      len(camera_2),\n",
    "      len(display_size),\n",
    "      len(battery_cap),\n",
    "      len(price),\n",
    "      len(product_url)\n",
    "     )        "
   ]
  },
  {
   "cell_type": "code",
   "execution_count": 14,
   "id": "17b4f208",
   "metadata": {},
   "outputs": [
    {
     "name": "stdout",
     "output_type": "stream",
     "text": [
      "['MOTOROLA Mobiles', 'MOTOROLA Mobiles', 'POCO Mobiles', 'POCO Mobiles', 'POCO Mobiles']\n",
      "['Motorola G34 5G (Ocean Green, 128 GB)  (8 GB RAM)', 'Motorola G34 5G (Ice Blue, 128 GB)  (8 GB RAM)', 'POCO C55 (Cool Blue, 128 GB)  (6 GB RAM)', 'POCO C55 (Power Black, 128 GB)  (6 GB RAM)', 'POCO C55 (Forest Green, 128 GB)  (6 GB RAM)']\n",
      "['Ocean Green', 'Ice Blue', 'Cool Blue', 'Power Black', 'Forest Green']\n",
      "['8 GB', '8 GB', '6 GB', '6 GB', '6 GB']\n",
      "['128 GB', '128 GB', '128 GB', '128 GB', '128 GB']\n",
      "['50MP + 2MP', '50MP + 2MP', '50MP Dual Rear Camera', '50MP Dual Rear Camera', '50MP Dual Rear Camera']\n",
      "['16MP Front Camera', '16MP Front Camera', '5MP Front Camera', '5MP Front Camera', '5MP Front Camera']\n",
      "['16.51 cm (6.5 inch)', '16.51 cm (6.5 inch)', '17.04 cm (6.71 inch)', '17.04 cm (6.71 inch)', '17.04 cm (6.71 inch)']\n",
      "['5000 mAh', '5000 mAh', '5000 mAh', '5000 mAh', '5000 mAh']\n",
      "['11,999', '11,999', '6,499', '6,499', '6,499']\n",
      "['https://www.flipkart.com/motorola-g34-5g-ocean-green-128-gb/p/itm6b1a33b9d9191?pid=MOBGUFK4TZ2CJYHJ&lid=LSTMOBGUFK4TZ2CJYHJPBUF6M&marketplace=FLIPKART&q=smartphone&store=tyy%2F4io&srno=s_1_1&otracker=search&otracker1=search&fm=organic&iid=1c6c746f-fff1-443a-a6e4-c110106d4395.MOBGUFK4TZ2CJYHJ.SEARCH&ppt=pp&ppn=pp&ssid=emniw5n8gg0000001708697963730&qH=1036ba3c4ed2c021', 'https://www.flipkart.com/motorola-g34-5g-ice-blue-128-gb/p/itmc36bacc1f7bb0?pid=MOBGUFK4P2H9CY7Y&lid=LSTMOBGUFK4P2H9CY7Y4FYWMH&marketplace=FLIPKART&q=smartphone&store=tyy%2F4io&srno=s_1_2&otracker=search&otracker1=search&fm=organic&iid=1c6c746f-fff1-443a-a6e4-c110106d4395.MOBGUFK4P2H9CY7Y.SEARCH&ppt=pp&ppn=pp&ssid=emniw5n8gg0000001708697963730&qH=1036ba3c4ed2c021', 'https://www.flipkart.com/poco-c55-cool-blue-128-gb/p/itm26aca9fd143ba?pid=MOBGMXSWJHRVUWFE&lid=LSTMOBGMXSWJHRVUWFESKZGEW&marketplace=FLIPKART&q=smartphone&store=tyy%2F4io&srno=s_1_3&otracker=search&otracker1=search&fm=organic&iid=1c6c746f-fff1-443a-a6e4-c110106d4395.MOBGMXSWJHRVUWFE.SEARCH&ppt=pp&ppn=pp&ssid=emniw5n8gg0000001708697963730&qH=1036ba3c4ed2c021', 'https://www.flipkart.com/poco-c55-power-black-128-gb/p/itm52dfc91751293?pid=MOBGMXSWPMRNGVGW&lid=LSTMOBGMXSWPMRNGVGWJIL18S&marketplace=FLIPKART&q=smartphone&store=tyy%2F4io&srno=s_1_4&otracker=search&otracker1=search&fm=organic&iid=1c6c746f-fff1-443a-a6e4-c110106d4395.MOBGMXSWPMRNGVGW.SEARCH&ppt=pp&ppn=pp&ssid=emniw5n8gg0000001708697963730&qH=1036ba3c4ed2c021', 'https://www.flipkart.com/poco-c55-forest-green-128-gb/p/itm7ed4c1ff2689f?pid=MOBGMXSWCYATKHYR&lid=LSTMOBGMXSWCYATKHYRKSVQMR&marketplace=FLIPKART&q=smartphone&store=tyy%2F4io&srno=s_1_5&otracker=search&otracker1=search&fm=organic&iid=1c6c746f-fff1-443a-a6e4-c110106d4395.MOBGMXSWCYATKHYR.SEARCH&ppt=pp&ppn=pp&ssid=emniw5n8gg0000001708697963730&qH=1036ba3c4ed2c021']\n"
     ]
    }
   ],
   "source": [
    "print(brand_name)\n",
    "print(phone_name)\n",
    "print(color)\n",
    "print(ram)\n",
    "print(rom)\n",
    "print(camera_1)\n",
    "print(camera_2)\n",
    "print(display_size)\n",
    "print(battery_cap)\n",
    "print(price)\n",
    "print(product_url)"
   ]
  },
  {
   "cell_type": "code",
   "execution_count": 16,
   "id": "48a9ce78",
   "metadata": {},
   "outputs": [
    {
     "data": {
      "text/html": [
       "<div>\n",
       "<style scoped>\n",
       "    .dataframe tbody tr th:only-of-type {\n",
       "        vertical-align: middle;\n",
       "    }\n",
       "\n",
       "    .dataframe tbody tr th {\n",
       "        vertical-align: top;\n",
       "    }\n",
       "\n",
       "    .dataframe thead th {\n",
       "        text-align: right;\n",
       "    }\n",
       "</style>\n",
       "<table border=\"1\" class=\"dataframe\">\n",
       "  <thead>\n",
       "    <tr style=\"text-align: right;\">\n",
       "      <th></th>\n",
       "      <th>Brand Name</th>\n",
       "      <th>Smartphone Name</th>\n",
       "      <th>Color</th>\n",
       "      <th>RAM</th>\n",
       "      <th>ROM</th>\n",
       "      <th>Primary Camera</th>\n",
       "      <th>Secondary Camera</th>\n",
       "      <th>Display Size</th>\n",
       "      <th>Battery Capacity</th>\n",
       "      <th>Price</th>\n",
       "      <th>Product URL</th>\n",
       "    </tr>\n",
       "  </thead>\n",
       "  <tbody>\n",
       "    <tr>\n",
       "      <th>0</th>\n",
       "      <td>MOTOROLA Mobiles</td>\n",
       "      <td>Motorola G34 5G (Ocean Green, 128 GB)  (8 GB RAM)</td>\n",
       "      <td>Ocean Green</td>\n",
       "      <td>8 GB</td>\n",
       "      <td>128 GB</td>\n",
       "      <td>50MP + 2MP</td>\n",
       "      <td>16MP Front Camera</td>\n",
       "      <td>16.51 cm (6.5 inch)</td>\n",
       "      <td>5000 mAh</td>\n",
       "      <td>11,999</td>\n",
       "      <td>https://www.flipkart.com/motorola-g34-5g-ocean...</td>\n",
       "    </tr>\n",
       "    <tr>\n",
       "      <th>1</th>\n",
       "      <td>MOTOROLA Mobiles</td>\n",
       "      <td>Motorola G34 5G (Ice Blue, 128 GB)  (8 GB RAM)</td>\n",
       "      <td>Ice Blue</td>\n",
       "      <td>8 GB</td>\n",
       "      <td>128 GB</td>\n",
       "      <td>50MP + 2MP</td>\n",
       "      <td>16MP Front Camera</td>\n",
       "      <td>16.51 cm (6.5 inch)</td>\n",
       "      <td>5000 mAh</td>\n",
       "      <td>11,999</td>\n",
       "      <td>https://www.flipkart.com/motorola-g34-5g-ice-b...</td>\n",
       "    </tr>\n",
       "    <tr>\n",
       "      <th>2</th>\n",
       "      <td>POCO Mobiles</td>\n",
       "      <td>POCO C55 (Cool Blue, 128 GB)  (6 GB RAM)</td>\n",
       "      <td>Cool Blue</td>\n",
       "      <td>6 GB</td>\n",
       "      <td>128 GB</td>\n",
       "      <td>50MP Dual Rear Camera</td>\n",
       "      <td>5MP Front Camera</td>\n",
       "      <td>17.04 cm (6.71 inch)</td>\n",
       "      <td>5000 mAh</td>\n",
       "      <td>6,499</td>\n",
       "      <td>https://www.flipkart.com/poco-c55-cool-blue-12...</td>\n",
       "    </tr>\n",
       "    <tr>\n",
       "      <th>3</th>\n",
       "      <td>POCO Mobiles</td>\n",
       "      <td>POCO C55 (Power Black, 128 GB)  (6 GB RAM)</td>\n",
       "      <td>Power Black</td>\n",
       "      <td>6 GB</td>\n",
       "      <td>128 GB</td>\n",
       "      <td>50MP Dual Rear Camera</td>\n",
       "      <td>5MP Front Camera</td>\n",
       "      <td>17.04 cm (6.71 inch)</td>\n",
       "      <td>5000 mAh</td>\n",
       "      <td>6,499</td>\n",
       "      <td>https://www.flipkart.com/poco-c55-power-black-...</td>\n",
       "    </tr>\n",
       "    <tr>\n",
       "      <th>4</th>\n",
       "      <td>POCO Mobiles</td>\n",
       "      <td>POCO C55 (Forest Green, 128 GB)  (6 GB RAM)</td>\n",
       "      <td>Forest Green</td>\n",
       "      <td>6 GB</td>\n",
       "      <td>128 GB</td>\n",
       "      <td>50MP Dual Rear Camera</td>\n",
       "      <td>5MP Front Camera</td>\n",
       "      <td>17.04 cm (6.71 inch)</td>\n",
       "      <td>5000 mAh</td>\n",
       "      <td>6,499</td>\n",
       "      <td>https://www.flipkart.com/poco-c55-forest-green...</td>\n",
       "    </tr>\n",
       "  </tbody>\n",
       "</table>\n",
       "</div>"
      ],
      "text/plain": [
       "         Brand Name                                    Smartphone Name  \\\n",
       "0  MOTOROLA Mobiles  Motorola G34 5G (Ocean Green, 128 GB)  (8 GB RAM)   \n",
       "1  MOTOROLA Mobiles     Motorola G34 5G (Ice Blue, 128 GB)  (8 GB RAM)   \n",
       "2      POCO Mobiles           POCO C55 (Cool Blue, 128 GB)  (6 GB RAM)   \n",
       "3      POCO Mobiles         POCO C55 (Power Black, 128 GB)  (6 GB RAM)   \n",
       "4      POCO Mobiles        POCO C55 (Forest Green, 128 GB)  (6 GB RAM)   \n",
       "\n",
       "          Color   RAM     ROM         Primary Camera   Secondary Camera  \\\n",
       "0   Ocean Green  8 GB  128 GB             50MP + 2MP  16MP Front Camera   \n",
       "1      Ice Blue  8 GB  128 GB             50MP + 2MP  16MP Front Camera   \n",
       "2     Cool Blue  6 GB  128 GB  50MP Dual Rear Camera   5MP Front Camera   \n",
       "3   Power Black  6 GB  128 GB  50MP Dual Rear Camera   5MP Front Camera   \n",
       "4  Forest Green  6 GB  128 GB  50MP Dual Rear Camera   5MP Front Camera   \n",
       "\n",
       "           Display Size Battery Capacity   Price  \\\n",
       "0   16.51 cm (6.5 inch)         5000 mAh  11,999   \n",
       "1   16.51 cm (6.5 inch)         5000 mAh  11,999   \n",
       "2  17.04 cm (6.71 inch)         5000 mAh   6,499   \n",
       "3  17.04 cm (6.71 inch)         5000 mAh   6,499   \n",
       "4  17.04 cm (6.71 inch)         5000 mAh   6,499   \n",
       "\n",
       "                                         Product URL  \n",
       "0  https://www.flipkart.com/motorola-g34-5g-ocean...  \n",
       "1  https://www.flipkart.com/motorola-g34-5g-ice-b...  \n",
       "2  https://www.flipkart.com/poco-c55-cool-blue-12...  \n",
       "3  https://www.flipkart.com/poco-c55-power-black-...  \n",
       "4  https://www.flipkart.com/poco-c55-forest-green...  "
      ]
     },
     "execution_count": 16,
     "metadata": {},
     "output_type": "execute_result"
    }
   ],
   "source": [
    "df = pd.DataFrame({'Brand Name':brand_name,\n",
    "                   'Smartphone Name':phone_name,\n",
    "                   'Color':color,\n",
    "                   'RAM':ram,\n",
    "                   'ROM':rom,\n",
    "                   'Primary Camera':camera_1,\n",
    "                   'Secondary Camera':camera_2,\n",
    "                   'Display Size':display_size,\n",
    "                   'Battery Capacity':battery_cap,\n",
    "                   'Price':price,\n",
    "                   'Product URL':product_url\n",
    "                  })\n",
    "df"
   ]
  },
  {
   "cell_type": "code",
   "execution_count": 17,
   "id": "9201de66",
   "metadata": {},
   "outputs": [],
   "source": [
    "df.to_csv('Flipkart.csv', index=False)"
   ]
  },
  {
   "cell_type": "code",
   "execution_count": null,
   "id": "0f5b2666",
   "metadata": {},
   "outputs": [],
   "source": []
  },
  {
   "cell_type": "markdown",
   "id": "6170f38a",
   "metadata": {},
   "source": [
    "## Q 5. Write a program to scrap geospatial coordinates (latitude, longitude) of a city searched on google maps."
   ]
  },
  {
   "cell_type": "code",
   "execution_count": 21,
   "id": "04dfd68c",
   "metadata": {
    "scrolled": true
   },
   "outputs": [
    {
     "name": "stdout",
     "output_type": "stream",
     "text": [
      "Enter City Name : Pune\n",
      "URL Extracted:  https://www.google.co.in/maps/place/Pune,+Maharashtra/@18.5248706,73.6981502,11z/data=!3m1!4b1!4m6!3m5!1s0x3bc2bf2e67461101:0x828d43bf9d9ee343!8m2!3d18.5204303!4d73.8567437!16zL20vMDE1eTJx?entry=ttu\n",
      "Latitude = 18.5248706, Longitude = 73.6981502\n"
     ]
    }
   ],
   "source": [
    "driver = webdriver.Chrome()\n",
    "driver.maximize_window()\n",
    "\n",
    "driver.get(\"https://www.google.co.in/maps\")\n",
    "time.sleep(3)\n",
    "\n",
    "city = input('Enter City Name : ')                                         \n",
    "search = driver.find_element(By.ID,\"searchboxinput\")\n",
    "                                                             \n",
    "time.sleep(2)\n",
    "\n",
    "search.send_keys(city)                                                     \n",
    "button = driver.find_element(By.ID,\"searchbox-searchbutton\").click()                                                             \n",
    "time.sleep(3)\n",
    "\n",
    "try:\n",
    "    url_string = driver.current_url\n",
    "    print(\"URL Extracted: \", url_string)\n",
    "    lat_lng = re.findall(r'@(.*)data',url_string)\n",
    "    if len(lat_lng):\n",
    "        lat_lng_list = lat_lng[0].split(\",\")\n",
    "        if len(lat_lng_list)>=2:\n",
    "            lat = lat_lng_list[0]\n",
    "            lng = lat_lng_list[1]\n",
    "        print(\"Latitude = {}, Longitude = {}\".format(lat, lng))\n",
    "\n",
    "except Exception as e:\n",
    "        print(\"Error: \", str(e))"
   ]
  },
  {
   "cell_type": "code",
   "execution_count": null,
   "id": "a92a85de",
   "metadata": {
    "scrolled": true
   },
   "outputs": [],
   "source": []
  },
  {
   "cell_type": "markdown",
   "id": "2be79d1a",
   "metadata": {
    "scrolled": true
   },
   "source": [
    "## Q 6. Write a program to scrap all the available details of best gaming laptops from digit.in."
   ]
  },
  {
   "cell_type": "code",
   "execution_count": 22,
   "id": "0be78562",
   "metadata": {
    "scrolled": true
   },
   "outputs": [],
   "source": [
    "driver = webdriver.Chrome()\n",
    "driver.maximize_window()\n",
    "\n",
    "driver.get(\"https://www.digit.in/top-products/best-gaming-laptops-40.html\")"
   ]
  },
  {
   "cell_type": "code",
   "execution_count": 23,
   "id": "3dbed07a",
   "metadata": {
    "scrolled": true
   },
   "outputs": [
    {
     "data": {
      "text/plain": [
       "7"
      ]
     },
     "execution_count": 23,
     "metadata": {},
     "output_type": "execute_result"
    }
   ],
   "source": [
    "prod_name = []\n",
    "prod_desc = []\n",
    "\n",
    "brand = driver.find_elements(By.XPATH,'//div[@class=\"rh_gr_top_middle mb10 colored_rate_bar\"]')\n",
    "len(brand)"
   ]
  },
  {
   "cell_type": "code",
   "execution_count": 24,
   "id": "f948b2b0",
   "metadata": {
    "scrolled": true
   },
   "outputs": [
    {
     "data": {
      "text/plain": [
       "['HP Omen 17-ck2008TX 13th Gen Core i7-13700HX',\n",
       " 'MSI GT77 Titan 12UHS-054IN 12th Gen Core i9-12900HX',\n",
       " 'Lenovo Legion 5i Pro 12th Gen Core i7-12700H (82RF00E1IN)',\n",
       " 'ASUS ROG Strix Scar 18 G834JZ-N5041WS 13th Gen Core i9-13980HX',\n",
       " 'Acer Predator Helios Neo 16 13th Gen Core i7-13700HX (PHN16-71)',\n",
       " 'ASUS ROG Zephyrus G14 Ryzen 9-6900HS (GA402RJZ-L4136WS)',\n",
       " 'MSI Cyborg 15 12th Gen Core i7-12650H (A12VF-205IN)']"
      ]
     },
     "execution_count": 24,
     "metadata": {},
     "output_type": "execute_result"
    }
   ],
   "source": [
    "for i in brand:\n",
    "   \n",
    "    prod_name.append(str(i.text).replace(\"\\n\",\"\"))\n",
    "prod_name"
   ]
  },
  {
   "cell_type": "code",
   "execution_count": 25,
   "id": "164a7aae",
   "metadata": {
    "scrolled": true
   },
   "outputs": [
    {
     "data": {
      "text/plain": [
       "7"
      ]
     },
     "execution_count": 25,
     "metadata": {},
     "output_type": "execute_result"
    }
   ],
   "source": [
    "desc = driver.find_elements(By.XPATH,'/html/body/div[1]/div[3]/div/div/article/div[6]/div/div[2]/p')\n",
    "len(desc)"
   ]
  },
  {
   "cell_type": "code",
   "execution_count": 26,
   "id": "707a035c",
   "metadata": {
    "scrolled": true
   },
   "outputs": [
    {
     "data": {
      "text/plain": [
       "['We tested the HP OMEN 17 2023 at our digit test labs and it got every single gamer in the Digit editorial team super excited with its screaming fast performance across the latest games at maxed-out settings. Just to give you a reference, the OMEN 17 will happily do 350+ FPS on Valorant and consistently deliver 100+ FPS across any game you throw at it, all with the graphics slider kept at maximum/highest levels. You can check out our video review below to get the full low down on its performance, display quality tests with hardware level tests of brightness and color accuracy along with thermal performance under heavy load as well.',\n",
       " 'This laptop won our best performance award last year in the gaming laptop category and that is a testament to its performance and gaming prowess. What impressed us the most about this gaming beast is its sustained performance delivery even under heavy loads. This speaks volumes about its thermal management system, a big factor when it comes to high-performance gaming laptops that house top-of-the-line hardware inside laptop chassis which have very little room to manage heat in comparison to gaming desktops. However, you should also keep in mind that this is one heavy laptop (3.3 kg) and its not meant to be carried around frequently. The MSI Titan is also heavy on your wallet and that’s also the reason why we have suggested lesser-priced high-performance gaming laptops below in the list to suit slightly lower budgets. To know more about the MSI laptop and its performance numbers, check out our videos below.',\n",
       " 'This Lenovo Legion 5i Pro gaming laptop hits the sweet spot when it comes to the price-to-performance ratio in the upper price range of gaming laptops. It does pack an Nvidia GeForce RTX 3070Ti GPU which is very well-fed with enough power. The 150W TGP rating of the GPU ensures unshackled performance across the most demanding games with Ray Tracing turned on. Besides performance (which you can find in detail from the video below), the other two areas that left us mighty impressed are thermal management and display quality. Lenovo has worked on the aspects that matter the most to gamers and as a result, this gaming laptop performs very well when it comes to the premium segment of gaming laptops where there is very little room for any cut corners.',\n",
       " 'If a 17-inch display on a gaming laptop no longer cuts it for you, this one should be right in the slot for a high-performance gaming laptop. With an 18-inch display the ASUS ROG Strix Scar 18 (that’s a mouthful), should be your weapon of choice, especially if you are on the lookout for a performance machine with an Nvidia RTX 4080 under the hood. The blazing fast GPU is well accompanied by a 13th Gen Intel Core i9 HX series processor and 32GB of RAM. Your games will not only run at butter-smooth frame rates, they will also load faster with 32GB of DDR5 memory rated at 4800MHz. The large 18-inch display allowed ASUS some additional room inside the chassis, as a result, while the laptop has a large footprint, it’s not excessively thick or heavy for an 18-inch top specced gaming laptop. Our only possible crib against the laptop is the display resolution which is limited to FHD+ (1920 x 1200) on this particular model. So you will be a bit short of the 1440p standard which is considered as the sweet spot, given the GeForce RTX 4080 under the hood.',\n",
       " 'The Acer Predator series of gaming laptops has impressed us during our testing with its consistent cooling performance and with the brand new Helios Neo line-up Acer has further improved on the thermal management aspect. This particular Neo 16 model combines the latest gaming hardware, with a 13th Gen Intel Core i7 processor and the Nvidia GeForce RTX 4060 graphics card. This combination delivers unbeatable value in the high-performance gaming laptop segment, the Core i7 + RTX 4060 combination fits like a glove for 1440p gaming at high FPS. And Acer has chosen the right display spec with a 165Hz 16-inch IPS display with 2560 x 1600 pixel resolution. And the panel carries an impressive 500nit brightness rating, making it one of the brightest displays in its price segment. We do have a bone to pick with Acer though, 16GB of RAM simply doesn’t do justice to this configuration, this one screams for 32GB RAM to make the most of all the firepower inside that well-built chassis.',\n",
       " 'Another ASUS laptop makes it to our list, and this one lies at the other end of the spectrum when it comes to portability. This is your high-performance “go anywhere” gaming laptop. Asus ROG Zephyrus is known for its thin and light play in the high-performance gaming laptop space and this particular model sits at the top of the stack. ASUS proudly calls this one an “All AMD Muscle” gaming laptop, courtesy of the combination of AMD Ryzen 9 6900HS and the AMD Radeon RX 6700S graphics card with 8GB of GDDR6 video RAM. The combination works really well when it comes to delivering top-notch gaming performance across all AAA gaming titles. The 14-inch display ensures you don’t need to push the resolution beyond 1080p and take full advantage of the 144Hz refresh rate on the display. Besides being a compact, thin, and light gaming laptop, the Zephyrus 14 is also one of the best-looking gaming laptops with excellent build quality. We have tested the Asus ROG Zephyrus series of gaming laptops in the past and have particularly appreciated how it delivers a quality gaming experience in a small package. Creators and gamer streamers should particularly consider this laptop, as this does deliver gaming goods while not bothering you with any additional heft.',\n",
       " 'One of the newest gaming laptop series from MSI, the MSI Cyborg is all about walking the line when it comes to performance vs portability. It does the balancing act by offering a slim chassis that is also light at under 2kg. This particular MSI Cyborg 15 model that we are recommending here runs on the Nvidia GeForce RTX 4060 graphics card, coupled with a 10-core 12th Gen Intel Core i7 series processor. The display on this one is a standard 15.6 inch 1080p panel with a 144Hz refresh rate. At a market price of approximately Rs. 1,30,990, this MSI laptop is a value-for-money pick for gamers looking at pure FPS numbers and wanting to go well beyond the entry-level gaming laptops without having to commit a big chunk of their back balance.']"
      ]
     },
     "execution_count": 26,
     "metadata": {},
     "output_type": "execute_result"
    }
   ],
   "source": [
    "for i in desc:\n",
    "   \n",
    "    prod_desc.append(str(i.text).replace(\"\\n\",\"\"))\n",
    "prod_desc"
   ]
  },
  {
   "cell_type": "code",
   "execution_count": 27,
   "id": "facbcd1f",
   "metadata": {
    "scrolled": true
   },
   "outputs": [
    {
     "data": {
      "text/html": [
       "<div>\n",
       "<style scoped>\n",
       "    .dataframe tbody tr th:only-of-type {\n",
       "        vertical-align: middle;\n",
       "    }\n",
       "\n",
       "    .dataframe tbody tr th {\n",
       "        vertical-align: top;\n",
       "    }\n",
       "\n",
       "    .dataframe thead th {\n",
       "        text-align: right;\n",
       "    }\n",
       "</style>\n",
       "<table border=\"1\" class=\"dataframe\">\n",
       "  <thead>\n",
       "    <tr style=\"text-align: right;\">\n",
       "      <th></th>\n",
       "      <th>Product Name</th>\n",
       "      <th>Product Description</th>\n",
       "    </tr>\n",
       "  </thead>\n",
       "  <tbody>\n",
       "    <tr>\n",
       "      <th>0</th>\n",
       "      <td>HP Omen 17-ck2008TX 13th Gen Core i7-13700HX</td>\n",
       "      <td>We tested the HP OMEN 17 2023 at our digit tes...</td>\n",
       "    </tr>\n",
       "    <tr>\n",
       "      <th>1</th>\n",
       "      <td>MSI GT77 Titan 12UHS-054IN 12th Gen Core i9-12...</td>\n",
       "      <td>This laptop won our best performance award las...</td>\n",
       "    </tr>\n",
       "    <tr>\n",
       "      <th>2</th>\n",
       "      <td>Lenovo Legion 5i Pro 12th Gen Core i7-12700H (...</td>\n",
       "      <td>This Lenovo Legion 5i Pro gaming laptop hits t...</td>\n",
       "    </tr>\n",
       "    <tr>\n",
       "      <th>3</th>\n",
       "      <td>ASUS ROG Strix Scar 18 G834JZ-N5041WS 13th Gen...</td>\n",
       "      <td>If a 17-inch display on a gaming laptop no lon...</td>\n",
       "    </tr>\n",
       "    <tr>\n",
       "      <th>4</th>\n",
       "      <td>Acer Predator Helios Neo 16 13th Gen Core i7-1...</td>\n",
       "      <td>The Acer Predator series of gaming laptops has...</td>\n",
       "    </tr>\n",
       "    <tr>\n",
       "      <th>5</th>\n",
       "      <td>ASUS ROG Zephyrus G14 Ryzen 9-6900HS (GA402RJZ...</td>\n",
       "      <td>Another ASUS laptop makes it to our list, and ...</td>\n",
       "    </tr>\n",
       "    <tr>\n",
       "      <th>6</th>\n",
       "      <td>MSI Cyborg 15 12th Gen Core i7-12650H (A12VF-2...</td>\n",
       "      <td>One of the newest gaming laptop series from MS...</td>\n",
       "    </tr>\n",
       "  </tbody>\n",
       "</table>\n",
       "</div>"
      ],
      "text/plain": [
       "                                        Product Name  \\\n",
       "0       HP Omen 17-ck2008TX 13th Gen Core i7-13700HX   \n",
       "1  MSI GT77 Titan 12UHS-054IN 12th Gen Core i9-12...   \n",
       "2  Lenovo Legion 5i Pro 12th Gen Core i7-12700H (...   \n",
       "3  ASUS ROG Strix Scar 18 G834JZ-N5041WS 13th Gen...   \n",
       "4  Acer Predator Helios Neo 16 13th Gen Core i7-1...   \n",
       "5  ASUS ROG Zephyrus G14 Ryzen 9-6900HS (GA402RJZ...   \n",
       "6  MSI Cyborg 15 12th Gen Core i7-12650H (A12VF-2...   \n",
       "\n",
       "                                 Product Description  \n",
       "0  We tested the HP OMEN 17 2023 at our digit tes...  \n",
       "1  This laptop won our best performance award las...  \n",
       "2  This Lenovo Legion 5i Pro gaming laptop hits t...  \n",
       "3  If a 17-inch display on a gaming laptop no lon...  \n",
       "4  The Acer Predator series of gaming laptops has...  \n",
       "5  Another ASUS laptop makes it to our list, and ...  \n",
       "6  One of the newest gaming laptop series from MS...  "
      ]
     },
     "execution_count": 27,
     "metadata": {},
     "output_type": "execute_result"
    }
   ],
   "source": [
    "\n",
    "df = pd.DataFrame({'Product Name':prod_name,'Product Description':prod_desc})\n",
    "df"
   ]
  },
  {
   "cell_type": "code",
   "execution_count": null,
   "id": "3ac739f8",
   "metadata": {
    "scrolled": true
   },
   "outputs": [],
   "source": []
  },
  {
   "cell_type": "markdown",
   "id": "02ff52cd",
   "metadata": {
    "scrolled": true
   },
   "source": [
    "## Q 7. Write a python program to scrape the details for all billionaires from www.forbes.com. \n",
    "### Details to be scrapped:\n",
    "“Rank”, “Name”, “Net worth”, “Age”, “Citizenship”, “Source”, “Industry”."
   ]
  },
  {
   "cell_type": "code",
   "execution_count": 28,
   "id": "fd2977eb",
   "metadata": {
    "scrolled": true
   },
   "outputs": [],
   "source": [
    "driver = webdriver.Chrome()\n",
    "driver.maximize_window()\n",
    "\n",
    "driver.get(\"https://www.forbes.com/billionaires/\")\n",
    "\n",
    "sleep(5)"
   ]
  },
  {
   "cell_type": "code",
   "execution_count": 29,
   "id": "483c8e68",
   "metadata": {
    "scrolled": true
   },
   "outputs": [],
   "source": [
    "rank = []\n",
    "name = []\n",
    "net_worth = []\n",
    "age = []\n",
    "citizenship = []\n",
    "source = []\n",
    "industry = []"
   ]
  },
  {
   "cell_type": "code",
   "execution_count": 30,
   "id": "24107603",
   "metadata": {
    "scrolled": true
   },
   "outputs": [
    {
     "name": "stdout",
     "output_type": "stream",
     "text": [
      "200 200 200 200 200 200 200\n"
     ]
    }
   ],
   "source": [
    "# Page no - 1\n",
    "\n",
    "rank_tags     = driver.find_elements(By.XPATH,'//div[@class=\"TableRow_cell__db-hv Table_cell__houv9\"][1]')\n",
    "name_tags     = driver.find_elements(By.XPATH,'//div[@class=\"TableRow_cell__db-hv Table_cell__houv9\"][2]')\n",
    "nw_tags       = driver.find_elements(By.XPATH,'//div[@class=\"TableRow_cell__db-hv Table_cell__houv9\"][3]')\n",
    "age_tags      = driver.find_elements(By.XPATH,'//div[@class=\"TableRow_cell__db-hv Table_cell__houv9\"][4]')\n",
    "country_tags  = driver.find_elements(By.XPATH,'//div[@class=\"TableRow_cell__db-hv Table_cell__houv9\"][5]')\n",
    "source_tags   = driver.find_elements(By.XPATH,'//div[@class=\"TableRow_cell__db-hv Table_cell__houv9\"][6]')\n",
    "industry_tags = driver.find_elements(By.XPATH,'//div[@class=\"TableRow_cell__db-hv Table_cell__houv9\"][7]')\n",
    "\n",
    "for i in rank_tags:\n",
    "    ranks = i.text\n",
    "    rank.append(ranks)\n",
    "for i in name_tags:\n",
    "    names = i.text\n",
    "    name.append(names)\n",
    "for i in nw_tags:\n",
    "    networth = i.text\n",
    "    net_worth.append(networth)\n",
    "for i in age_tags:\n",
    "    ages = i.text\n",
    "    age.append(ages)\n",
    "for i in country_tags:\n",
    "    country = i.text\n",
    "    citizenship.append(country)\n",
    "for i in source_tags:\n",
    "    sources = i.text\n",
    "    source.append(sources)\n",
    "for i in industry_tags:\n",
    "    industries = i.text\n",
    "    industry.append(industries)\n",
    "\n",
    "print(len(rank),len(name),len(net_worth),len(age),len(citizenship),len(source),len(industry))"
   ]
  },
  {
   "cell_type": "code",
   "execution_count": 31,
   "id": "fd36084c",
   "metadata": {},
   "outputs": [
    {
     "name": "stdout",
     "output_type": "stream",
     "text": [
      "400 400 400 400 400 400 400\n"
     ]
    }
   ],
   "source": [
    "# Page no - 2\n",
    "\n",
    "next_page = driver.find_element(By.XPATH,'//button[@class=\"Pagination_paginationBtn__UIBE-\"]').click()\n",
    "\n",
    "sleep(2)\n",
    "\n",
    "rank_tags     = driver.find_elements(By.XPATH,'//div[@class=\"TableRow_cell__db-hv Table_cell__houv9\"][1]')\n",
    "name_tags     = driver.find_elements(By.XPATH,'//div[@class=\"TableRow_cell__db-hv Table_cell__houv9\"][2]')\n",
    "nw_tags       = driver.find_elements(By.XPATH,'//div[@class=\"TableRow_cell__db-hv Table_cell__houv9\"][3]')\n",
    "age_tags      = driver.find_elements(By.XPATH,'//div[@class=\"TableRow_cell__db-hv Table_cell__houv9\"][4]')\n",
    "country_tags  = driver.find_elements(By.XPATH,'//div[@class=\"TableRow_cell__db-hv Table_cell__houv9\"][5]')\n",
    "source_tags   = driver.find_elements(By.XPATH,'//div[@class=\"TableRow_cell__db-hv Table_cell__houv9\"][6]')\n",
    "industry_tags = driver.find_elements(By.XPATH,'//div[@class=\"TableRow_cell__db-hv Table_cell__houv9\"][7]')\n",
    "\n",
    "for i in rank_tags:\n",
    "    ranks = i.text\n",
    "    rank.append(ranks)\n",
    "for i in name_tags:\n",
    "    names = i.text\n",
    "    name.append(names)\n",
    "for i in nw_tags:\n",
    "    networth = i.text\n",
    "    net_worth.append(networth)\n",
    "for i in age_tags:\n",
    "    ages = i.text\n",
    "    age.append(ages)\n",
    "for i in country_tags:\n",
    "    country = i.text\n",
    "    citizenship.append(country)\n",
    "for i in source_tags:\n",
    "    sources = i.text\n",
    "    source.append(sources)\n",
    "for i in industry_tags:\n",
    "    industries = i.text\n",
    "    industry.append(industries)\n",
    "\n",
    "print(len(rank),len(name),len(net_worth),len(age),len(citizenship),len(source),len(industry))"
   ]
  },
  {
   "cell_type": "code",
   "execution_count": 32,
   "id": "fa78535b",
   "metadata": {},
   "outputs": [
    {
     "name": "stdout",
     "output_type": "stream",
     "text": [
      "600 600 600 600 600 600 600\n"
     ]
    }
   ],
   "source": [
    "# Page no - 3\n",
    "\n",
    "next_page = driver.find_element(By.XPATH,'//button[@class=\"Pagination_paginationBtn__UIBE-\"][2]').click()\n",
    "\n",
    "sleep(2)\n",
    "\n",
    "rank_tags     = driver.find_elements(By.XPATH,'//div[@class=\"TableRow_cell__db-hv Table_cell__houv9\"][1]')\n",
    "name_tags     = driver.find_elements(By.XPATH,'//div[@class=\"TableRow_cell__db-hv Table_cell__houv9\"][2]')\n",
    "nw_tags       = driver.find_elements(By.XPATH,'//div[@class=\"TableRow_cell__db-hv Table_cell__houv9\"][3]')\n",
    "age_tags      = driver.find_elements(By.XPATH,'//div[@class=\"TableRow_cell__db-hv Table_cell__houv9\"][4]')\n",
    "country_tags  = driver.find_elements(By.XPATH,'//div[@class=\"TableRow_cell__db-hv Table_cell__houv9\"][5]')\n",
    "source_tags   = driver.find_elements(By.XPATH,'//div[@class=\"TableRow_cell__db-hv Table_cell__houv9\"][6]')\n",
    "industry_tags = driver.find_elements(By.XPATH,'//div[@class=\"TableRow_cell__db-hv Table_cell__houv9\"][7]')\n",
    "\n",
    "for i in rank_tags:\n",
    "    ranks = i.text\n",
    "    rank.append(ranks)\n",
    "for i in name_tags:\n",
    "    names = i.text\n",
    "    name.append(names)\n",
    "for i in nw_tags:\n",
    "    networth = i.text\n",
    "    net_worth.append(networth)\n",
    "for i in age_tags:\n",
    "    ages = i.text\n",
    "    age.append(ages)\n",
    "for i in country_tags:\n",
    "    country = i.text\n",
    "    citizenship.append(country)\n",
    "for i in source_tags:\n",
    "    sources = i.text\n",
    "    source.append(sources)\n",
    "for i in industry_tags:\n",
    "    industries = i.text\n",
    "    industry.append(industries)\n",
    "\n",
    "print(len(rank),len(name),len(net_worth),len(age),len(citizenship),len(source),len(industry))"
   ]
  },
  {
   "cell_type": "code",
   "execution_count": 33,
   "id": "6be66a5f",
   "metadata": {},
   "outputs": [
    {
     "name": "stdout",
     "output_type": "stream",
     "text": [
      "800 800 800 800 800 800 800\n"
     ]
    }
   ],
   "source": [
    "# Page no - 4\n",
    "\n",
    "next_page = driver.find_element(By.XPATH,'//button[@class=\"Pagination_paginationBtn__UIBE-\"][2]').click()\n",
    "\n",
    "sleep(2)\n",
    "\n",
    "rank_tags     = driver.find_elements(By.XPATH,'//div[@class=\"TableRow_cell__db-hv Table_cell__houv9\"][1]')\n",
    "name_tags     = driver.find_elements(By.XPATH,'//div[@class=\"TableRow_cell__db-hv Table_cell__houv9\"][2]')\n",
    "nw_tags       = driver.find_elements(By.XPATH,'//div[@class=\"TableRow_cell__db-hv Table_cell__houv9\"][3]')\n",
    "age_tags      = driver.find_elements(By.XPATH,'//div[@class=\"TableRow_cell__db-hv Table_cell__houv9\"][4]')\n",
    "country_tags  = driver.find_elements(By.XPATH,'//div[@class=\"TableRow_cell__db-hv Table_cell__houv9\"][5]')\n",
    "source_tags   = driver.find_elements(By.XPATH,'//div[@class=\"TableRow_cell__db-hv Table_cell__houv9\"][6]')\n",
    "industry_tags = driver.find_elements(By.XPATH,'//div[@class=\"TableRow_cell__db-hv Table_cell__houv9\"][7]')\n",
    "\n",
    "for i in rank_tags:\n",
    "    ranks = i.text\n",
    "    rank.append(ranks)\n",
    "for i in name_tags:\n",
    "    names = i.text\n",
    "    name.append(names)\n",
    "for i in nw_tags:\n",
    "    networth = i.text\n",
    "    net_worth.append(networth)\n",
    "for i in age_tags:\n",
    "    ages = i.text\n",
    "    age.append(ages)\n",
    "for i in country_tags:\n",
    "    country = i.text\n",
    "    citizenship.append(country)\n",
    "for i in source_tags:\n",
    "    sources = i.text\n",
    "    source.append(sources)\n",
    "for i in industry_tags:\n",
    "    industries = i.text\n",
    "    industry.append(industries)\n",
    "\n",
    "print(len(rank),len(name),len(net_worth),len(age),len(citizenship),len(source),len(industry))"
   ]
  },
  {
   "cell_type": "code",
   "execution_count": 34,
   "id": "da7779a5",
   "metadata": {},
   "outputs": [
    {
     "name": "stdout",
     "output_type": "stream",
     "text": [
      "1000 1000 1000 1000 1000 1000 1000\n"
     ]
    }
   ],
   "source": [
    "# Page no - 5\n",
    "\n",
    "next_page = driver.find_element(By.XPATH,'//button[@class=\"Pagination_paginationBtn__UIBE-\"][2]').click()\n",
    "\n",
    "sleep(2)\n",
    "\n",
    "rank_tags     = driver.find_elements(By.XPATH,'//div[@class=\"TableRow_cell__db-hv Table_cell__houv9\"][1]')\n",
    "name_tags     = driver.find_elements(By.XPATH,'//div[@class=\"TableRow_cell__db-hv Table_cell__houv9\"][2]')\n",
    "nw_tags       = driver.find_elements(By.XPATH,'//div[@class=\"TableRow_cell__db-hv Table_cell__houv9\"][3]')\n",
    "age_tags      = driver.find_elements(By.XPATH,'//div[@class=\"TableRow_cell__db-hv Table_cell__houv9\"][4]')\n",
    "country_tags  = driver.find_elements(By.XPATH,'//div[@class=\"TableRow_cell__db-hv Table_cell__houv9\"][5]')\n",
    "source_tags   = driver.find_elements(By.XPATH,'//div[@class=\"TableRow_cell__db-hv Table_cell__houv9\"][6]')\n",
    "industry_tags = driver.find_elements(By.XPATH,'//div[@class=\"TableRow_cell__db-hv Table_cell__houv9\"][7]')\n",
    "\n",
    "for i in rank_tags:\n",
    "    ranks = i.text\n",
    "    rank.append(ranks)\n",
    "for i in name_tags:\n",
    "    names = i.text\n",
    "    name.append(names)\n",
    "for i in nw_tags:\n",
    "    networth = i.text\n",
    "    net_worth.append(networth)\n",
    "for i in age_tags:\n",
    "    ages = i.text\n",
    "    age.append(ages)\n",
    "for i in country_tags:\n",
    "    country = i.text\n",
    "    citizenship.append(country)\n",
    "for i in source_tags:\n",
    "    sources = i.text\n",
    "    source.append(sources)\n",
    "for i in industry_tags:\n",
    "    industries = i.text\n",
    "    industry.append(industries)\n",
    "\n",
    "print(len(rank),len(name),len(net_worth),len(age),len(citizenship),len(source),len(industry))"
   ]
  },
  {
   "cell_type": "code",
   "execution_count": 35,
   "id": "6fa1596f",
   "metadata": {},
   "outputs": [
    {
     "name": "stdout",
     "output_type": "stream",
     "text": [
      "1200 1200 1200 1200 1200 1200 1200\n"
     ]
    }
   ],
   "source": [
    "# Page no - 6\n",
    "\n",
    "next_page = driver.find_element(By.XPATH,'//button[@class=\"Pagination_paginationBtn__UIBE-\"][2]').click()\n",
    "\n",
    "sleep(2)\n",
    "\n",
    "rank_tags     = driver.find_elements(By.XPATH,'//div[@class=\"TableRow_cell__db-hv Table_cell__houv9\"][1]')\n",
    "name_tags     = driver.find_elements(By.XPATH,'//div[@class=\"TableRow_cell__db-hv Table_cell__houv9\"][2]')\n",
    "nw_tags       = driver.find_elements(By.XPATH,'//div[@class=\"TableRow_cell__db-hv Table_cell__houv9\"][3]')\n",
    "age_tags      = driver.find_elements(By.XPATH,'//div[@class=\"TableRow_cell__db-hv Table_cell__houv9\"][4]')\n",
    "country_tags  = driver.find_elements(By.XPATH,'//div[@class=\"TableRow_cell__db-hv Table_cell__houv9\"][5]')\n",
    "source_tags   = driver.find_elements(By.XPATH,'//div[@class=\"TableRow_cell__db-hv Table_cell__houv9\"][6]')\n",
    "industry_tags = driver.find_elements(By.XPATH,'//div[@class=\"TableRow_cell__db-hv Table_cell__houv9\"][7]')\n",
    "\n",
    "for i in rank_tags:\n",
    "    ranks = i.text\n",
    "    rank.append(ranks)\n",
    "for i in name_tags:\n",
    "    names = i.text\n",
    "    name.append(names)\n",
    "for i in nw_tags:\n",
    "    networth = i.text\n",
    "    net_worth.append(networth)\n",
    "for i in age_tags:\n",
    "    ages = i.text\n",
    "    age.append(ages)\n",
    "for i in country_tags:\n",
    "    country = i.text\n",
    "    citizenship.append(country)\n",
    "for i in source_tags:\n",
    "    sources = i.text\n",
    "    source.append(sources)\n",
    "for i in industry_tags:\n",
    "    industries = i.text\n",
    "    industry.append(industries)\n",
    "\n",
    "print(len(rank),len(name),len(net_worth),len(age),len(citizenship),len(source),len(industry))"
   ]
  },
  {
   "cell_type": "code",
   "execution_count": 36,
   "id": "e3e0406b",
   "metadata": {},
   "outputs": [
    {
     "name": "stdout",
     "output_type": "stream",
     "text": [
      "1400 1400 1400 1400 1400 1400 1400\n"
     ]
    }
   ],
   "source": [
    "# Page no - 7\n",
    "\n",
    "next_page = driver.find_element(By.XPATH,'//button[@class=\"Pagination_paginationBtn__UIBE-\"][2]').click()\n",
    "\n",
    "sleep(2)\n",
    "\n",
    "rank_tags     = driver.find_elements(By.XPATH,'//div[@class=\"TableRow_cell__db-hv Table_cell__houv9\"][1]')\n",
    "name_tags     = driver.find_elements(By.XPATH,'//div[@class=\"TableRow_cell__db-hv Table_cell__houv9\"][2]')\n",
    "nw_tags       = driver.find_elements(By.XPATH,'//div[@class=\"TableRow_cell__db-hv Table_cell__houv9\"][3]')\n",
    "age_tags      = driver.find_elements(By.XPATH,'//div[@class=\"TableRow_cell__db-hv Table_cell__houv9\"][4]')\n",
    "country_tags  = driver.find_elements(By.XPATH,'//div[@class=\"TableRow_cell__db-hv Table_cell__houv9\"][5]')\n",
    "source_tags   = driver.find_elements(By.XPATH,'//div[@class=\"TableRow_cell__db-hv Table_cell__houv9\"][6]')\n",
    "industry_tags = driver.find_elements(By.XPATH,'//div[@class=\"TableRow_cell__db-hv Table_cell__houv9\"][7]')\n",
    "\n",
    "for i in rank_tags:\n",
    "    ranks = i.text\n",
    "    rank.append(ranks)\n",
    "for i in name_tags:\n",
    "    names = i.text\n",
    "    name.append(names)\n",
    "for i in nw_tags:\n",
    "    networth = i.text\n",
    "    net_worth.append(networth)\n",
    "for i in age_tags:\n",
    "    ages = i.text\n",
    "    age.append(ages)\n",
    "for i in country_tags:\n",
    "    country = i.text\n",
    "    citizenship.append(country)\n",
    "for i in source_tags:\n",
    "    sources = i.text\n",
    "    source.append(sources)\n",
    "for i in industry_tags:\n",
    "    industries = i.text\n",
    "    industry.append(industries)\n",
    "\n",
    "print(len(rank),len(name),len(net_worth),len(age),len(citizenship),len(source),len(industry))"
   ]
  },
  {
   "cell_type": "code",
   "execution_count": 37,
   "id": "4f7aceec",
   "metadata": {},
   "outputs": [
    {
     "name": "stdout",
     "output_type": "stream",
     "text": [
      "1600 1600 1600 1600 1600 1600 1600\n"
     ]
    }
   ],
   "source": [
    "# Page no - 8\n",
    "\n",
    "next_page = driver.find_element(By.XPATH,'//button[@class=\"Pagination_paginationBtn__UIBE-\"][2]').click()\n",
    "\n",
    "sleep(2)\n",
    "\n",
    "rank_tags     = driver.find_elements(By.XPATH,'//div[@class=\"TableRow_cell__db-hv Table_cell__houv9\"][1]')\n",
    "name_tags     = driver.find_elements(By.XPATH,'//div[@class=\"TableRow_cell__db-hv Table_cell__houv9\"][2]')\n",
    "nw_tags       = driver.find_elements(By.XPATH,'//div[@class=\"TableRow_cell__db-hv Table_cell__houv9\"][3]')\n",
    "age_tags      = driver.find_elements(By.XPATH,'//div[@class=\"TableRow_cell__db-hv Table_cell__houv9\"][4]')\n",
    "country_tags  = driver.find_elements(By.XPATH,'//div[@class=\"TableRow_cell__db-hv Table_cell__houv9\"][5]')\n",
    "source_tags   = driver.find_elements(By.XPATH,'//div[@class=\"TableRow_cell__db-hv Table_cell__houv9\"][6]')\n",
    "industry_tags = driver.find_elements(By.XPATH,'//div[@class=\"TableRow_cell__db-hv Table_cell__houv9\"][7]')\n",
    "\n",
    "for i in rank_tags:\n",
    "    ranks = i.text\n",
    "    rank.append(ranks)\n",
    "for i in name_tags:\n",
    "    names = i.text\n",
    "    name.append(names)\n",
    "for i in nw_tags:\n",
    "    networth = i.text\n",
    "    net_worth.append(networth)\n",
    "for i in age_tags:\n",
    "    ages = i.text\n",
    "    age.append(ages)\n",
    "for i in country_tags:\n",
    "    country = i.text\n",
    "    citizenship.append(country)\n",
    "for i in source_tags:\n",
    "    sources = i.text\n",
    "    source.append(sources)\n",
    "for i in industry_tags:\n",
    "    industries = i.text\n",
    "    industry.append(industries)\n",
    "\n",
    "print(len(rank),len(name),len(net_worth),len(age),len(citizenship),len(source),len(industry))"
   ]
  },
  {
   "cell_type": "code",
   "execution_count": 38,
   "id": "1db5a41e",
   "metadata": {},
   "outputs": [
    {
     "name": "stdout",
     "output_type": "stream",
     "text": [
      "1800 1800 1800 1800 1800 1800 1800\n"
     ]
    }
   ],
   "source": [
    "# Page no - 9\n",
    "\n",
    "next_page = driver.find_element(By.XPATH,'//button[@class=\"Pagination_paginationBtn__UIBE-\"][2]').click()\n",
    "\n",
    "sleep(2)\n",
    "\n",
    "rank_tags     = driver.find_elements(By.XPATH,'//div[@class=\"TableRow_cell__db-hv Table_cell__houv9\"][1]')\n",
    "name_tags     = driver.find_elements(By.XPATH,'//div[@class=\"TableRow_cell__db-hv Table_cell__houv9\"][2]')\n",
    "nw_tags       = driver.find_elements(By.XPATH,'//div[@class=\"TableRow_cell__db-hv Table_cell__houv9\"][3]')\n",
    "age_tags      = driver.find_elements(By.XPATH,'//div[@class=\"TableRow_cell__db-hv Table_cell__houv9\"][4]')\n",
    "country_tags  = driver.find_elements(By.XPATH,'//div[@class=\"TableRow_cell__db-hv Table_cell__houv9\"][5]')\n",
    "source_tags   = driver.find_elements(By.XPATH,'//div[@class=\"TableRow_cell__db-hv Table_cell__houv9\"][6]')\n",
    "industry_tags = driver.find_elements(By.XPATH,'//div[@class=\"TableRow_cell__db-hv Table_cell__houv9\"][7]')\n",
    "\n",
    "for i in rank_tags:\n",
    "    ranks = i.text\n",
    "    rank.append(ranks)\n",
    "for i in name_tags:\n",
    "    names = i.text\n",
    "    name.append(names)\n",
    "for i in nw_tags:\n",
    "    networth = i.text\n",
    "    net_worth.append(networth)\n",
    "for i in age_tags:\n",
    "    ages = i.text\n",
    "    age.append(ages)\n",
    "for i in country_tags:\n",
    "    country = i.text\n",
    "    citizenship.append(country)\n",
    "for i in source_tags:\n",
    "    sources = i.text\n",
    "    source.append(sources)\n",
    "for i in industry_tags:\n",
    "    industries = i.text\n",
    "    industry.append(industries)\n",
    "\n",
    "print(len(rank),len(name),len(net_worth),len(age),len(citizenship),len(source),len(industry))"
   ]
  },
  {
   "cell_type": "code",
   "execution_count": 39,
   "id": "fa35b533",
   "metadata": {},
   "outputs": [
    {
     "name": "stdout",
     "output_type": "stream",
     "text": [
      "2000 2000 2000 2000 2000 2000 2000\n"
     ]
    }
   ],
   "source": [
    "# Page no - 10\n",
    "\n",
    "next_page = driver.find_element(By.XPATH,'//button[@class=\"Pagination_paginationBtn__UIBE-\"][2]').click()\n",
    "\n",
    "sleep(2)\n",
    "\n",
    "rank_tags     = driver.find_elements(By.XPATH,'//div[@class=\"TableRow_cell__db-hv Table_cell__houv9\"][1]')\n",
    "name_tags     = driver.find_elements(By.XPATH,'//div[@class=\"TableRow_cell__db-hv Table_cell__houv9\"][2]')\n",
    "nw_tags       = driver.find_elements(By.XPATH,'//div[@class=\"TableRow_cell__db-hv Table_cell__houv9\"][3]')\n",
    "age_tags      = driver.find_elements(By.XPATH,'//div[@class=\"TableRow_cell__db-hv Table_cell__houv9\"][4]')\n",
    "country_tags  = driver.find_elements(By.XPATH,'//div[@class=\"TableRow_cell__db-hv Table_cell__houv9\"][5]')\n",
    "source_tags   = driver.find_elements(By.XPATH,'//div[@class=\"TableRow_cell__db-hv Table_cell__houv9\"][6]')\n",
    "industry_tags = driver.find_elements(By.XPATH,'//div[@class=\"TableRow_cell__db-hv Table_cell__houv9\"][7]')\n",
    "\n",
    "for i in rank_tags:\n",
    "    ranks = i.text\n",
    "    rank.append(ranks)\n",
    "for i in name_tags:\n",
    "    names = i.text\n",
    "    name.append(names)\n",
    "for i in nw_tags:\n",
    "    networth = i.text\n",
    "    net_worth.append(networth)\n",
    "for i in age_tags:\n",
    "    ages = i.text\n",
    "    age.append(ages)\n",
    "for i in country_tags:\n",
    "    country = i.text\n",
    "    citizenship.append(country)\n",
    "for i in source_tags:\n",
    "    sources = i.text\n",
    "    source.append(sources)\n",
    "for i in industry_tags:\n",
    "    industries = i.text\n",
    "    industry.append(industries)\n",
    "\n",
    "print(len(rank),len(name),len(net_worth),len(age),len(citizenship),len(source),len(industry))"
   ]
  },
  {
   "cell_type": "code",
   "execution_count": 40,
   "id": "afbbb042",
   "metadata": {},
   "outputs": [
    {
     "name": "stdout",
     "output_type": "stream",
     "text": [
      "2200 2200 2200 2200 2200 2200 2200\n"
     ]
    }
   ],
   "source": [
    "# Page no - 11\n",
    "\n",
    "next_page = driver.find_element(By.XPATH,'//button[@class=\"Pagination_paginationBtn__UIBE-\"][2]').click()\n",
    "\n",
    "sleep(2)\n",
    "\n",
    "rank_tags     = driver.find_elements(By.XPATH,'//div[@class=\"TableRow_cell__db-hv Table_cell__houv9\"][1]')\n",
    "name_tags     = driver.find_elements(By.XPATH,'//div[@class=\"TableRow_cell__db-hv Table_cell__houv9\"][2]')\n",
    "nw_tags       = driver.find_elements(By.XPATH,'//div[@class=\"TableRow_cell__db-hv Table_cell__houv9\"][3]')\n",
    "age_tags      = driver.find_elements(By.XPATH,'//div[@class=\"TableRow_cell__db-hv Table_cell__houv9\"][4]')\n",
    "country_tags  = driver.find_elements(By.XPATH,'//div[@class=\"TableRow_cell__db-hv Table_cell__houv9\"][5]')\n",
    "source_tags   = driver.find_elements(By.XPATH,'//div[@class=\"TableRow_cell__db-hv Table_cell__houv9\"][6]')\n",
    "industry_tags = driver.find_elements(By.XPATH,'//div[@class=\"TableRow_cell__db-hv Table_cell__houv9\"][7]')\n",
    "\n",
    "for i in rank_tags:\n",
    "    ranks = i.text\n",
    "    rank.append(ranks)\n",
    "for i in name_tags:\n",
    "    names = i.text\n",
    "    name.append(names)\n",
    "for i in nw_tags:\n",
    "    networth = i.text\n",
    "    net_worth.append(networth)\n",
    "for i in age_tags:\n",
    "    ages = i.text\n",
    "    age.append(ages)\n",
    "for i in country_tags:\n",
    "    country = i.text\n",
    "    citizenship.append(country)\n",
    "for i in source_tags:\n",
    "    sources = i.text\n",
    "    source.append(sources)\n",
    "for i in industry_tags:\n",
    "    industries = i.text\n",
    "    industry.append(industries)\n",
    "\n",
    "print(len(rank),len(name),len(net_worth),len(age),len(citizenship),len(source),len(industry))"
   ]
  },
  {
   "cell_type": "code",
   "execution_count": 41,
   "id": "702f0ffd",
   "metadata": {},
   "outputs": [
    {
     "name": "stdout",
     "output_type": "stream",
     "text": [
      "2400 2400 2400 2400 2400 2400 2400\n"
     ]
    }
   ],
   "source": [
    "# Page no - 12\n",
    "\n",
    "next_page = driver.find_element(By.XPATH,'//button[@class=\"Pagination_paginationBtn__UIBE-\"][2]').click()\n",
    "\n",
    "sleep(2)\n",
    "\n",
    "rank_tags     = driver.find_elements(By.XPATH,'//div[@class=\"TableRow_cell__db-hv Table_cell__houv9\"][1]')\n",
    "name_tags     = driver.find_elements(By.XPATH,'//div[@class=\"TableRow_cell__db-hv Table_cell__houv9\"][2]')\n",
    "nw_tags       = driver.find_elements(By.XPATH,'//div[@class=\"TableRow_cell__db-hv Table_cell__houv9\"][3]')\n",
    "age_tags      = driver.find_elements(By.XPATH,'//div[@class=\"TableRow_cell__db-hv Table_cell__houv9\"][4]')\n",
    "country_tags  = driver.find_elements(By.XPATH,'//div[@class=\"TableRow_cell__db-hv Table_cell__houv9\"][5]')\n",
    "source_tags   = driver.find_elements(By.XPATH,'//div[@class=\"TableRow_cell__db-hv Table_cell__houv9\"][6]')\n",
    "industry_tags = driver.find_elements(By.XPATH,'//div[@class=\"TableRow_cell__db-hv Table_cell__houv9\"][7]')\n",
    "\n",
    "for i in rank_tags:\n",
    "    ranks = i.text\n",
    "    rank.append(ranks)\n",
    "for i in name_tags:\n",
    "    names = i.text\n",
    "    name.append(names)\n",
    "for i in nw_tags:\n",
    "    networth = i.text\n",
    "    net_worth.append(networth)\n",
    "for i in age_tags:\n",
    "    ages = i.text\n",
    "    age.append(ages)\n",
    "for i in country_tags:\n",
    "    country = i.text\n",
    "    citizenship.append(country)\n",
    "for i in source_tags:\n",
    "    sources = i.text\n",
    "    source.append(sources)\n",
    "for i in industry_tags:\n",
    "    industries = i.text\n",
    "    industry.append(industries)\n",
    "\n",
    "print(len(rank),len(name),len(net_worth),len(age),len(citizenship),len(source),len(industry))"
   ]
  },
  {
   "cell_type": "code",
   "execution_count": 42,
   "id": "5ca1d594",
   "metadata": {},
   "outputs": [
    {
     "name": "stdout",
     "output_type": "stream",
     "text": [
      "2600 2600 2600 2600 2600 2600 2600\n"
     ]
    }
   ],
   "source": [
    "# Page no - 13\n",
    "\n",
    "next_page = driver.find_element(By.XPATH,'//button[@class=\"Pagination_paginationBtn__UIBE-\"][2]').click()\n",
    "\n",
    "sleep(2)\n",
    "\n",
    "rank_tags     = driver.find_elements(By.XPATH,'//div[@class=\"TableRow_cell__db-hv Table_cell__houv9\"][1]')\n",
    "name_tags     = driver.find_elements(By.XPATH,'//div[@class=\"TableRow_cell__db-hv Table_cell__houv9\"][2]')\n",
    "nw_tags       = driver.find_elements(By.XPATH,'//div[@class=\"TableRow_cell__db-hv Table_cell__houv9\"][3]')\n",
    "age_tags      = driver.find_elements(By.XPATH,'//div[@class=\"TableRow_cell__db-hv Table_cell__houv9\"][4]')\n",
    "country_tags  = driver.find_elements(By.XPATH,'//div[@class=\"TableRow_cell__db-hv Table_cell__houv9\"][5]')\n",
    "source_tags   = driver.find_elements(By.XPATH,'//div[@class=\"TableRow_cell__db-hv Table_cell__houv9\"][6]')\n",
    "industry_tags = driver.find_elements(By.XPATH,'//div[@class=\"TableRow_cell__db-hv Table_cell__houv9\"][7]')\n",
    "\n",
    "for i in rank_tags:\n",
    "    ranks = i.text\n",
    "    rank.append(ranks)\n",
    "for i in name_tags:\n",
    "    names = i.text\n",
    "    name.append(names)\n",
    "for i in nw_tags:\n",
    "    networth = i.text\n",
    "    net_worth.append(networth)\n",
    "for i in age_tags:\n",
    "    ages = i.text\n",
    "    age.append(ages)\n",
    "for i in country_tags:\n",
    "    country = i.text\n",
    "    citizenship.append(country)\n",
    "for i in source_tags:\n",
    "    sources = i.text\n",
    "    source.append(sources)\n",
    "for i in industry_tags:\n",
    "    industries = i.text\n",
    "    industry.append(industries)\n",
    "\n",
    "print(len(rank),len(name),len(net_worth),len(age),len(citizenship),len(source),len(industry))"
   ]
  },
  {
   "cell_type": "code",
   "execution_count": 43,
   "id": "93e89b3d",
   "metadata": {},
   "outputs": [
    {
     "name": "stdout",
     "output_type": "stream",
     "text": [
      "2640 2640 2640 2640 2640 2640 2640\n"
     ]
    }
   ],
   "source": [
    "# Page no - 14\n",
    "\n",
    "next_page = driver.find_element(By.XPATH,'//button[@class=\"Pagination_paginationBtn__UIBE-\"][2]').click()\n",
    "\n",
    "sleep(2)\n",
    "\n",
    "rank_tags     = driver.find_elements(By.XPATH,'//div[@class=\"TableRow_cell__db-hv Table_cell__houv9\"][1]')\n",
    "name_tags     = driver.find_elements(By.XPATH,'//div[@class=\"TableRow_cell__db-hv Table_cell__houv9\"][2]')\n",
    "nw_tags       = driver.find_elements(By.XPATH,'//div[@class=\"TableRow_cell__db-hv Table_cell__houv9\"][3]')\n",
    "age_tags      = driver.find_elements(By.XPATH,'//div[@class=\"TableRow_cell__db-hv Table_cell__houv9\"][4]')\n",
    "country_tags  = driver.find_elements(By.XPATH,'//div[@class=\"TableRow_cell__db-hv Table_cell__houv9\"][5]')\n",
    "source_tags   = driver.find_elements(By.XPATH,'//div[@class=\"TableRow_cell__db-hv Table_cell__houv9\"][6]')\n",
    "industry_tags = driver.find_elements(By.XPATH,'//div[@class=\"TableRow_cell__db-hv Table_cell__houv9\"][7]')\n",
    "\n",
    "for i in rank_tags:\n",
    "    ranks = i.text\n",
    "    rank.append(ranks)\n",
    "for i in name_tags:\n",
    "    names = i.text\n",
    "    name.append(names)\n",
    "for i in nw_tags:\n",
    "    networth = i.text\n",
    "    net_worth.append(networth)\n",
    "for i in age_tags:\n",
    "    ages = i.text\n",
    "    age.append(ages)\n",
    "for i in country_tags:\n",
    "    country = i.text\n",
    "    citizenship.append(country)\n",
    "for i in source_tags:\n",
    "    sources = i.text\n",
    "    source.append(sources)\n",
    "for i in industry_tags:\n",
    "    industries = i.text\n",
    "    industry.append(industries)\n",
    "\n",
    "print(len(rank),len(name),len(net_worth),len(age),len(citizenship),len(source),len(industry))"
   ]
  },
  {
   "cell_type": "code",
   "execution_count": 44,
   "id": "3a8b4a68",
   "metadata": {},
   "outputs": [
    {
     "name": "stdout",
     "output_type": "stream",
     "text": [
      "\n",
      "\n",
      "-*-*-*-*-*-*-*-*-*-*-*-*-*-*-*-* Billionaires -*-*-*-*-*-*-*-*-*-*-*-*-*-*-*-*\n"
     ]
    },
    {
     "data": {
      "text/html": [
       "<div>\n",
       "<style scoped>\n",
       "    .dataframe tbody tr th:only-of-type {\n",
       "        vertical-align: middle;\n",
       "    }\n",
       "\n",
       "    .dataframe tbody tr th {\n",
       "        vertical-align: top;\n",
       "    }\n",
       "\n",
       "    .dataframe thead th {\n",
       "        text-align: right;\n",
       "    }\n",
       "</style>\n",
       "<table border=\"1\" class=\"dataframe\">\n",
       "  <thead>\n",
       "    <tr style=\"text-align: right;\">\n",
       "      <th></th>\n",
       "      <th>Rank</th>\n",
       "      <th>Names</th>\n",
       "      <th>Net Worth</th>\n",
       "      <th>Age</th>\n",
       "      <th>Citizenship</th>\n",
       "      <th>Source</th>\n",
       "      <th>Industry</th>\n",
       "    </tr>\n",
       "  </thead>\n",
       "  <tbody>\n",
       "    <tr>\n",
       "      <th>0</th>\n",
       "      <td>2540</td>\n",
       "      <td>Bernard Arnault &amp; family</td>\n",
       "      <td>$211 B</td>\n",
       "      <td>74</td>\n",
       "      <td>France</td>\n",
       "      <td>LVMH</td>\n",
       "      <td>Fashion &amp; Retail</td>\n",
       "    </tr>\n",
       "    <tr>\n",
       "      <th>1</th>\n",
       "      <td>2540</td>\n",
       "      <td>Elon Musk</td>\n",
       "      <td>$180 B</td>\n",
       "      <td>51</td>\n",
       "      <td>United States</td>\n",
       "      <td>Tesla, SpaceX</td>\n",
       "      <td>Automotive</td>\n",
       "    </tr>\n",
       "    <tr>\n",
       "      <th>2</th>\n",
       "      <td>2540</td>\n",
       "      <td>Jeff Bezos</td>\n",
       "      <td>$114 B</td>\n",
       "      <td>59</td>\n",
       "      <td>United States</td>\n",
       "      <td>Amazon</td>\n",
       "      <td>Technology</td>\n",
       "    </tr>\n",
       "    <tr>\n",
       "      <th>3</th>\n",
       "      <td>2540</td>\n",
       "      <td>Larry Ellison</td>\n",
       "      <td>$107 B</td>\n",
       "      <td>78</td>\n",
       "      <td>United States</td>\n",
       "      <td>Oracle</td>\n",
       "      <td>Technology</td>\n",
       "    </tr>\n",
       "    <tr>\n",
       "      <th>4</th>\n",
       "      <td>2540</td>\n",
       "      <td>Warren Buffett</td>\n",
       "      <td>$106 B</td>\n",
       "      <td>92</td>\n",
       "      <td>United States</td>\n",
       "      <td>Berkshire Hathaway</td>\n",
       "      <td>Finance &amp; Investments</td>\n",
       "    </tr>\n",
       "    <tr>\n",
       "      <th>...</th>\n",
       "      <td>...</td>\n",
       "      <td>...</td>\n",
       "      <td>...</td>\n",
       "      <td>...</td>\n",
       "      <td>...</td>\n",
       "      <td>...</td>\n",
       "      <td>...</td>\n",
       "    </tr>\n",
       "    <tr>\n",
       "      <th>2635</th>\n",
       "      <td>2540</td>\n",
       "      <td>Yu Rong</td>\n",
       "      <td>$1 B</td>\n",
       "      <td>51</td>\n",
       "      <td>China</td>\n",
       "      <td>Health clinics</td>\n",
       "      <td>Healthcare</td>\n",
       "    </tr>\n",
       "    <tr>\n",
       "      <th>2636</th>\n",
       "      <td>2540</td>\n",
       "      <td>Richard Yuengling, Jr.</td>\n",
       "      <td>$1 B</td>\n",
       "      <td>80</td>\n",
       "      <td>United States</td>\n",
       "      <td>Beer</td>\n",
       "      <td>Food &amp; Beverage</td>\n",
       "    </tr>\n",
       "    <tr>\n",
       "      <th>2637</th>\n",
       "      <td>2540</td>\n",
       "      <td>Zhang Gongyun</td>\n",
       "      <td>$1 B</td>\n",
       "      <td>60</td>\n",
       "      <td>China</td>\n",
       "      <td>Tyre manufacturing machinery</td>\n",
       "      <td>Manufacturing</td>\n",
       "    </tr>\n",
       "    <tr>\n",
       "      <th>2638</th>\n",
       "      <td>2540</td>\n",
       "      <td>Zhang Guiping &amp; family</td>\n",
       "      <td>$1 B</td>\n",
       "      <td>71</td>\n",
       "      <td>China</td>\n",
       "      <td>Real estate</td>\n",
       "      <td>Real Estate</td>\n",
       "    </tr>\n",
       "    <tr>\n",
       "      <th>2639</th>\n",
       "      <td>2540</td>\n",
       "      <td>Inigo Zobel</td>\n",
       "      <td>$1 B</td>\n",
       "      <td>66</td>\n",
       "      <td>Philippines</td>\n",
       "      <td>Diversified</td>\n",
       "      <td>Diversified</td>\n",
       "    </tr>\n",
       "  </tbody>\n",
       "</table>\n",
       "<p>2640 rows × 7 columns</p>\n",
       "</div>"
      ],
      "text/plain": [
       "      Rank                     Names Net Worth Age    Citizenship  \\\n",
       "0     2540  Bernard Arnault & family    $211 B  74         France   \n",
       "1     2540                 Elon Musk    $180 B  51  United States   \n",
       "2     2540                Jeff Bezos    $114 B  59  United States   \n",
       "3     2540             Larry Ellison    $107 B  78  United States   \n",
       "4     2540            Warren Buffett    $106 B  92  United States   \n",
       "...    ...                       ...       ...  ..            ...   \n",
       "2635  2540                   Yu Rong      $1 B  51          China   \n",
       "2636  2540    Richard Yuengling, Jr.      $1 B  80  United States   \n",
       "2637  2540             Zhang Gongyun      $1 B  60          China   \n",
       "2638  2540    Zhang Guiping & family      $1 B  71          China   \n",
       "2639  2540               Inigo Zobel      $1 B  66    Philippines   \n",
       "\n",
       "                            Source               Industry  \n",
       "0                             LVMH       Fashion & Retail  \n",
       "1                    Tesla, SpaceX             Automotive  \n",
       "2                           Amazon             Technology  \n",
       "3                           Oracle             Technology  \n",
       "4               Berkshire Hathaway  Finance & Investments  \n",
       "...                            ...                    ...  \n",
       "2635                Health clinics             Healthcare  \n",
       "2636                          Beer        Food & Beverage  \n",
       "2637  Tyre manufacturing machinery          Manufacturing  \n",
       "2638                   Real estate            Real Estate  \n",
       "2639                   Diversified            Diversified  \n",
       "\n",
       "[2640 rows x 7 columns]"
      ]
     },
     "execution_count": 44,
     "metadata": {},
     "output_type": "execute_result"
    }
   ],
   "source": [
    "print (\"\\n\\n-*-*-*-*-*-*-*-*-*-*-*-*-*-*-*-* Billionaires -*-*-*-*-*-*-*-*-*-*-*-*-*-*-*-*\")\n",
    "df = pd.DataFrame({'Rank':ranks,\n",
    "                   'Names':name,\n",
    "                   'Net Worth':net_worth,\n",
    "                   'Age':age,\n",
    "                   'Citizenship':citizenship,\n",
    "                   'Source':source,\n",
    "                   'Industry':industry})\n",
    "df"
   ]
  },
  {
   "cell_type": "code",
   "execution_count": null,
   "id": "7eecadb5",
   "metadata": {},
   "outputs": [],
   "source": []
  },
  {
   "cell_type": "markdown",
   "id": "53c3cea0",
   "metadata": {
    "scrolled": true
   },
   "source": [
    "## Q 8. Write a program to extract at least 500 Comments, Comment upvote and time when comment was posted from any YouTube Video."
   ]
  },
  {
   "cell_type": "code",
   "execution_count": 48,
   "id": "2501ac0c",
   "metadata": {
    "scrolled": true
   },
   "outputs": [],
   "source": [
    "driver = webdriver.Chrome()\n",
    "driver.maximize_window()\n",
    "driver.get(\"https://youtu.be/fmOnQhVG2E4?si=9TU6bA9VfaUdaPAC\")\n",
    "sleep(6)"
   ]
  },
  {
   "cell_type": "code",
   "execution_count": 51,
   "id": "0f9285fb",
   "metadata": {},
   "outputs": [],
   "source": [
    "comments = []\n",
    "comment_time = []"
   ]
  },
  {
   "cell_type": "code",
   "execution_count": 52,
   "id": "3658fd22",
   "metadata": {
    "scrolled": true
   },
   "outputs": [
    {
     "data": {
      "text/plain": [
       "500"
      ]
     },
     "execution_count": 52,
     "metadata": {},
     "output_type": "execute_result"
    }
   ],
   "source": [
    "comment_tags = driver.find_elements(By.XPATH,'//div[@class=\"style-scope ytd-expander\"]')\n",
    "\n",
    "comment_time_tags = driver.find_elements(By.XPATH,'//yt-formatted-string[@class=\"published-time-text style-scope ytd-comment-renderer\"]')\n",
    "\n",
    "for i in comment_tags[:500]:\n",
    "    comment = i.text\n",
    "    comments.append(comment)\n",
    "for i in comment_time_tags[:500]:\n",
    "    com_time = i.text\n",
    "    comment_time.append(com_time)\n",
    "\n",
    "len(comments)\n",
    "len(comment_time)\n"
   ]
  },
  {
   "cell_type": "code",
   "execution_count": 60,
   "id": "76c8532d",
   "metadata": {
    "scrolled": true
   },
   "outputs": [
    {
     "name": "stdout",
     "output_type": "stream",
     "text": [
      "['Spam MULTIVERSE if you want to watch more videos about that topic! If we get 10000 comments we will immediately make a video!', 'i want a video on MULTIVERSE\\ngreat job and good topic to discuss on', 'Always Amazing Topic By Abhi And Niyu ', 'Fun fact : Lorentz gave us the transformation for Relativity , and Einstein explained it in theoretical terms.....\\nWhenever people talk about Relativity, people usually refers to Einstein and forget Lorentz.', 'Aaj dimaag khul gaya ....thank you sir aapke liye mera depression chala gaya  ..last 3 min very much inspirational for everyone who suffered like me ', 'Sri Krishna is above than time and all that we can imagine,HARE KRISHNA ', 'Aj First Time Apka Video Mila Wo Bhi Thumbnail me Dekha Time Travel ke bare me To Main Apne Apko Rok nahi Paya,,\\nAa Gaya Video Dekhne..\\nGood job Brother', 'Dear Abhi & Niyu. Kindly make a video on the horrors & atrocities happening in Sandeshkhali ', \"I feel blessed to have guy's like abhi & niyu in India🇮🇳\\nLove From -Saharanpur (UP)️\", 'I am in class 10th and I believe that watching your videos in my free time is the best way of utilising time.\\nThank you', 'Same can be observed pn mount kailasa... Growth of nails / hairs / ageing has been much faster than normal person.', 'Your last summarisation is a bitter truth...we all humans live our lives in the past and future and never think about the present, It really made me think about the way we live.\\nThank you for the video.', 'Jay Shree Radhe Krishna Jay Shree Ram Jay Shree Laxmi Narayan Bhagwan God bless you Lots of love ', 'Bahut Khushi Hui ki aapne Mata Revati aur Balram ki Katha bhi batai. ', 'We want video on Multiverse and more videos like this.\\nThanks for the knowledge. ', 'My favourite lines \\nYesterday is history\\nTomorrow is a mystery\\nBut today is a gift', 'Yesterday was a History \\nTomorrow is a Mystery &\\nToday is Gift.   That\\'s why we call it \"Present\"', '11:19 my first and favourite guy who teach me about science ( for batter  ) ', 'Time travel krke ek bnda aya hai India mai 2029 se present mai aur unse ek insta page khola hai aur us per future btata hai. Hairani ki bat ye hai ki uski baat such bhi ho jati hai', 'Multiverse Wale like kaaro', 'Great way To connect Philosophy & Science!', 'Iuckyly I came in contact with puranas and vedic ideas when I was kid. I was physics student and the day when I came across relativity, timedilation and other theories 15 yrs ago, I was left speechless bcoz of its Parallel running with vedic ideas. This has caused me to be a physics student for the rest of life!\\nI have firm conviction that the day we have more understanding of quantum theory we will unlock more wisdom of vedas!', 'Kya baat hai last speech superb! aapki video dekh ke ab mai keh skta hu \"time well spent\"', 'Abhi and Niyu. Explainers that Inspire', 'Abhi and Niyu.. missing Niyu mam..\\nYou both are cute always..', 'One of the best Explanation  \\nNeed video on multiverse', 'I am physics teacher \\nThis will help my students a lot...\\nI will share with all my students', '11:55 this sequence really hit the hardest ', 'I never took interest in physics before I saw this video. Great way of explanation', 'According to me, Time travel is the transformation of human from 3D to 4D and if person  do timetable, they only can see events moving infront of them (Like we see 2D objects).', 'Yes.. I believe in living the moment ', 'Sir, i am ur viewer and subscribar.\\nSir i inspired with you and mam. \\nActually on my last attempt of upsc exam in 2023, same day, i made with an accident and unable to qualify exam.', 'while most of the people who skipped this video that person is enjoying other stuff, \\n\\nI love science and this is worth watching', \"Awesome enjoy now, eat now, dance now, live now, love now and much more.....'NOW' is the thing...thank you\", 'Part 2 please  \\nThank you in Advance ', 'MULTIVERSE\\nkeep up the good work team Abhi and Niyu.', 'Watching this as an 11th grader, your videos are always amazing, they never get old ', 'Kal valantine day hai . Single assemble here', 'Its not about the topic, its about how you explain, Ek bade bhai ki tarah samjate ho, thank you. Apki video se hame farak padtha hey', 'Excited for part 2 ️', \"What an exceptional message at the end. Will definitely help us reconsider the way we look at things. Thank you yet again for another good video. And yes, excited for the 'multiverse' video as well :)\", 'One of the best nowlegbul YouTube Channel Abhi and  niyu ', 'We want part 2 time travel. We love to see this related videos like science, philosophy, space  universe related videos please make them more for advantage think you abhi and niyu youtube channel management', 'Bahot acha video dekha aj such mein maja aa gaya. I am also curiosity about time travel . Pls part 2 jaldi leke ans.', 'My favourite topic…. Thanks for making such an interesting video', 'Dark Netflix will always remain my most favourite series and the way it shows time travel is just awesome', 'This is one of the best video full of healthy fact mind seeking and quality approach', 'Content quality has improved and video quality too... Plus value... ', 'Thank you for this video. Mind-boggling yet so insightful. \\nMULTIVERSE.', '2:04 video started \\n\\n\\n  thank you for your like', 'One of my favourite topics in the world thanks for making that video ', 'Thankyou again for this wonderful session ', \"Namaste Bhaiya!!\\nI've been watching your videos since a year now, just love the way you both explain actual difficult topics in a simple manner.\\nThe philosophical view on time travel that you talked about in the end actually clicked my mind before 3 months of today(15Feb).\", 'Beautiful video, thankyou for the msg ', \"Yesterday is History\\nTomorrow is mystery\\nToday is GIFT\\nSo it's Present \", 'I love the way you spread the knowledge in simple way..keep progressing brother ', 'A wise man said \"past is only in your mind, so you can change your past if you can change your mind\"', 'अगर आप सिर्फ साक्षी हो हर अनुभव के तो आप समय के पार हो। क्योकि समय का प्रभाव शरीर की होने वाली हर गतिविधि पर पड़ता है। पर देखने वाले पर नहीं और जो उन action-reaction मे उलझ गया तो फिर समय मे उलझ गया।', 'Hii abhi and niyu thank you for this series . Best wishes  for both of you lots of love ', 'Stumbled on this video - well put and explained. I am looking forward to your next one.', 'I am here from future...i want you guys to know that we are going to make time machine soon', 'Fastest growing channel than any other big channel.', 'dude one of the beat videos i have ever seen in my life. The Best.', 'Please make video on Electoral Bond .', 'What a intresting video by abhi and niyu. Unique content from other as always. We want a video on multiverse, pls make it', 'Please make a video about a plane which landed after 35 yrs', 'Favourite topic  amazing', 'I love your work Abhi and Niyu. Your information makes us Update. Such a wonderful work, keep on going ', 'MAKE SOME MORE SCIENCE RELATED VDOs LIKE THIS...', 'The use of ai generated images r making your videos even more interesting. Great job, great content, great video.', 'Great video ..looking forward more videos like this...very interesting guys ', 'As a space aspirant debunking the rubbish thoughts to space travel Someone rightly said, \" IT\\'S USELESS  TO KNOW WHAT WILL HAPPEN IN THE FUTURE, FOR LIFE LOSES ITS TRUE COLOURS\"  and also \" THERE IS NO FUTURE NOR THERE IS PAST. THERE IS ONLY PRESENT WHICH IS MOMENTARY. SO LIVE IT NOW!\"', '9:55  i phone 115 ', 'Abhi bro....tum toh dev manus ho..... Your videos give more extra knowledge about different perspectives with logical facts etc....great work sir....', 'Thank you for sharing such a great video.', 'Excellent video.....Thank you so much for such a video.......', 'Yes, please make video on multiverse', 'Your video are so amazing and we get knowledge from your video', '0:50 Michio Kaku my fav scientist', 'It seems like Abhi is interested in astronomy and astrophysics. I myself am. What a coincidence! I and my favourite creates share the same interests. I\\'d recommend a book to you Abhi. \"An Introduction to Astrophysics\" by Baiyandranath Basu.', 'MULTIVERSE MULTIVERSE.... It may not become a reality today but i wanna know its concept to see it happening in the future. I AM VOTING FOR \"MAKE A VIDEO FOR MULTIVERSE \"', 'That was an Awe - inspiring topic . Basically I have a lot of interest in space and time and this video was the punch for me and I really hope you encourage more videos like these. It would be awesome If you make a video about multiverse.', 'This is a really good wat of explaining time travel. It has always fascinated me from the beginning!', 'what a excelent explation \\nyou did an amazing work', 'Very excited for part 2', 'a great mix of science, fantasies, philosophies and reality. loved it', 'What a woderfullll, time spent well, you gave me new ways to think about what life iam i living. Thank you so much for this...', 'We want a complete detailed video on Multiverse .', 'Every time amazing topic how easily u explain such a difficult conect love you abhi and niyu', \"9:45 In my opinion, this reasoning isn't valid because there would be an infinite number of possible timelines. If a future human travel to the past, they would have an infinite array of moments to choose from in the past. Consequently, the probability of arriving in any particular timeline becomes exceedingly low. This might be why we have never heard about any future humans; perhaps they have not yet visited our timeline.\", '9:31 Spam Multiverse\\nWe want', 'Sir you give a perfect conclusion about time thank you so much ', \"Hi everyone, thanks to Abhi and Niyu for their hardworking.  \\nI'm a Rohingya student from Bangladesh Refugee Camp. \\nPlease make a video based on \", 'waiting for another informative video on multiverse....', 'Thank YOu for this amazing video', 'Sir, I have a question , aap ne kahe ki past mein time travel is not possible. But future me travel kar sakte hai kya.\\n\\nExample,', 'Nice topic', 'Please make more videos on space and time travel  ', 'Such an amazing video for the people like me jo hamesa hi future ki fikar kr raha ho and yes I love the topic like multiverse and time travel', 'Bro make different channel for topics like this and app log waha sirf ess type ke vedios dala karo', 'Yesterday is history tomorrow is a mystery\\nToday is a gift, Epic line', 'Thanks from Rourkela ( Odisha)', \"Edit :   10:25\\nAccording to 'Naljians' in Ben 10 Alien force BUSY BOX episode boardcast 2009\\nThere are 26 known dimensions!!\\nI love Ben 10\", 'PLEASE MAKE THIS TYPE OF VIDEOS MORE ', 'Baap level editing brother special first intro giving interstellar vibes', 'You always explain in easiest way. Thank you ', 'Great Video as always . Full of information in an interesting way.', 'yes i want a video on MULTIVERSE', '4:04 Brahma Brahmalok mai nivas karte hai', 'The last message you gave was just awesome. Keep it up guys.', 'This is surely appreciable \\nyesterday is history, \\ntomorrow is a mystery, \\nToday is the gift', 'Dear why not you makeing video on hasdev forest...\\nYou are the voice for youth we see you as our chanakya how say always truth and reality\\nPlz make video on hasdev forest ️', 'Best explanation ', \"As an early subscriber, I want to offer some genuine feedback on recent videos. I've noticed a shift in content from being more informational and valuable to entertainment and trend-based. It seems like this shift is aimed at attracting a new audience.\", '6:39  ya fir unone bataya nahi honga ', 'Thank you for making video on one of my favourite topic \\ni recommended this channel to the Indian students for grow their knowledge on such  amazing topics ', 'watching this channel is a self investment  u r always amazingit helps students a lot ', 'At last the 3 min mere kuch dosto se related tha maine use bheja aur pucha ki ye humme se kisse related hai। Kyoki mai to sirf aaj ko jita hu other ka nhi pata।', \"Let's reformat this at 6:04 as ISRO's spaceship. I think that'll make some impact in viewers'sub-conscious minds.\", 'Amazing video..the variety of topics u choose..politics,science,philosophy,mythology,current affairs,finances...etc etc etc how can u be so versatile Abhi and the depth with which u present every episode..with full detailed study...hats off to both of u....I am gaining some knowledge because of you love u both so so much', 'Radhe radhe 11:14', 'Never thought that Abhi and Niyu will make video on such topic', 'Amazing information. Pls make a video about the multiverse with mythology+ sci... Thank you', 'First 2min was like trailer of a movie ', 'Yeh apke liya toh free hai lekin hume iss se bahut inspiration milti hai love you both', 'Sir, summer is coming. Please make a video how to save our world. We  always support you. We want to make our world green again. Free from all kinds of miseries', 'Yes we want', 'Multiverse.\\nThank you so much for this video.', 'The intro is just too lovely ', 'Thank you sir\\nMultiverse', 'Woah, Day by day this channel is becoming more and more interesting.', 'Thanks bhai yah sari difficult topic aiise asan se samaj gaya mai ', '9:46  doramon ', 'This video was excellent!!! And yesss i would definitely love to watch a video on \"MULTIVERSE\"', 'Yes abhi and niyu we need topics like this ', 'Very nice use of metaphors dude to explain even a layman. River and stones and whatnot. ', 'Wow what a great video  really nice message', 'Such a beautiful video! what level of detailing with all the AI generated pictures and the emotions that you shared with such intellectual knowledge  and simplicity! kudos to you man! this is something everyone should just watch and share as much as possible! ', \"4:30 when I first time watched Interstellar this scene made me cry so much , i felt like it is the most emotional scene I have ever scene ,thier acting through there eyes pain , sadness , happiness they tell everything without words... It's greatest movie of mankind.\", 'U n yur content awesome... inspiration for millions ', 'Thankyou for this informative video.. and I want a video of multiverse', 'Amazing explanations .My favourite topic.', 'Thank you very much brother Abhi for the wonderful message. This is a motivation and an eye opener for all those who are stressed with their daily life and depressed about the future.', 'well it is a very beautiful video , well done sir , a message that i have been following from months , but wanted to tell others too thanks a lot', \"It's crazy how smart Einstein was, even now we are trying to prove his theory. Most recent one is gravitational waves being real, scary part is we still don't know how smart he is. Makes me wonder was he a time traveler as well haha.\", 'Thank you for this video ', 'bro that philosophy part was incredible . Thanks for this types of contents .', 'Perfectly framed and represented.\\nHats off ️', 'Hey guys , \\nCan you please make a videomon stress in Indian students and difficulties they face . So that  people become aware of them .', \"Sir video boht sahi time PE aya hai because for me whose thinking about tomorrow's exam Thank you\", 'I am also always curious about Time Travel. I suggest we should change Name \"Time Travel\" to \"Particals disposition\" . Because we never travel in Time. Our body\\'s atom particles change its position Beyond tremendous speed.', 'We need more videos related to science and quantum physics.', 'Primary objective of this video:\\nTo make us realise that whatever you are be happy in your present ️', 'Sir your last point is so heart touching for me and thank you so much for making a interesting videos ️', 'Amazing concept  also the video editor must be appreciated ', 'Sar aapke is valuable Baat ke liye bahut bahut Shukriya you are open my eyes', 'When krishna said to arjuna - ye sare kaurav to mere duara phele hi mare ja chuke hain ', '0:50 to 2:04 video quality peaked here \\nHats off Dear Abhi and Niyu\\U0001faf6', 'MULTIVERSE\\nI grew up being laughed at just trying to explain these things, you guys have presented it in a beautiful manner.', 'Thank you sir ', 'Well explained about precious time ', 'One Video on multiverse Plz.', 'Einstein believed that Indians were \"biologically inferior\" and were hampered by the subcontinent\\'s climate that \"prevented them from thinking backward or forward by more than a quarter of an hour.\"\\n\\nThis, according to Ze\\'ev Rosenkranz, the assistant director of the Einstein Papers Project at the California Institute of Technology, and the editor of a book that compiles Albert Einstein\\'s travel diaries.', 'Incredible presentation  ', '9:52  Sir , \" past time travel sirf isliye possible nahi kyunki hame koi future traveller abhi tk Mila nhi hai \" this was statement\\nPr , agar hamne light , light speed , wavelengths of different light iske adhar par past time travel Vali technology nikali , to may be it is possible ki future se aaye huye time travelers abhi bhi hai par vo invisible hai , ya phir light ke unknown wavelength ke hai .', 'i really appreciate your efforts and those editing skills made video more intresting', 'Yes, we want a dedicated video on grandfather paradox...', 'All scientists do experiments first and then theory, but Albert Einstein first gives theory and then experiment.', \"Yesterday is history,\\ntomorrow is a mystery,\\nand today is a gift...\\nthat's why they call it present..\", 'Amazing video, bestest  as a adult man i really appreciate this video.', 'Thankyou for this valuable information.\\nI want video on multiverse also.', 'Thanks you bhaiya ', 'At the end you touched my heart ', 'The last part of the video is amazing ', 'Multiverse!!\\nHigh emphasis on that Revati example used in the beginning. Really good to see that. Also master oogway reference in the end ', 'Amazing edit and amazing explanation ', 'Next episode please.... love from Bangladesh 🇧🇩', 'Awesome one . Please make a video on Mandella Effect & also The Philadelphia Experiment.', 'You are doing excellent work  ', 'One the best video bhai THANKYOU FOR MAKING️', \"Yesteday is History \\nTommorrow is mystery\\nToday is a gift \\nThat's why we call it present \", 'Loved it..need a video on multiverse!', 'Yes , please make a video on multiverse ️', 'The last lines were so impactful and meaningful', 'Topics related to space, time enables me to think more about it, it was an interesting video. I want a video on Metaverse too..', 'Sir, please make a video that what is present moment and how to live in present moment.', 'Always Abhi and Niyu win My heart', 'Editing at top level ', 'सर आपसे  निवेदन है कि शरीर के सात चक्र के बारे में एक वीडियो जरूर बनाएं', 'Love this kind of content ', 'Thank you Abhi for this wonderful video,I like such type of videos, please make video for Multiverse ', 'Please make more videos like this.', 'Next video on multiverse ', 'Wonderful vdo, especially the philosophy part. Kudos.. keep bringing such content that are educational and motivational at the same time', 'Most amazing video', 'Quran Pak m bht c incident n events hen jo time travel ko prove krty hen. Hazrat Uzair ki story, Ashaab kahaf,ki stories, Hazrat Mubammad (PBUH) ki ak rat m mairaj ki travling, time travl ko prove krti hy..jb k mairaj ki story aur Queen bilqees ki story, teletransportion ko prove krti hy.\\nQuran Pak m surah kahaf ful ov science hy', \"We do time travel and you are absolutely true. \\nIt's me who always thinks if I would have been to my past events and correct the things that went wrong . After some time I realise that my present is gone, I lost my time.\", \"Can't stop myself from commenting that this is the best video\", \"You don't know your last part will be really life changing for me.\", 'My favourite topic ever ️', 'Great information in Layman’s language. However we all are TIME travellers to some extent. even the person who is travelling in train and the person who is waiting at the station, the person travelling in the train Experiences time, moving slower. However, time travel may be theoretically possible, but practically it is next to impossible. Because the body moving in space time reaches closer to light speed. The mass of the body increases to infinity and the energy required to move. Such mass in space time is also infinite. There is no such source available on earth that can propel a body at infinite speed. Also a fun fact light may be travelling at three lakh metre per second for us, but for light the photon itself time and space never happened. That is the moment the photo was generated. It was absorbed at the same time on the other side. For light moving at light speed space and time becomes zero', 'Excellent Creativity in Video ', \"Here's why I think time traveling into the past is possible:\\n\\n•Law of conservation of mass states that matter can nor be created, nor be destroyed only be transformed from one form to another.\", 'Very good presentation!', 'मैं भी यही सोच रहा था एक दिन कही न कही ये चीज एक दिन सच होते हुए भी दिखेगी में सिर्फ सोच सकता हु करने वाले बहुत बैठे है', 'MULTIVERSE &\\nGod bless ya creators️', \"Abhi always rock's  thank you so much for this wonderful informative video \", 'Excellent video presented the concept of Time in simple layman terms. However, at 2:30, Newton\\'s statement was misinterpreted. \\n\\nAccording to Newton\\'s First Law of Motion, also known as the Law of Inertia, an object will remain at rest or continue to move at a constant velocity unless acted upon by an EXTERNAL FORCE. However, in this Video explanation ignored \"EXTERNAL FORCE\"', 'From time travel to multiverse everything is there in our ancient scriptures', 'Bro you opened my eyes', 'Master Oogway still enlightening us, even from the spirit realm', 'GetsetflyScience ne bhi aisa hi ek video banaya hai ', 'Yes multiverse is interesting thing  will wait for that', 'Bhaiyaa, kya video hai  \\nplease MULTIVERSE', 'Is video ne tho mujhe puri tarah badal diya\\n\\nYesterday is history\\nTomorrow is a mystery', 'Most beautiful lines in last', \"Respected sir\\nIt's my humble request to you that please focus on Geo politics, because me and my friends are biggest fans of yours and we gather so much information from your video.\", 'Best editing ever of your channel ', 'Great Concept Your Videos Are On Different Level Hats Off You Abhi And Niyu \\U0001fae1', 'Just clap for this guy. That is it. Hats off brother ', 'All the information you said is correct and presice ', 'Sir heads of to you, i really appreciate and gain knowledge by your videos and such a best concept and content you make also plzzz make a multivers video ', 'What a terrific subject, you just too good man... ', \"I am not interested in physics but how nicely explain by Abhi bhai that's what make this Channel different from rest of the channels hats off \\U0001faf6️\", 'I absolutely love this ', 'Always Amazing Topic By Abhi And Niyu ', 'Sarcasm next level…”Lekin unhone hume iske bare me bataya nahi…!”', 'Best content on whole internet ', 'Yes we want multiverse pe ek video ', 'Super duper educational video enjoyed and learned something new and exciting  also always waiting for new videos of space and multiverse ', 'Waiting for part 2. And also the video on multiverse ', \"While watching your videos I do think that I should definitely need to take some action on the issues , but somewhere I do think that I'm trapped with an invisible force of not having the knowledge to take the right step if you could do something or someone like me who wants to make the first step. \\n Nice content by the way l've watching your videos since 2 years\", 'you similarly started about bhagwat geeta series, but u later forgot about it \\nwe are waiting for such videos from ur side, we love ur insights on it, please more bhagwat geeta kind of videos', 'Thanks bro thats truth ke ayyega. I have some lines for that which you love and try in your videos', 'Very Very Amazing Video\\nLoved this... and the phylosophical part was... awesome', 'Best video on time travel concept till now ', 'I just loved your intro ', 'That Doraemon Time Travel Scene Was ', \"4.39 \\nA small correction. Einstein's Special theory of relativity deals with E=mc2 \\n & general theory of relativity deals with time and space.\", 'You are my favorite knowledgeable YouTuber ever\\nKeep it up.\\nMultiverse', 'Yes we want a whole series on multiverse ', 'Something  new , very interesting  and  very  intelligent  ', 'Yes we can time travel….but for that we need speed more than light….which is not possible', 'what an intro I just loved it', 'This video made me think, what if I lived forever  if I start thinking deeper, questions like would I be happy living forever, how much money would I have ...just so crazy', 'The intro was sick', 'MULTIVERSE video is need after this. \\nAlso a seperate video on time dilation.', ' last me bhut achha lga or aap bhut achhe se samjte hai', 'The intro was superb\\nAlso we want MULTIVERSE', 'Yes, please make it', 'Very informative. Please keep posting similar videos.', 'Amazing ', 'I think you should make a new channel for topics like this, we want to see the old type of videos only on this channel.', \"They are the best explainers in the world. I thought I'll just learn some science fiction from this video but NO . I learnt how to enjoy time. Not it skip it by time travel \", 'Being who will exist beyond time, will exist for all the time.', 'You guys are amazing', 'Waiting for the Next part ... \\nGood content ', 'Sir abhi Tak aapne hasdeo topic par kuch nahi banaya ..on request sir please do cover it also', 'Very informative ! Thank you for the amazing content ', 'Time travel  bas kuch sec ke liye ho sakta hai lekin din tak nehi ho sakta kabhi bhi hum time travel kar ke apna future nehi dekh sakte kyu ki jo abhi tak future bana hi nehi wo kaise dekh sakte h lekin past mai ja sakte hai kyu ki past ban chuka hai', 'Make videos on vedas & puranas & importance of learning Sanskrit.... ️️', 'This was amazing ', 'Make some video about climate change as we have observed hottest January , collapse of gulf Stream current, worst droughts of Madagascar etc .hope you may answer', 'Amazing ', 'It was really helpful ', 'hey abhi and niyu, thank you for this great video. loved it! but i am really looking forward for your another video on isreal and palestine conflict hoping for it to come soon', 'I often wish, I could go back in time way before covid came and relive all this years again having my present consciousness', 'I believe that time travel is real', '\"Yoga vashista\" is the text if anyone is interested in such concepts. I couldn\\'t digest most of it, because of my limited perception. Yet, it broke many of logics.', 'Make a detailed video on Article 19(A) Electoral bonds...What is it...???', 'Multiverse will be the greatest explanation by you best chennel ever\\nand the very much truth at 12:53 I felt each and every word with background music........best time travel video till now', 'Einstein and Newton were really unique!', 'please make a video on Multiverse', 'Yes we need a video on multivers', 'your video is best as always but by the way Brahama ji swarg pe nahi braham lok pr rehte h', 'No one can explain like abhi and niyu ', 'Pls a video on Multiverse universe. Excited and waiting', 'Past is a memory therefore it is a thought. Future is an imagination and thus a thought. The present is not thought. Therefore only focus on present and do your work what is need to be done.', 'Superb work by the video editing team. Background music & effect is amazing ', 'Light ki speed se travel krne pr aap sirf time me aage ja skte hai, piche nhi aa skte hai, esliye ye pura time travel nhi h.', \"I don't know if it's possible or not but if it will be then please just simply take me back to my childhood i really miss it️ btw love your videos may god give you more and more subscribe ️\", '05:05 When we talk about gravity and space-time, It is given in General Theory of relativity and not Special Theory of Relativity.', 'Please make more videos on time travel', 'All time my favourite topic ', 'Please make a video about Chandigarh mayor elections', 'The ending was great ', 'So much mind touching video \\U0001fae1', 'Need more videos Sir  about time', 'Great job', 'The message was great\\nLive in present.\\nBut come to the real world,\\nAssume you are bachlor with no job, have no money,', 'Goosebumps', 'This would be great to have Video on multiverse', 'Physically time travel is impossible.....ginti ke 25se 30 saal bacche hai uske baad real Interstellar movie start hogi dharti per', 'Editing in this video is next level. Give your video editor a raise :)', 'Best time travel web series Netflix dark ', 'Very nice conclusion.... As always this time also your video is unique because of its conclusion ', 'We want videos on multiverse and more videos on astrophysics. Please \\U0001f979️\\n️  from Bharat', 'TIME DILATION AND TIME TRAVEL KAL HAMARE PHYSICS KE SIR NE BAAT KI THI MOTION KOTA NV SIR \\nGOD OF PHYSICS IN KOTA ', 'Part 2 needed ', 'good effort but bring some different topics we have enough data (theories)on time travel', 'the best dailogue in your videos...\"\"Kya farak parta hay\" ......', \"First explanation of time dialation by Visnu purana . Still our class books don't mention it why?\", \"Bhai aap education content bnate ho I'm agree but syd education me electoral bond jase topic bhi samil hone chaiye unko bhi btaya jaye. I think time travel topic is not worthy for public so please discuss on relevant topics... Thanks \", 'This video is not only about time travel but also a physics and philosophy lecture ', 'Of course sir we want details video multiverse.', 'This is called quality content', \"Nice video.  At the end, the philosophical part is very true and real. We all living in past & future, with  ruining the present. \\n\\nI believe that Time-Travel is 99% science-fiction, not possible. Smoke is the future of its fire, it means future is the product of the past. It depends on past, i.e. not independent.  So in my view, past couldn't be changed. \", 'Thank you ️', 'you are presenting time dilation in complex way. basically when you speed up , the path of  information from one space unit to another space unit increases.\\n\\nDo a small experiment:', 'definetely make a video on multiverse too', 'Crazy edit and sound design work. ', ' I loved the purpose of this video in the end of the video great one ', 'Please make a video on recent farmers protest. I really need a non biased informative video', \"Abhi literally said MASTER OOGUEYY'S dialogue in KUNG FU PANDA  'Yesterday is history tomorrow is mystery and today...... '\", 'Today youtube is nothing but \"old infotainment in new format\".\\nNothing new in his videos is seen.', 'Video recommendation!!! \\n\\nI would love to know about\\n \"Do colors really exist?\" And is this world colorless? I searched about it on internet a lot but still confused ', 'We want multiverse video and more videos like this ️', 'Dear sir, as you tell in video that acc to law of conservation of energy, energy neither be created nor be destroyed, but sir when the universe is formed, from where that huge amount of energy is came??', '@Abhi What about the concept of LOKI s2 ?\\n\\nWe cannot travel back in time but our coinciousness, is it possible ? Like the double slit experiment, IYKYK', \"Last every word was Golden word's\", 'The unique and Knowledgeable topics are worth every second I spend on this channel, MULTIVERSE pe video will also help us gain more knowledge!!!', 'The intro was just fabulous ', 'I think u should have covered time travel experiment of ww2', 'Amazing ', 'Best Explanation Bhaiya ', 'We need video on the multiverse!', 'Wow absolutely amazing. Literally gave me chills. Also about paradoxes and time travellers, maybe time travel to the past is possible but they are restricted from interacting with anyone or anything in any way or form to avoid paradoxes. Also', 'Make video on 8 indian navy officers released by Qatar, cases on them & how india made it possible to bring them back', 'We want more videos about multiverse and Omniverse', 'Sir hum multiverse ke  bare me janna jaii r mujhe intarest haii iss type ke video me', \"Tomorrow is secure if you plan well today, so don't just enjoy today. Today is a gift but tomorrow can be a better gift.\", 'The topic of multiverse  can’t wait', 'Wish could did it and bring back Mom ', 'So well explained ', 'Brother in islam also the incident happened with our prophet mohammed (may peace be upon him) and the name of incident is (Shab-e-miraj) \\nhope you will also understand and research to get to know about it', 'If I could go back in time, I would use current knowledge to bet on sporting events like football or cricket matches.', 'I always admire your videos and efforts ', 'Please make a video on Multiverse.I am really interested to know more facts about it.', 'Last line is heart touching', 'Pls make a video on acharya shri vidhyasagar ji maharaj', 'Energy cannot be created nor can be destroyed, but it could be converted from one form to another, so we just need to remove some energy of any other form from the time we travel into simultaneously', 'Literally yrr just relaxing vdo ', 'Past me travel krne ke liye insaan ko makhiyo ke size ka chota hona pdega.    Jaise Avengers endgame movie me dikhaya hai. Es duniya me chote chote worm holes hai. Jinse pass hone ke liye insaan ko chota hona pdega jo possible nhi esliye time travel possible nhi. But aj se 500 saal baad shyd past me Jana possible ho, agar hum kuch aesa kr paye jisse hmari bones break ho kr khud hi theek ho Jaye to aesa ho skta hai, esliye human evolution ka concept aaya hai. Current humans ki body past me time travel krne ke liye bni hi nhi h. ', 'Respect button for abhi bhaiya ️', 'I love your channel ️   you guys are great ', 'Today I completed DARK series and just after I saw this video ', 'PLEASE EXPLAIN THE MULTIVERSE WITH SCIENTIFIC THEROIES..', 'Please make a video that What is soul', 'Sunday evening scenes in bachelors life be like\\nFriend1: bhai chal na daaru peete hai\\nFriend2: bhai kal office jaana hai nahi ho payega yaar.\\nAbhi: 12:42', \"your all video's is knolage i really like it\", 'Wonderful we need a video about multiverse', 'Would really love a video on multiverse', 'travelling in past comes with some restriction  as you cannot change your past so maybe travelling in past  is possible with some restriction .', 'Much needed message ', 'Bhaiya please make a video on protest of farmers', \"lost in space -'netflix' is one of my most best series\", 'Good one Abhi and Niyu! Well done!', 'please make a video on multiverse. Thanks;)', 'Fascinating ', \"If I speed Up My Watch Time Double And  Do Things Regarding That Time For a Month I'll be in Future Comparatively Normal People But I won't Be Able To Change Things.....So Time Travel Is Possible But We Won't Make Any Changes...\", 'This is what we call Quality Content', 'If you say that time travel exists, then it means that things that have happened before, things that will happen now, and things that will happen in the future are fixed, because only when things are fixed,  then will possible you be able to time travel.', 'My philosophy is that we can go in past but we have to sacrifice all of us now', 'Sir your videos are really informative but I would like to add few things . Ncert Satish Chandra has mentioned about the heroics of Chatrapathi shivagi and his great tactics to counter the Mughals...but yeah we must accept that history is a congregation of events which has good and bad phases too', 'Yes , we want video on multiverse', 'Looking forward for the MULTIVERSE video', 'Entropy is the reason why one cannot reverse time.', 'Next video on Manoj jarange case study (maratha arakshan)', 'Multiverse!! The edit was crazy in this video', 'yeah !!!!!!!!!!!! we definetly want video on multiverse .........................\\\\', 'I was once interested in scientific explanations. As I understood & experienced Spirituality, I realised that the science denies gods & Spirituality. But at the same time trying to reach exactly what they deny. The existence created by god.\\nNot denying science at all.', 'Time Travel, IMO will forever remain in theory. Here are a few thoughts\\n\\n- As humans, we will never achieve or be able to build a technology that can travel or even come close to the speed of light. The current top speed that humans have reached is 39897 km/h, achieved by Apollo 10’s crew. Multiply this by 29000 and you reach approximately the speed of light. And no tech or fuel type can achieve that can drive that kind of speed even in the next 500 years.', 'Hey Ab & Niyu!\\nI recently searched for  the map of Asian countries on Google but it showed me weird images where some part of Jammu & Kashmir is covered by China or Pakistan this made me very restless I want you to make a video about This to make people & government aware as it is an misleading information and also tell us how as an citizen we can take any action on it', 'Amazing content . What a great  finish', 'Bro i suggest you to watch steins gate. It is based on time travel', 'This is called content creation ', 'What a ending ️', 'In theory, time travel is possible using warmholes. We are simply lacking Engineering and technology to do so.', 'Anything that passes the speed of light will become invisible.\\nIf we want to become invisible we only need to move faster than the speed of light.', 'जय श्री हरि महा विष्णु नारायण भगवान ', 'great work!', 'great video and inspiring...', 'I learnt from your video that\\n\"Procastinator is a time traveller\"\\nAm I right?', 'We want a video on multiverse ', 'apperictating the video editing i felt i was watching movie', '9:30 Yes, we want a dedicated video on Multiverse', \"What an INCREDIBLY FASCINATING VIDEO. Thoroughly enjoyed watching this video SO MUCH!! \\nP.S. Loving the 'Lost in Space' B-rolls \", 'Thanks bhaiya aap sahi bol rahe ho lekin kya Bina paise ke aaj ho yaa kal me to jeena vaise bhi mushkil hai', \"How can we travel in time back (or future)? I highly doubt it if it's possible. Because if we are going back in time, how can the same things happen in the past. Is that what time travel means to be able to see what has already happened in the past?\", 'Suggestion for future video-Simpsons Prediction Mystery @abhiandniyu', 'Orry can also be present at 3 different places at the same time', '3:38 Why do people use Vedas/Puranas to prove scientific theories. Vedas and Puranas are used to teach us dharma or how to liberate ourselves from materialism. Spirituality and science are two separate things. Finding Science inside Vedas/Puranas is like finding a gold coin inside a pile of diamonds.', 'Please make a video on multiverse ', 'I love time travel videos', 'Intro bohata tagada tha bai', 'What an epic intro️', \"Hat's off to the editors \", 'Read book name \"Kalihanuvani\" where you easily get understand about Time where Time is not exist for God.\\nIn English this book comes on title \"Immortal Talks\".', 'GREAT VIDEO ', 'Bhaiya ye samjhaiye ki agar future me jana possible hai to agar hum future me enter kiye to future walon ke liye hum past se aaye hain . to kya future walon ke liye past me enter hona possible hoga ?', 'What an intro !!! Fabulous!!', 'I believe Stephen Hawkins is correct, we can travel faster or slower in time but in positive direction only', 'Waiting for the video on multiverse', 'MULTIVERSE\\n\\nThere are several concepts of Multiverse in Hindu Scriptures.\\nPlease make a video on it.', 'Video on multiverse needed!', 'the last 3 minutes was worth it brother', 'The editor deserves a raise', 'Please make a video on North sea', \"If Mr. Steven's theory says that it is not possible to travel in the past, then it means it is possible to travel in the future.\", 'Thanks brother', \"Time travellers don't mention they are time travellers in current era. There are regulations in time travel. On disobeying that travellers are not taken back.\", 'Best as always ', 'We do wanna see video on multiverse', 'Really good content !! Enjoyed it so much.', \"Hello Abhi Niyu! following you guys from a very long time and whenever your videos pop up it's always like Abhi kya Niyu (New) hai?.... i like your content and side view coverage. not discriminating and based on studies...... so i just want to ask you guys a video on Indian news channels their biasedness  towards some political parties and particular ideology. As you know from last 5 farmer protest is going on and causing disturbance in north Indian states media coverage make it more crucial to set the momentum some Channels are completely farmer biased and some are Govt. biased. so a video for making those mistake public and guiding audience how to differentiate between biased and unbiased news. This area is little risky but this can be good for nation making as you guys say......In sabhi choti baato se Hume Farak Padta h..... Bharat ko or behtar Bharat bnane se Hme farak Padta. Jai Hind !\", 'Need a video based on Simpson’s predictions', \"Hello Abhi Niyu! following you guys from a very long time and whenever your videos pop up it's always like Abhi kya Niyu (New) hai?.... i like your content and side view coverage. not discriminating and based on studies...... so i just want to ask you guys a video on Indian news channels their biasedness  towards some political parties and particular ideology. As you know from last 5 farmer protest is going on and causing disturbance in north Indian states media coverage make it more crucial to set the momentum some Channels are completely farmer biased and some are Govt. biased. so a video for making those mistake public and guiding audience how to differentiate between biased and unbiased news. This area is little risky but this can be good for nation making as you guys say......In sabhi choti baato se Hume Farak Padta h..... Bharat ko or behtar Bharat bnane se Hme farak Padta. Jai Hind !\", 'We want multiverse!!!', 'A video on MULTIVERSE please....', 'Last monologue was awesome', 'We want a multiverse video!', 'Please make a video on multiverse ', 'Just thinking how you write these dialogues ', 'Intresting ', 'when didi say corer n when bhiya say ghanta i like that', 'But time will always move forward , it’s just that our relative clock is different', 'He really quoted master oogway', 'We need multiverse video!', 'We want video on “MULTIVERSE”', 'If you goes to deeper in physics then you realise we see the world is a drop in ocean.', 'We need a MULTIVERSE video', 'Abhi samajh aaya bhagwan shree Krishna ji ne bhagwat Geeta me yahi samjhaya hai ki Vartmaan me jiyo', 'correction: 8:36 the law that doesnot permit past travel is the 2nd law of thermodynamics based on entropy', 'Please make a video for multiverse', 'Multiverse is needed', 'Informative and ending was a great message', 'Only the movie \"LUCY\" was the best movie based on time travel , I hope to see the sequel of this movie ', 'actually i was struggling with joker thanks for making it easy i knew it was a weak heart misguided free spirit and no ethics that caused the joker', 'You better make a video on multiverse quickly ', 'Always inspired me as your knowledgeable videos!  Thank you both ', \"If you don't smoke pot and aren't enlightened by this video no matter how many times you've seen such videos than you are not the soul which could achieve enlightenment\", \"Bro it's actually according to Einstein.. that we cannot travel in past....  and not as per hawkings\\n\\nRead in depth about the limits of speed of light..\", 'The ending....', 'WE WANT JUSTICE, UP POLICE PAPER LEAK.... Abhi Sir PLS SUPPORT US  WE WANT RE-EXAM....', 'What a video bro \\U0001fae1\\U0001fae1 Love your content', 'What a editing man!!', 'WE WANT JUSTICE, UP POLICE PAPER LEAK.... Abhi Sir PLS SUPPORT US  WE WANT RE-EXAM....', '13:17 touch the perfection ', 'Dr. Strange in Multiverse\\nAbhi and Niyu in Multiverse', 'Video Editor entering God Mode ', \"Take that gift\\nYesterday is history, tomorrow is a mystery, today is a gift. That's why we call it 'The Present \", 'Excellent use of generative ai', 'This content never getting old ', 'Ek no video', 'The most waited video ', '13:21 Goosebumps ', 'MULTIVERSE\\nhi abhi & niyu + team, pls include Sadhguru as guest on you r channel for such Science & Philosophy videos', 'MULTIVERSE\\nMULTIVERSE\\nMULTIVERSE\\nMULTIVERSE', 'Thank you ', '\" Yesterday is history\\nTomorrow is a mystery\\nToday is a Gift\\nThat\\'s why we call it PRESENT. \" ', 'That intro ', 'Plz do video on multiverse ', 'if you go faster than light you essentially become a blackhole because of the energy required', 'Current world  news provide kijiye ...?????', 'Yes we want a video on MULTIVERSE ️️️️', \"If he's moving at 99.5% speed of light for 2.5 yrs, then at the end of 2.5 years, he should've been 2.5 years younger to the rest of them. When you say 2.5 years, then it should've been relative to one of them, here it should've been earth as the time would've stopped for these 2 people. At light speed time stops\", 'Please make a video on multiverse.', 'Really good content with splendid knowledge please make more video on multiverse and philosophy ', 'WE WANT JUSTICE, UP POLICE PAPER LEAK.... Abhi Sir PLS SUPPORT US  WE WANT RE-EXAM....', \"That's really an amazing quote from kung fu panda movie!\", \"Sir & Ma'am\\nJust had a question, As you mentioned we can physically not travel into the past but can't we mentally see our past. As our brain stores all of our experiences can't we just extract that from our mind and create a virtual 3d environment in which we are physically experiencing our past. This way the Grandfather paradox will not be effected. So isn't this conditionally time travel \", 'I have a doubt - \\nIf we have the technology of observing the earth from a far away planet, If we have the technology to travel faster than the speed of light, We can travel to a far away planet and reach there before the light from the Earth reaches, We can see the past!!', \"First of all - MULTIVERSE!!!\\nSecondly, in our day to day praying practices even, why aren't we referring to books like vishnu purana and discussing such stories?. Why are we just stuck with shloks, aartis and mantras (not saying we shouldn't)?\", 'As a time traveler I can say that all those are right ', 'You can not beat the time,time runs on its own way..no time travel ', 'Me-best example of theory                  of relativity. \\nTeacher- ramayan and Mahabharata', 'We want video on MULTIVERSE', 'Amazing ', 'i want multiverse video', 'Amazing ', 'you guys are awesome...Stay blessed....waiting eagerly for Multiverse video', 'Yeah please make a video on multiverse', 'I want a multiverse video', 'Video on multiverse ', 'Amazing', 'Nothing is there if there is time travel then there is so much changed in world already ', 'Plz make a video on multiverse also', '0:49 - 2:03 Whoever did that editing needs a pay raise, that was freaking amazing!', 'Looking toward is looking into past', \"13:16 i read the sentence in my mind in master oogway's voice\", 'We want Multiverse ', 'Ending main apne \"Kung fu Panda\" Movie se dialogue chura liya.. But very nice video', 'Yaar tum itne pyaar se like share and subscribe ke liye bolte ho ki kerna padta hai .... Or kisi me ye feel nhi aata .... ', \"Time travel to the past doesn't always mean to kill your grand-parent... Ghisa-pita theories.... What if we travel to our past just to watch it from a distance without causing any interruption or disturbance?\", 'Awsome', 'Simpsons future prediction video banaye ek️', \"No, I don't think so, see Time Dilation does slow the time for you with respect to the time of the normal world, causing the normal world to go ahead in time at normal pace which is faster than yours which results in the world developing faster than you which when your time gets normalized when you slow down to a slow speed(slow speed in terms of speed of light which is 299,792,458 meters per second) or escape extreme gravitational influence(like going significantly away from a black hole), your time starts getting equal to the time of the world , so everything is revolving around time dilation which deals with manipulating the speed of time it passes by for you, but the actual concept like jumping in time and going to any other point of time is not possible.\", 'Need video on MULTIVERSE', 'Yesterday is history\\nTomorrow is a mystery\\nBut today is a gift \\nThat is why it is called present ', 'That kung-fu panda dialogue hits different '] ['10 days ago', '10 days ago', '10 days ago', '10 days ago (edited)', '8 days ago', '9 days ago', '7 days ago', '10 days ago', '9 days ago', '9 days ago (edited)', '6 days ago', '9 days ago', '1 day ago', '10 days ago', '9 days ago', '9 days ago', '8 days ago (edited)', '9 days ago (edited)', '6 days ago', '9 days ago', '10 days ago', '9 days ago', '1 day ago', '10 days ago', '6 days ago', '10 days ago', '10 days ago (edited)', '9 days ago', '7 days ago', '9 days ago', '6 days ago', '9 days ago', '9 days ago', '9 days ago', '1 day ago', '9 days ago', '6 days ago', '10 days ago', '9 days ago (edited)', '9 days ago', '8 days ago', '10 days ago', '7 days ago', '9 days ago', '10 days ago', '10 days ago', '7 days ago', '9 days ago', '7 days ago', '9 days ago (edited)', '9 days ago', '9 days ago', '8 days ago', '9 days ago', '7 days ago', '10 days ago (edited)', '9 days ago', '7 days ago', '10 days ago', '2 days ago', '10 days ago', '9 days ago', '9 days ago', '7 days ago', '9 days ago', '8 days ago', '9 days ago', '10 days ago', '10 days ago', '7 days ago', '9 days ago', '8 days ago', '9 days ago', '9 days ago', '9 days ago', '5 days ago', '9 days ago', '23 hours ago', '9 days ago', '9 days ago', '9 days ago', '6 days ago', '10 days ago', '6 days ago', '9 days ago', '9 days ago', '9 days ago', '6 days ago', '10 days ago', '6 days ago', '10 days ago', '9 days ago', '9 days ago (edited)', '3 days ago', '9 days ago', '9 hours ago', '10 days ago', '9 days ago', '9 days ago', '2 days ago', '8 days ago', '8 days ago', '10 days ago (edited)', '10 days ago', '9 days ago', '7 days ago', '10 days ago', '1 day ago', '9 days ago', '9 days ago', '9 days ago', '5 days ago', '9 days ago', '7 days ago (edited)', '9 days ago', '9 days ago', '9 days ago', '4 days ago', '9 days ago', '1 day ago', '9 days ago', '10 days ago', '10 days ago', '12 hours ago', '10 days ago', '6 days ago (edited)', '9 days ago', '9 days ago', '9 days ago', '1 day ago', '9 days ago', '6 days ago', '9 days ago', '9 days ago', '9 days ago', '2 days ago', '9 days ago', '4 days ago', '9 days ago (edited)', '9 days ago', '9 days ago', '8 days ago', '9 days ago', '3 days ago', '10 days ago', '9 days ago', '9 days ago', '5 days ago', '9 days ago', '7 days ago', '10 days ago', '9 days ago', '10 days ago', '7 days ago', '9 days ago', '5 days ago', '9 days ago', '9 days ago', '9 days ago', '8 days ago', '9 days ago (edited)', '8 days ago', '10 days ago (edited)', '9 days ago', '8 days ago (edited)', '9 days ago', '7 days ago', '9 days ago', '9 days ago', '4 days ago', '8 days ago', '3 days ago', '9 days ago', '10 days ago', '2 days ago (edited)', '10 days ago', '5 hours ago', '9 days ago', '9 days ago', '1 day ago', '7 days ago', '9 days ago', '9 days ago', '2 days ago', '9 days ago', '6 days ago', '10 days ago', '9 days ago', '8 days ago', '9 days ago', '6 days ago', '9 days ago', '10 days ago', '6 days ago', '9 days ago', '2 days ago', '9 days ago', '9 days ago', '5 days ago', '9 days ago', '7 days ago', '9 days ago', '5 days ago', '10 days ago', '7 days ago', '9 days ago', '9 days ago', '1 day ago (edited)', '9 days ago', '1 day ago', '9 days ago', '7 days ago', '2 days ago', '5 days ago (edited)', '9 days ago', '5 days ago', '7 days ago', '9 days ago', '8 days ago (edited)', '5 days ago', '4 days ago', '6 days ago', '5 days ago', '9 days ago', '9 days ago', '9 days ago', '10 days ago', '10 days ago', '8 days ago', '9 days ago', '6 days ago', '10 days ago', '9 days ago', '7 days ago', '8 days ago', '6 days ago', '9 days ago', '7 days ago', '3 days ago', '8 days ago', '9 days ago', '9 days ago (edited)', '7 days ago', '9 days ago', '7 days ago', '9 days ago', '9 days ago', '1 day ago', '9 days ago (edited)', '8 days ago', '5 days ago', '10 days ago (edited)', '2 days ago (edited)', '10 days ago', '7 days ago (edited)', '9 days ago', '7 days ago', '7 days ago', '5 days ago', '6 hours ago', '9 days ago', '9 days ago', '6 days ago', '10 days ago', '2 days ago', '9 days ago', '9 days ago', '17 minutes ago', '9 days ago', '8 days ago (edited)', '9 days ago (edited)', '9 days ago (edited)', '5 days ago', '7 days ago', '7 days ago', '9 days ago', '5 days ago', '6 days ago', '6 days ago', '7 days ago', '9 days ago', '10 days ago', '5 days ago', '9 days ago', '2 days ago', '10 days ago', '9 days ago', '7 days ago', '9 days ago', '2 days ago', '9 days ago', '9 days ago', '4 days ago', '6 days ago', '8 days ago', '8 days ago', '9 days ago', '7 days ago', '9 days ago', '7 days ago', '7 days ago', '9 days ago', '7 days ago', '10 days ago', '7 days ago', '9 days ago', '8 days ago', '5 days ago', '10 days ago', '8 days ago', '4 days ago', '8 days ago', '7 days ago', '9 days ago', '6 days ago', '9 days ago', '8 days ago', '5 days ago', '8 days ago (edited)', '6 days ago', '8 days ago', '7 days ago', '7 days ago', '10 days ago', '8 days ago', '9 days ago', '9 days ago', '7 days ago', '2 days ago', '7 days ago', '7 days ago', '9 days ago', '8 days ago', '4 days ago', '6 days ago', '9 days ago', '1 day ago', '3 days ago', '9 days ago', '5 days ago', '9 days ago', '7 days ago', '7 days ago', '10 days ago', '5 days ago', '9 days ago', '9 days ago', '5 days ago', '9 days ago (edited)', '7 days ago', '7 days ago', '6 days ago', '5 days ago', '3 days ago', '8 days ago', '9 days ago', '4 days ago', '7 days ago', '4 days ago', '8 days ago', '7 days ago', '9 days ago', '7 days ago', '2 days ago', '3 days ago', '2 days ago', '9 days ago', '7 days ago', '7 days ago', '7 days ago', '10 days ago', '9 days ago', '6 days ago', '2 days ago', '8 days ago', '9 days ago', '10 days ago', '7 days ago', '10 days ago', '6 days ago', '9 days ago', '1 day ago', '8 days ago', '9 days ago', '7 days ago', '9 days ago', '9 days ago', '7 days ago (edited)', '6 days ago (edited)', '5 days ago (edited)', '9 days ago (edited)', '10 days ago', '8 days ago', '8 days ago', '5 days ago', '6 days ago', '10 days ago', '7 days ago (edited)', '9 days ago', '8 days ago', '7 days ago', '10 days ago', '6 days ago', '9 days ago', '8 days ago', '9 days ago', '9 days ago', '8 days ago', '9 days ago', '4 days ago', '9 days ago', '7 days ago', '6 days ago', '6 days ago', '7 days ago', '3 days ago', '7 days ago', '10 days ago', '6 days ago', '9 days ago', '9 days ago', '3 days ago', '9 days ago', '7 days ago', '7 days ago', '9 days ago', '5 days ago', '9 days ago', '8 days ago', '9 days ago', '9 days ago', '5 days ago', '5 days ago', '1 day ago', '7 days ago', '4 days ago', '7 days ago', '19 hours ago', '8 days ago', '9 days ago', '5 days ago', '1 day ago (edited)', '7 days ago', '2 days ago', '8 days ago', '2 days ago', '2 days ago', '9 days ago (edited)', '4 days ago', '10 days ago', '7 days ago', '2 days ago', '8 days ago', '7 days ago', '8 days ago', '9 days ago', '7 days ago', '10 days ago', '7 days ago', '9 days ago', '9 days ago', '1 day ago', '4 days ago', '7 days ago', '9 days ago', '9 days ago', '6 days ago', '9 days ago', '2 days ago', '7 days ago', '10 days ago', '6 days ago', '9 days ago', '5 days ago', '5 days ago', '10 days ago', '7 days ago', '5 days ago', '1 day ago', '9 days ago', '9 days ago', '7 days ago', '9 days ago', '6 days ago', '8 days ago', '9 days ago', '6 days ago', '9 days ago', '6 days ago', '9 days ago (edited)', '9 days ago', '7 days ago', '3 days ago', '9 days ago', '4 days ago', '5 days ago', '8 days ago', '7 days ago', '8 days ago', '9 days ago']\n"
     ]
    }
   ],
   "source": [
    "print(comments, comment_time)"
   ]
  },
  {
   "cell_type": "code",
   "execution_count": null,
   "id": "4a268708",
   "metadata": {
    "scrolled": true
   },
   "outputs": [],
   "source": []
  },
  {
   "cell_type": "markdown",
   "id": "070d40c4",
   "metadata": {
    "scrolled": true
   },
   "source": [
    "## End of Assignment"
   ]
  }
 ],
 "metadata": {
  "kernelspec": {
   "display_name": "Python 3 (ipykernel)",
   "language": "python",
   "name": "python3"
  },
  "language_info": {
   "codemirror_mode": {
    "name": "ipython",
    "version": 3
   },
   "file_extension": ".py",
   "mimetype": "text/x-python",
   "name": "python",
   "nbconvert_exporter": "python",
   "pygments_lexer": "ipython3",
   "version": "3.10.9"
  }
 },
 "nbformat": 4,
 "nbformat_minor": 5
}
