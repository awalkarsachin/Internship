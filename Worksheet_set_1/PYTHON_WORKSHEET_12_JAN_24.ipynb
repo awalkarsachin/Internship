{
 "cells": [
  {
   "cell_type": "markdown",
   "id": "578ed536",
   "metadata": {},
   "source": [
    "### Name – Sachin Subhash Awalkar\n",
    "#### Batch No – DS2312\n",
    "#### Subject – PYTHON WORKSHEET 1\n",
    "#### Date – 12-01-2024"
   ]
  },
  {
   "cell_type": "markdown",
   "id": "9c1d709f",
   "metadata": {},
   "source": [
    "# PYTHON – WORKSHEET 1"
   ]
  },
  {
   "cell_type": "markdown",
   "id": "a156be89",
   "metadata": {},
   "source": [
    "#### 1. Which of the following operators is used to calculate remainder in a division?\n",
    "    A) #             B) &\n",
    "    C) %             D) $\n",
    "\n",
    "`Answer - C) %`\n"
   ]
  },
  {
   "cell_type": "markdown",
   "id": "0e6d6193",
   "metadata": {},
   "source": [
    "#### 2. In python 2//3 is equal to?\n",
    "    A) 0.666         B) 0\n",
    "    C) 1             D) 0.67\n",
    "\n",
    "`Answer - B) 0`"
   ]
  },
  {
   "cell_type": "code",
   "execution_count": 1,
   "id": "9adcdd78",
   "metadata": {},
   "outputs": [
    {
     "data": {
      "text/plain": [
       "0"
      ]
     },
     "execution_count": 1,
     "metadata": {},
     "output_type": "execute_result"
    }
   ],
   "source": [
    "2//3"
   ]
  },
  {
   "cell_type": "markdown",
   "id": "c90bf64b",
   "metadata": {},
   "source": [
    "#### 3. In python, 6<<2 is equal to?\n",
    "    A) 36            B) 10\n",
    "    C) 24            D) 45\n",
    "\n",
    "`Answer - C) 24`"
   ]
  },
  {
   "cell_type": "code",
   "execution_count": 2,
   "id": "e380ab26",
   "metadata": {},
   "outputs": [
    {
     "data": {
      "text/plain": [
       "24"
      ]
     },
     "execution_count": 2,
     "metadata": {},
     "output_type": "execute_result"
    }
   ],
   "source": [
    "6<<2"
   ]
  },
  {
   "cell_type": "markdown",
   "id": "1d2d022f",
   "metadata": {},
   "source": [
    "#### 4. In python, 6&2 will give which of the following as output?\n",
    "    A) 2             B) True\n",
    "    C) False         D) 0\n",
    "\n",
    "`Answer - A) 2`"
   ]
  },
  {
   "cell_type": "code",
   "execution_count": 3,
   "id": "a489ffe2",
   "metadata": {},
   "outputs": [
    {
     "data": {
      "text/plain": [
       "2"
      ]
     },
     "execution_count": 3,
     "metadata": {},
     "output_type": "execute_result"
    }
   ],
   "source": [
    "6&2"
   ]
  },
  {
   "cell_type": "markdown",
   "id": "8f048ab1",
   "metadata": {},
   "source": [
    "#### 5. In python, 6|2 will give which of the following as output?\n",
    "    A) 2             B) 4\n",
    "    C) 0             D) 6\n",
    "\n",
    "`Answer - D) 6`"
   ]
  },
  {
   "cell_type": "code",
   "execution_count": 4,
   "id": "a8aee66f",
   "metadata": {},
   "outputs": [
    {
     "data": {
      "text/plain": [
       "6"
      ]
     },
     "execution_count": 4,
     "metadata": {},
     "output_type": "execute_result"
    }
   ],
   "source": [
    "6|2"
   ]
  },
  {
   "cell_type": "markdown",
   "id": "100f9118",
   "metadata": {},
   "source": [
    "#### 6. What does the finally keyword denotes in python?\n",
    "    A) It is used to mark the end of the code\n",
    "    B) It encloses the lines of code which will be executed if any error occurs while executing the lines of code in\n",
    "    the try block.\n",
    "    C) The finally block will be executed no matter if the try block raises an error or not.\n",
    "    D) None of the above\n",
    "\n",
    "`Answer - C) The finally block will be executed no matter if the try block raises an error or not.`"
   ]
  },
  {
   "cell_type": "markdown",
   "id": "f091daa9",
   "metadata": {},
   "source": [
    "#### 7. What does raise keyword is used for in python?\n",
    "    A) It is used to raise an exception.\n",
    "    B) It is used to define lambda function\n",
    "    C) it's not a keyword in python.\n",
    "    D) None of the above\n",
    "\n",
    "`Answer - A) It is used to raise an exception.`"
   ]
  },
  {
   "cell_type": "markdown",
   "id": "424f9886",
   "metadata": {},
   "source": [
    "#### 8. Which of the following is a common use case of yield keyword in python?\n",
    "    A) in defining an iterator         B) while defining a lambda function\n",
    "    C) in defining a generator         D) in for loop.\n",
    "\n",
    "`Answer - C) in defining a generator`"
   ]
  },
  {
   "cell_type": "markdown",
   "id": "513e2e8d",
   "metadata": {},
   "source": [
    "### Q9 and Q10 have multiple correct answers. Choose all the correct options to answer your question.\n",
    "\n",
    "#### 9. Which of the following are the valid variable names?\n",
    "    A) _abc           B) 1abc\n",
    "    C) abc2           D) None of the above\n",
    "\n",
    "`Answer - A) _abc     C) abc2`"
   ]
  },
  {
   "cell_type": "code",
   "execution_count": 5,
   "id": "287ab2de",
   "metadata": {},
   "outputs": [
    {
     "name": "stdout",
     "output_type": "stream",
     "text": [
      "A C\n"
     ]
    }
   ],
   "source": [
    "_abc = 'A'\n",
    "abc2 = 'C'\n",
    "\n",
    "print(_abc,abc2)"
   ]
  },
  {
   "cell_type": "markdown",
   "id": "0017cf2c",
   "metadata": {},
   "source": [
    "#### 10. Which of the following are the keywords in python?\n",
    "    A) yield          B) raise\n",
    "    C) look-in        D) all of the above\n",
    "\n",
    "`Answer - A) yield    B) raise`"
   ]
  },
  {
   "cell_type": "markdown",
   "id": "8bbbee7d",
   "metadata": {},
   "source": [
    "### Q11 to Q15 are programming questions. Answer them in Jupyter Notebook.\n",
    "\n",
    "#### 11. Write a python program to find the factorial of a number.\n",
    "\n"
   ]
  },
  {
   "cell_type": "code",
   "execution_count": 6,
   "id": "641e54c0",
   "metadata": {
    "scrolled": true
   },
   "outputs": [
    {
     "name": "stdout",
     "output_type": "stream",
     "text": [
      "Enter any number: 5\n",
      "The factorial of entered number is 120\n"
     ]
    }
   ],
   "source": [
    "Number = int(input(\"Enter any number: \"))    \n",
    "\n",
    "factorial = 1    \n",
    "\n",
    "if Number < 0:\n",
    "    print(\" Please enter only natural numbers\")    \n",
    "elif Number == 0:\n",
    "    print(\"The factorial of 0 is 1\")    \n",
    "else:\n",
    "    for Ans_11 in range(1,Number + 1):\n",
    "        factorial = factorial * Ans_11\n",
    "    print(\"The factorial of entered number is\", factorial)"
   ]
  },
  {
   "cell_type": "markdown",
   "id": "ce1d8e0b",
   "metadata": {},
   "source": [
    "#### 12. Write a python program to find whether a number is prime or composite."
   ]
  },
  {
   "cell_type": "code",
   "execution_count": 7,
   "id": "1dd2c0ad",
   "metadata": {},
   "outputs": [
    {
     "name": "stdout",
     "output_type": "stream",
     "text": [
      "Enter any Natural Number : 10\n",
      "Entered number is not a Prime Number\n"
     ]
    }
   ],
   "source": [
    "Number = int(input(\"Enter any Natural Number : \"))\n",
    "\n",
    "if Number > 1:\n",
    "    for i in range(2, Number):\n",
    "        if (Number % i) == 0:        \n",
    "            print(\"Entered number is not a Prime Number\")\n",
    "            break\n",
    "    else:\n",
    "        print(\"Entered number is a Prime Number\")\n",
    "\n",
    "else:\n",
    "    print(\"Entered number is a Real Number. Please enter only natural numbers\")  "
   ]
  },
  {
   "cell_type": "markdown",
   "id": "ae68124c",
   "metadata": {},
   "source": [
    "#### 13. Write a python program to check whether a given string is palindrome or not."
   ]
  },
  {
   "cell_type": "code",
   "execution_count": 8,
   "id": "e85602de",
   "metadata": {},
   "outputs": [
    {
     "name": "stdout",
     "output_type": "stream",
     "text": [
      "Enter string:    coco\n",
      "Entered string is not a Palindrome.\n"
     ]
    }
   ],
   "source": [
    "def isPalindrome(Ans_13):\n",
    "    if (Ans_13 == Ans_13 [:: -1]):\n",
    "        return (\"Entered string is a Palindrome.\")\n",
    "    else:\n",
    "        return (\"Entered string is not a Palindrome.\")\n",
    "\n",
    "Ans_13 = input (\"Enter string:    \")\n",
    "\n",
    "print (isPalindrome(Ans_13))"
   ]
  },
  {
   "cell_type": "markdown",
   "id": "f80eb14f",
   "metadata": {},
   "source": [
    "#### 14. Write a Python program to get the third side of right-angled triangle from two given sides."
   ]
  },
  {
   "cell_type": "code",
   "execution_count": 9,
   "id": "077fd280",
   "metadata": {},
   "outputs": [
    {
     "name": "stdout",
     "output_type": "stream",
     "text": [
      "Enter base diamension   :   4\n",
      "Enter height diamension :   3\n",
      "Hypotenuse              =   5.0\n"
     ]
    }
   ],
   "source": [
    "import math\n",
    "\n",
    "Base   = float(input(\"Enter base diamension   :   \"))\n",
    "Height = float(input(\"Enter height diamension :   \"))\n",
    "\n",
    "Hypotenues = math.sqrt(Base ** 2 + Height ** 2)\n",
    "\n",
    "print(\"Hypotenuse              =  \", Hypotenues)"
   ]
  },
  {
   "cell_type": "markdown",
   "id": "49089190",
   "metadata": {},
   "source": [
    "#### 15. Write a python program to print the frequency of each of the characters present in a given string."
   ]
  },
  {
   "cell_type": "code",
   "execution_count": 10,
   "id": "0842c4ef",
   "metadata": {},
   "outputs": [
    {
     "name": "stdout",
     "output_type": "stream",
     "text": [
      "Enter Any String:   filp robo data trained\n",
      "The frequency of each characters present in given string is :\n",
      " {'f': 1, 'i': 2, 'l': 1, 'p': 1, ' ': 3, 'r': 2, 'o': 2, 'b': 1, 'd': 2, 'a': 3, 't': 2, 'n': 1, 'e': 1}\n"
     ]
    }
   ],
   "source": [
    "string = input(\"Enter Any String:   \")\n",
    " \n",
    "Ans_15 = {}\n",
    " \n",
    "for check_freq in string:\n",
    "    \n",
    "    if check_freq in Ans_15:\n",
    "        Ans_15[check_freq] += 1\n",
    "        \n",
    "    else:\n",
    "        Ans_15[check_freq] = 1\n",
    "\n",
    "print(\"The frequency of each characters present in given string is :\\n \" + str(Ans_15))"
   ]
  },
  {
   "cell_type": "markdown",
   "id": "4248098a",
   "metadata": {},
   "source": [
    "## End of Assignment"
   ]
  }
 ],
 "metadata": {
  "kernelspec": {
   "display_name": "Python 3 (ipykernel)",
   "language": "python",
   "name": "python3"
  },
  "language_info": {
   "codemirror_mode": {
    "name": "ipython",
    "version": 3
   },
   "file_extension": ".py",
   "mimetype": "text/x-python",
   "name": "python",
   "nbconvert_exporter": "python",
   "pygments_lexer": "ipython3",
   "version": "3.10.9"
  }
 },
 "nbformat": 4,
 "nbformat_minor": 5
}
